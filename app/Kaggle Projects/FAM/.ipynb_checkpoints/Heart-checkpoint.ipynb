{
 "cells": [
  {
   "cell_type": "markdown",
   "id": "afdf033c",
   "metadata": {},
   "source": [
    "# Imbalance Data"
   ]
  },
  {
   "cell_type": "code",
   "execution_count": 1,
   "id": "d0e4e8a8",
   "metadata": {},
   "outputs": [],
   "source": [
    "import pandas as pd\n",
    "import numpy  as np\n",
    "from sklearn.model_selection import train_test_split\n",
    "from sklearn.preprocessing import StandardScaler\n",
    "from sklearn.preprocessing import LabelEncoder\n",
    "from sklearn.compose import ColumnTransformer\n",
    "from sklearn.preprocessing import OneHotEncoder\n",
    "from sklearn import metrics\n",
    "import random\n",
    "from sklearn.utils import resample"
   ]
  },
  {
   "cell_type": "code",
   "execution_count": 2,
   "id": "607101a5",
   "metadata": {},
   "outputs": [],
   "source": [
    "n = 5000\n",
    "skip = sorted(random.sample(range(1,319795),319795-n))\n",
    "DF = pd.read_csv('../../datasets/heart_2020_cleaned.csv',skiprows=skip).reset_index().rename(columns={'index':'id'})"
   ]
  },
  {
   "cell_type": "code",
   "execution_count": 3,
   "id": "fec2473d",
   "metadata": {},
   "outputs": [],
   "source": [
    "CatCols = [\n",
    "    'Smoking','AlcoholDrinking','Stroke','DiffWalking','Sex','AgeCategory','Race','Diabetic',\n",
    "    'PhysicalActivity','GenHealth','Asthma','KidneyDisease','SkinCancer'\n",
    "]\n",
    "NumCols = [\n",
    "    'BMI', 'PhysicalHealth', 'MentalHealth', 'SleepTime'\n",
    "]\n",
    "\n",
    "X = DF[DF.columns.difference(['id','HeartDisease'])]\n",
    "Y = DF['HeartDisease']"
   ]
  },
  {
   "cell_type": "code",
   "execution_count": 4,
   "id": "df122b59",
   "metadata": {},
   "outputs": [
    {
     "data": {
      "text/html": [
       "<div>\n",
       "<style scoped>\n",
       "    .dataframe tbody tr th:only-of-type {\n",
       "        vertical-align: middle;\n",
       "    }\n",
       "\n",
       "    .dataframe tbody tr th {\n",
       "        vertical-align: top;\n",
       "    }\n",
       "\n",
       "    .dataframe thead th {\n",
       "        text-align: right;\n",
       "    }\n",
       "</style>\n",
       "<table border=\"1\" class=\"dataframe\">\n",
       "  <thead>\n",
       "    <tr style=\"text-align: right;\">\n",
       "      <th></th>\n",
       "      <th>AgeCategory</th>\n",
       "      <th>AlcoholDrinking</th>\n",
       "      <th>Asthma</th>\n",
       "      <th>BMI</th>\n",
       "      <th>Diabetic</th>\n",
       "      <th>DiffWalking</th>\n",
       "      <th>GenHealth</th>\n",
       "      <th>KidneyDisease</th>\n",
       "      <th>MentalHealth</th>\n",
       "      <th>PhysicalActivity</th>\n",
       "      <th>PhysicalHealth</th>\n",
       "      <th>Race</th>\n",
       "      <th>Sex</th>\n",
       "      <th>SkinCancer</th>\n",
       "      <th>SleepTime</th>\n",
       "      <th>Smoking</th>\n",
       "      <th>Stroke</th>\n",
       "    </tr>\n",
       "  </thead>\n",
       "  <tbody>\n",
       "    <tr>\n",
       "      <th>0</th>\n",
       "      <td>65-69</td>\n",
       "      <td>No</td>\n",
       "      <td>No</td>\n",
       "      <td>35.51</td>\n",
       "      <td>Yes</td>\n",
       "      <td>Yes</td>\n",
       "      <td>Fair</td>\n",
       "      <td>No</td>\n",
       "      <td>0.0</td>\n",
       "      <td>Yes</td>\n",
       "      <td>10.0</td>\n",
       "      <td>White</td>\n",
       "      <td>Male</td>\n",
       "      <td>No</td>\n",
       "      <td>8.0</td>\n",
       "      <td>Yes</td>\n",
       "      <td>No</td>\n",
       "    </tr>\n",
       "    <tr>\n",
       "      <th>1</th>\n",
       "      <td>80 or older</td>\n",
       "      <td>No</td>\n",
       "      <td>No</td>\n",
       "      <td>28.29</td>\n",
       "      <td>No</td>\n",
       "      <td>Yes</td>\n",
       "      <td>Poor</td>\n",
       "      <td>No</td>\n",
       "      <td>3.0</td>\n",
       "      <td>No</td>\n",
       "      <td>30.0</td>\n",
       "      <td>White</td>\n",
       "      <td>Female</td>\n",
       "      <td>Yes</td>\n",
       "      <td>4.0</td>\n",
       "      <td>No</td>\n",
       "      <td>Yes</td>\n",
       "    </tr>\n",
       "    <tr>\n",
       "      <th>2</th>\n",
       "      <td>80 or older</td>\n",
       "      <td>No</td>\n",
       "      <td>Yes</td>\n",
       "      <td>30.61</td>\n",
       "      <td>No</td>\n",
       "      <td>Yes</td>\n",
       "      <td>Fair</td>\n",
       "      <td>No</td>\n",
       "      <td>8.0</td>\n",
       "      <td>Yes</td>\n",
       "      <td>0.0</td>\n",
       "      <td>White</td>\n",
       "      <td>Female</td>\n",
       "      <td>No</td>\n",
       "      <td>9.0</td>\n",
       "      <td>No</td>\n",
       "      <td>No</td>\n",
       "    </tr>\n",
       "    <tr>\n",
       "      <th>3</th>\n",
       "      <td>75-79</td>\n",
       "      <td>No</td>\n",
       "      <td>No</td>\n",
       "      <td>27.50</td>\n",
       "      <td>No</td>\n",
       "      <td>No</td>\n",
       "      <td>Fair</td>\n",
       "      <td>No</td>\n",
       "      <td>0.0</td>\n",
       "      <td>Yes</td>\n",
       "      <td>4.0</td>\n",
       "      <td>Black</td>\n",
       "      <td>Male</td>\n",
       "      <td>No</td>\n",
       "      <td>8.0</td>\n",
       "      <td>Yes</td>\n",
       "      <td>Yes</td>\n",
       "    </tr>\n",
       "    <tr>\n",
       "      <th>4</th>\n",
       "      <td>75-79</td>\n",
       "      <td>No</td>\n",
       "      <td>No</td>\n",
       "      <td>34.70</td>\n",
       "      <td>Yes</td>\n",
       "      <td>No</td>\n",
       "      <td>Fair</td>\n",
       "      <td>No</td>\n",
       "      <td>0.0</td>\n",
       "      <td>No</td>\n",
       "      <td>2.0</td>\n",
       "      <td>White</td>\n",
       "      <td>Female</td>\n",
       "      <td>Yes</td>\n",
       "      <td>10.0</td>\n",
       "      <td>Yes</td>\n",
       "      <td>Yes</td>\n",
       "    </tr>\n",
       "  </tbody>\n",
       "</table>\n",
       "</div>"
      ],
      "text/plain": [
       "   AgeCategory AlcoholDrinking Asthma    BMI Diabetic DiffWalking GenHealth  \\\n",
       "0        65-69              No     No  35.51      Yes         Yes      Fair   \n",
       "1  80 or older              No     No  28.29       No         Yes      Poor   \n",
       "2  80 or older              No    Yes  30.61       No         Yes      Fair   \n",
       "3        75-79              No     No  27.50       No          No      Fair   \n",
       "4        75-79              No     No  34.70      Yes          No      Fair   \n",
       "\n",
       "  KidneyDisease  MentalHealth PhysicalActivity  PhysicalHealth   Race     Sex  \\\n",
       "0            No           0.0              Yes            10.0  White    Male   \n",
       "1            No           3.0               No            30.0  White  Female   \n",
       "2            No           8.0              Yes             0.0  White  Female   \n",
       "3            No           0.0              Yes             4.0  Black    Male   \n",
       "4            No           0.0               No             2.0  White  Female   \n",
       "\n",
       "  SkinCancer  SleepTime Smoking Stroke  \n",
       "0         No        8.0     Yes     No  \n",
       "1        Yes        4.0      No    Yes  \n",
       "2         No        9.0      No     No  \n",
       "3         No        8.0     Yes    Yes  \n",
       "4        Yes       10.0     Yes    Yes  "
      ]
     },
     "execution_count": 4,
     "metadata": {},
     "output_type": "execute_result"
    }
   ],
   "source": [
    "X.head()"
   ]
  },
  {
   "cell_type": "code",
   "execution_count": 5,
   "id": "e1c52e0d",
   "metadata": {},
   "outputs": [],
   "source": [
    "# Drop rows with out of rage BMI\n",
    "BMI_Out_Of_Range = X[X['BMI']>50]\n",
    "X = X.drop(BMI_Out_Of_Range.index,errors='ignore')"
   ]
  },
  {
   "cell_type": "code",
   "execution_count": 6,
   "id": "d8d4bb62",
   "metadata": {},
   "outputs": [],
   "source": [
    "# CatCols = [\n",
    "#     'Smoking','AlcoholDrinking','Stroke','DiffWalking','Sex','Race','Diabetic',\n",
    "#     'PhysicalActivity','GenHealth','Asthma','KidneyDisease','SkinCancer'\n",
    "# ]\n",
    "# NumCols = [\n",
    "#     'BMI', 'PhysicalHealth', 'MentalHealth', 'SleepTime','AgeCategory'\n",
    "# ]"
   ]
  },
  {
   "cell_type": "code",
   "execution_count": 7,
   "id": "a879a7f4",
   "metadata": {},
   "outputs": [],
   "source": [
    "# _1 = X[X['AgeCategory']!='80 or older']['AgeCategory'].str.split('-').apply(\n",
    "#     lambda x : (int(x[0])+int(x[1]))/2\n",
    "# )\n",
    "# _2 = X[X['AgeCategory']=='80 or older']['AgeCategory'].str.split(' or ').apply(\n",
    "#     lambda x : 80\n",
    "# )\n",
    "# X.loc[_1.index,'AgeCategory'] = _1\n",
    "# X.loc[_2.index,'AgeCategory'] = _2\n",
    "# del _1,_2"
   ]
  },
  {
   "cell_type": "code",
   "execution_count": 8,
   "id": "2a7cacd3",
   "metadata": {
    "scrolled": true
   },
   "outputs": [],
   "source": [
    "# X['AgeCategory'] = X['AgeCategory'].astype(np.int64) "
   ]
  },
  {
   "cell_type": "code",
   "execution_count": 9,
   "id": "cf99c190",
   "metadata": {},
   "outputs": [],
   "source": [
    "# CatCols = [\n",
    "#     'Smoking','AlcoholDrinking','Stroke','DiffWalking','Sex','Race','Diabetic',\n",
    "#     'PhysicalActivity','GenHealth','Asthma','KidneyDisease','SkinCancer'\n",
    "# ]\n",
    "# NumCols = [\n",
    "#     'BMI', 'PhysicalHealth', 'MentalHealth', 'SleepTime','AgeCategory'\n",
    "# ]"
   ]
  },
  {
   "cell_type": "code",
   "execution_count": 10,
   "id": "777289a9",
   "metadata": {},
   "outputs": [],
   "source": [
    "# Drop rows with out of rage SleepTime\n",
    "X = X.drop(X[X['SleepTime']>16]['SleepTime'].index,axis=0)"
   ]
  },
  {
   "cell_type": "markdown",
   "id": "bccf98a2",
   "metadata": {},
   "source": [
    "# <font color=\"Green\">One Hot Encode Categorical Label :</font>"
   ]
  },
  {
   "cell_type": "code",
   "execution_count": 11,
   "id": "99f94354",
   "metadata": {},
   "outputs": [],
   "source": [
    "from sklearn.preprocessing import LabelEncoder\n",
    "from sklearn.compose import ColumnTransformer\n",
    "from sklearn.preprocessing import OneHotEncoder\n",
    "\n",
    "def OHC_transformer_single_column(DF,columns):\n",
    "    \n",
    "    for column_name in columns:\n",
    "        label_encoder = LabelEncoder()\n",
    "        encoded = label_encoder.fit_transform(DF[column_name])\n",
    "        labels =pd.Series(label_encoder.classes_)\n",
    "\n",
    "        clmt = ColumnTransformer([(column_name,OneHotEncoder(),[0])], remainder='passthrough')\n",
    "        clmt_fited_data = clmt.fit_transform(DF[[column_name]]) \n",
    "        clmt_fited_data = clmt_fited_data if type(clmt_fited_data)== np.ndarray else clmt_fited_data.toarray()  \n",
    "        NDF = pd.DataFrame(clmt_fited_data,columns=[f'{column_name}_{x}' for x in labels])\n",
    "        \n",
    "        merged = DF.merge(NDF, left_index=True,right_index=True)\n",
    "        merged = merged.drop(columns=[column_name])\n",
    "        DF = merged\n",
    "    return DF"
   ]
  },
  {
   "cell_type": "code",
   "execution_count": 12,
   "id": "890ad2fd",
   "metadata": {},
   "outputs": [],
   "source": [
    "X_OHC = OHC_transformer_single_column(X,CatCols) \n",
    "Y = DF.iloc[X_OHC.index]['HeartDisease']\n",
    "Y_label_encoder = LabelEncoder()\n",
    "Y_OHC = Y_label_encoder.fit_transform(Y)"
   ]
  },
  {
   "cell_type": "code",
   "execution_count": 13,
   "id": "31d0d6e5",
   "metadata": {},
   "outputs": [],
   "source": [
    "NDF = pd.concat([X,Y],axis=1)\n",
    "NDF_OHC = pd.concat([X_OHC,pd.DataFrame(Y_OHC,columns=['HeartDisease'])],axis=1)"
   ]
  },
  {
   "cell_type": "markdown",
   "id": "000a8e87",
   "metadata": {},
   "source": [
    " # <font color=\"Green\">Normalize  :</font>"
   ]
  },
  {
   "cell_type": "code",
   "execution_count": 14,
   "id": "f9593a61",
   "metadata": {},
   "outputs": [],
   "source": [
    "X_OHC_Norm = X_OHC.copy()\n",
    "ss = StandardScaler()\n",
    "X_OHC_Norm[NumCols] = ss.fit_transform(X_OHC[NumCols])"
   ]
  },
  {
   "cell_type": "code",
   "execution_count": 15,
   "id": "015a7eb7",
   "metadata": {},
   "outputs": [
    {
     "data": {
      "text/plain": [
       "(4410, 50)"
      ]
     },
     "execution_count": 15,
     "metadata": {},
     "output_type": "execute_result"
    }
   ],
   "source": [
    "X_OHC_Norm.shape"
   ]
  },
  {
   "cell_type": "code",
   "execution_count": 23,
   "id": "c1723333",
   "metadata": {},
   "outputs": [],
   "source": [
    "NDF = pd.concat([X_OHC_Norm,pd.DataFrame(Y_OHC,columns=['HeartDisease'])],axis=1)"
   ]
  },
  {
   "cell_type": "markdown",
   "id": "9cf25e63",
   "metadata": {},
   "source": [
    "# <font color=\"Green\">Imbalance Data  :</font>"
   ]
  },
  {
   "cell_type": "code",
   "execution_count": 16,
   "id": "3918f54f",
   "metadata": {},
   "outputs": [],
   "source": [
    "# from imblearn.over_sampling import RandomOverSampler\n",
    "# toml =RandomOverSampler(random_state=3020)\n",
    "# X_imb, Y_imb = toml.fit_resample(X_OHC_Norm,pd.DataFrame(Y_OHC,columns=['HeartDisease']))\n",
    "# DF_imb = pd.concat([X_imb,Y_imb],axis=1)"
   ]
  },
  {
   "cell_type": "code",
   "execution_count": 24,
   "id": "f5e520c0",
   "metadata": {},
   "outputs": [],
   "source": [
    "df_majority_0 = NDF[(NDF['HeartDisease']==0)] \n",
    "df_minority_1 = NDF[(NDF['HeartDisease']==1)] \n",
    "\n",
    "df_minority_upsampled = resample(df_minority_1, \n",
    "                                 replace=True,    \n",
    "                                 n_samples= df_majority_0.shape[0], \n",
    "                                 random_state=42) \n",
    "\n",
    "DF_imb = pd.concat([df_minority_upsampled, df_majority_0])\n"
   ]
  },
  {
   "cell_type": "markdown",
   "id": "5869dbdf",
   "metadata": {},
   "source": [
    " # <font color=\"Green\">Modeling  :</font>"
   ]
  },
  {
   "cell_type": "code",
   "execution_count": null,
   "id": "63013827",
   "metadata": {},
   "outputs": [],
   "source": [
    "X_train,X_test,Y_train,Y_test = train_test_split(DF_imb.iloc[:,:-1],DF_imb.iloc[:,-1],random_state=3020)"
   ]
  },
  {
   "cell_type": "code",
   "execution_count": null,
   "id": "7672362d",
   "metadata": {},
   "outputs": [],
   "source": [
    "from sklearn.ensemble import RandomForestClassifier\n",
    "random_forest_classifier = RandomForestClassifier(\n",
    "    random_state=3020,\n",
    "    n_estimators=3000,\n",
    "    verbose=True\n",
    ")\n",
    "\n",
    "random_forest_classifier.fit(X_train,Y_train)\n",
    "# random_forest_classifier.score(X_test,Y_test)"
   ]
  },
  {
   "cell_type": "code",
   "execution_count": null,
   "id": "22a905f2",
   "metadata": {},
   "outputs": [],
   "source": [
    "Y_predicted = random_forest_classifier.predict(X_test)\n",
    "print(metrics.classification_report(Y_test,Y_predicted))\n",
    "print(metrics.confusion_matrix(Y_test,Y_predicted))"
   ]
  }
 ],
 "metadata": {
  "kernelspec": {
   "display_name": "Python 3 (ipykernel)",
   "language": "python",
   "name": "python3"
  },
  "language_info": {
   "codemirror_mode": {
    "name": "ipython",
    "version": 3
   },
   "file_extension": ".py",
   "mimetype": "text/x-python",
   "name": "python",
   "nbconvert_exporter": "python",
   "pygments_lexer": "ipython3",
   "version": "3.9.12"
  }
 },
 "nbformat": 4,
 "nbformat_minor": 5
}
