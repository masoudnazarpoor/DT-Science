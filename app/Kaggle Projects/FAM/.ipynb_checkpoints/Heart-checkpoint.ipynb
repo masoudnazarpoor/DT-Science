{
 "cells": [
  {
   "cell_type": "markdown",
   "id": "afdf033c",
   "metadata": {},
   "source": [
    "# Imbalance Data"
   ]
  },
  {
   "cell_type": "code",
   "execution_count": 14,
   "id": "d0e4e8a8",
   "metadata": {},
   "outputs": [],
   "source": [
    "import pandas as pd\n",
    "import numpy  as np\n",
    "from sklearn.model_selection import train_test_split\n",
    "from sklearn.preprocessing import StandardScaler\n",
    "from sklearn.preprocessing import LabelEncoder\n",
    "from sklearn.compose import ColumnTransformer\n",
    "from sklearn.preprocessing import OneHotEncoder\n",
    "from sklearn import metrics\n",
    "import random\n",
    "import seaborn as SB"
   ]
  },
  {
   "cell_type": "code",
   "execution_count": 2,
   "id": "55f9e0c5",
   "metadata": {},
   "outputs": [],
   "source": [
    "n = 10000\n",
    "skip = sorted(random.sample(range(1,319795),319795-n))\n",
    "DF = pd.read_csv('../../datasets/heart_2020_cleaned.csv',skiprows=skip).reset_index(drop=True)"
   ]
  },
  {
   "cell_type": "code",
   "execution_count": 3,
   "id": "669a3404",
   "metadata": {},
   "outputs": [],
   "source": [
    "# Drop rows with out of rage BMI\n",
    "BMI_Out_Of_Range = DF[DF['BMI']>50]\n",
    "DF = DF.drop(BMI_Out_Of_Range.index,errors='ignore')\n",
    "\n",
    "# Drop rows with out of rage SleepTime\n",
    "DF = DF.drop(DF[DF['SleepTime']>16]['SleepTime'].index,axis=0)"
   ]
  },
  {
   "cell_type": "code",
   "execution_count": 27,
   "id": "a53d12e2",
   "metadata": {},
   "outputs": [],
   "source": [
    "X_cols = DF.columns.difference(['HeartDisease'])\n",
    "Y_col = 'HeartDisease'\n",
    "X_train,X_test,Y_train,Y_test = train_test_split(DF[X_cols],DF[Y_col],random_state=3020)"
   ]
  },
  {
   "cell_type": "code",
   "execution_count": 28,
   "id": "fec2473d",
   "metadata": {},
   "outputs": [],
   "source": [
    "CatCols = [\n",
    "    'Smoking','AlcoholDrinking','Stroke','DiffWalking','Sex','AgeCategory','Race','Diabetic',\n",
    "    'PhysicalActivity','GenHealth','Asthma','KidneyDisease','SkinCancer'\n",
    "]\n",
    "NumCols = [\n",
    "    'BMI', 'PhysicalHealth', 'MentalHealth', 'SleepTime'\n",
    "]"
   ]
  },
  {
   "cell_type": "markdown",
   "id": "bccf98a2",
   "metadata": {},
   "source": [
    "# <font color=\"Green\">One Hot Encode Categorical Label :</font>"
   ]
  },
  {
   "cell_type": "code",
   "execution_count": 29,
   "id": "99f94354",
   "metadata": {},
   "outputs": [],
   "source": [
    "from sklearn.preprocessing import LabelEncoder\n",
    "from sklearn.compose import ColumnTransformer\n",
    "from sklearn.preprocessing import OneHotEncoder\n",
    "\n",
    "def OHC_transformer_single_column(DF,columns):\n",
    "    merged = pd.DataFrame()\n",
    "    for column_name in columns:\n",
    "        label_encoder = LabelEncoder()\n",
    "        encoded = label_encoder.fit_transform(DF[column_name])\n",
    "        labels =pd.Series(label_encoder.classes_)\n",
    "\n",
    "        clmt = ColumnTransformer([(column_name,OneHotEncoder(),[0])], remainder='passthrough')\n",
    "        clmt_fited_data = clmt.fit_transform(DF[[column_name]]) \n",
    "        clmt_fited_data = clmt_fited_data if type(clmt_fited_data)== np.ndarray else clmt_fited_data.toarray()\n",
    "        NDF = pd.DataFrame(clmt_fited_data,columns=[f'{column_name}_{x}' for x in labels]).set_index(DF.index)\n",
    "        merged = pd.concat([merged,NDF],axis=1)\n",
    "    DF = DF.drop(columns=columns)\n",
    "    DF = DF.merge(merged, left_index=True,right_index=True)\n",
    "\n",
    "    return DF"
   ]
  },
  {
   "cell_type": "code",
   "execution_count": 30,
   "id": "890ad2fd",
   "metadata": {
    "scrolled": true
   },
   "outputs": [],
   "source": [
    "Y_label_encoder = LabelEncoder()\n",
    "Y_train = Y_label_encoder.fit_transform(Y_train)\n",
    "X_train = OHC_transformer_single_column(X_train,CatCols) "
   ]
  },
  {
   "cell_type": "markdown",
   "id": "000a8e87",
   "metadata": {},
   "source": [
    " # <font color=\"Green\">Normalize  :</font>"
   ]
  },
  {
   "cell_type": "code",
   "execution_count": 31,
   "id": "f9593a61",
   "metadata": {},
   "outputs": [],
   "source": [
    "ss = StandardScaler()\n",
    "X_train[NumCols] = ss.fit_transform(X_train[NumCols])"
   ]
  },
  {
   "cell_type": "markdown",
   "id": "9cf25e63",
   "metadata": {},
   "source": [
    "# <font color=\"Green\">Imbalance Data  :</font>"
   ]
  },
  {
   "cell_type": "code",
   "execution_count": 25,
   "id": "3918f54f",
   "metadata": {},
   "outputs": [],
   "source": [
    "from imblearn.over_sampling import RandomOverSampler\n",
    "randOvrSmpl = RandomOverSampler(random_state=3020)\n",
    "X_train, Y_train = randOvrSmpl.fit_resample(X_train,Y_train)"
   ]
  },
  {
   "cell_type": "markdown",
   "id": "5869dbdf",
   "metadata": {},
   "source": [
    " # <font color=\"Green\">Modeling  :</font>"
   ]
  },
  {
   "cell_type": "code",
   "execution_count": 35,
   "id": "7672362d",
   "metadata": {},
   "outputs": [
    {
     "name": "stderr",
     "output_type": "stream",
     "text": [
      "[Parallel(n_jobs=1)]: Using backend SequentialBackend with 1 concurrent workers.\n",
      "[Parallel(n_jobs=1)]: Done 5000 out of 5000 | elapsed:   51.6s finished\n"
     ]
    },
    {
     "data": {
      "text/plain": [
       "RandomForestClassifier(n_estimators=5000, random_state=3020, verbose=True)"
      ]
     },
     "execution_count": 35,
     "metadata": {},
     "output_type": "execute_result"
    }
   ],
   "source": [
    "from sklearn.ensemble import RandomForestClassifier\n",
    "random_forest_classifier = RandomForestClassifier(\n",
    "    random_state=3020,\n",
    "    n_estimators=5000,\n",
    "    verbose=True\n",
    ")\n",
    "\n",
    "random_forest_classifier.fit(X_train,Y_train)\n",
    "# random_forest_classifier.score(X_test,Y_test)"
   ]
  },
  {
   "cell_type": "code",
   "execution_count": 33,
   "id": "c4f2f43e",
   "metadata": {},
   "outputs": [],
   "source": [
    "Y_label_encoder = LabelEncoder()\n",
    "Y_test = Y_label_encoder.fit_transform(Y_test)\n",
    "X_test  = OHC_transformer_single_column(X_test,CatCols) \n",
    "# Y_test = Y_test[X_test.index]\n",
    "\n",
    "\n",
    "ss = StandardScaler()\n",
    "X_test[NumCols] = ss.fit_transform(X_test[NumCols])\n",
    "\n",
    "\n",
    "\n",
    "# randOvrSmpl = RandomOverSampler(random_state=3020)\n",
    "# X_test, Y_test = randOvrSmpl.fit_resample(X_test,Y_test)\n"
   ]
  },
  {
   "cell_type": "code",
   "execution_count": null,
   "id": "e1168d19",
   "metadata": {},
   "outputs": [],
   "source": []
  },
  {
   "cell_type": "code",
   "execution_count": null,
   "id": "2584f945",
   "metadata": {},
   "outputs": [],
   "source": []
  },
  {
   "cell_type": "code",
   "execution_count": 36,
   "id": "22a905f2",
   "metadata": {
    "scrolled": true
   },
   "outputs": [
    {
     "name": "stderr",
     "output_type": "stream",
     "text": [
      "[Parallel(n_jobs=1)]: Using backend SequentialBackend with 1 concurrent workers.\n"
     ]
    },
    {
     "name": "stdout",
     "output_type": "stream",
     "text": [
      "              precision    recall  f1-score   support\n",
      "\n",
      "           0       0.92      0.99      0.95      2268\n",
      "           1       0.37      0.05      0.09       208\n",
      "\n",
      "    accuracy                           0.91      2476\n",
      "   macro avg       0.64      0.52      0.52      2476\n",
      "weighted avg       0.87      0.91      0.88      2476\n",
      "\n",
      "[[2249   19]\n",
      " [ 197   11]]\n"
     ]
    },
    {
     "name": "stderr",
     "output_type": "stream",
     "text": [
      "[Parallel(n_jobs=1)]: Done 5000 out of 5000 | elapsed:    5.1s finished\n"
     ]
    }
   ],
   "source": [
    "Y_predicted = random_forest_classifier.predict(X_test)\n",
    "print(metrics.classification_report(Y_test,Y_predicted))\n",
    "print(metrics.confusion_matrix(Y_test,Y_predicted))"
   ]
  },
  {
   "cell_type": "code",
   "execution_count": null,
   "id": "d63eefae",
   "metadata": {},
   "outputs": [],
   "source": []
  },
  {
   "cell_type": "code",
   "execution_count": null,
   "id": "392d21e4",
   "metadata": {},
   "outputs": [],
   "source": []
  },
  {
   "cell_type": "code",
   "execution_count": null,
   "id": "30ba62d6",
   "metadata": {},
   "outputs": [],
   "source": []
  },
  {
   "cell_type": "code",
   "execution_count": null,
   "id": "d1e0b66a",
   "metadata": {},
   "outputs": [],
   "source": []
  },
  {
   "cell_type": "code",
   "execution_count": null,
   "id": "6af2ef6a",
   "metadata": {},
   "outputs": [],
   "source": []
  },
  {
   "cell_type": "code",
   "execution_count": null,
   "id": "2505a12f",
   "metadata": {},
   "outputs": [],
   "source": []
  },
  {
   "cell_type": "code",
   "execution_count": null,
   "id": "a6fcb1ab",
   "metadata": {},
   "outputs": [],
   "source": []
  },
  {
   "cell_type": "code",
   "execution_count": null,
   "id": "0ffcca30",
   "metadata": {},
   "outputs": [],
   "source": []
  },
  {
   "cell_type": "code",
   "execution_count": null,
   "id": "ca752360",
   "metadata": {},
   "outputs": [],
   "source": []
  }
 ],
 "metadata": {
  "kernelspec": {
   "display_name": "Python 3 (ipykernel)",
   "language": "python",
   "name": "python3"
  },
  "language_info": {
   "codemirror_mode": {
    "name": "ipython",
    "version": 3
   },
   "file_extension": ".py",
   "mimetype": "text/x-python",
   "name": "python",
   "nbconvert_exporter": "python",
   "pygments_lexer": "ipython3",
   "version": "3.9.12"
  }
 },
 "nbformat": 4,
 "nbformat_minor": 5
}
