{
 "cells": [
  {
   "cell_type": "markdown",
   "id": "afdf033c",
   "metadata": {},
   "source": [
    "# Imbalance Data"
   ]
  },
  {
   "cell_type": "code",
   "execution_count": 1,
   "id": "d0e4e8a8",
   "metadata": {},
   "outputs": [],
   "source": [
    "import pandas as pd\n",
    "import numpy  as np\n",
    "from sklearn.model_selection import train_test_split\n",
    "from sklearn.preprocessing import StandardScaler\n",
    "from sklearn.preprocessing import LabelEncoder\n",
    "from sklearn.compose import ColumnTransformer\n",
    "from sklearn.preprocessing import OneHotEncoder\n",
    "from sklearn import metrics\n",
    "import random\n",
    "import seaborn as SB\n",
    "import matplotlib.pyplot as PLT"
   ]
  },
  {
   "cell_type": "code",
   "execution_count": 2,
   "id": "55f9e0c5",
   "metadata": {},
   "outputs": [],
   "source": [
    "n = 10000\n",
    "skip = sorted(random.sample(range(1,319795),319795-n))\n",
    "DF = pd.read_csv('../../datasets/heart_2020_cleaned.csv',skiprows=skip).reset_index(drop=True)"
   ]
  },
  {
   "cell_type": "code",
   "execution_count": 3,
   "id": "669a3404",
   "metadata": {},
   "outputs": [],
   "source": [
    "# Drop rows with out of rage BMI\n",
    "# BMI_Out_Of_Range = DF[DF['BMI']>50]\n",
    "# DF = DF.drop(BMI_Out_Of_Range.index,errors='ignore')\n",
    "\n",
    "# Drop rows with out of rage SleepTime\n",
    "# DF = DF.drop(DF[DF['SleepTime']>16]['SleepTime'].index,axis=0)"
   ]
  },
  {
   "cell_type": "code",
   "execution_count": 4,
   "id": "fec2473d",
   "metadata": {},
   "outputs": [],
   "source": [
    "CatCols = [\n",
    "    'Smoking','AlcoholDrinking','Stroke','DiffWalking','Sex','AgeCategory','Race','Diabetic',\n",
    "    'PhysicalActivity','GenHealth','Asthma','KidneyDisease','SkinCancer'\n",
    "]\n",
    "NumCols = [\n",
    "    'BMI', 'PhysicalHealth', 'MentalHealth', 'SleepTime'\n",
    "]"
   ]
  },
  {
   "cell_type": "code",
   "execution_count": 6,
   "id": "a53d12e2",
   "metadata": {},
   "outputs": [],
   "source": [
    "X_cols = [*NumCols,*CatCols]\n",
    "Y_col = 'HeartDisease'\n",
    "X_train,X_test,Y_train,Y_test = train_test_split(DF[X_cols],DF[Y_col],random_state=3020)"
   ]
  },
  {
   "cell_type": "markdown",
   "id": "bccf98a2",
   "metadata": {},
   "source": [
    "# <font color=\"Green\">One Hot Encode Categorical Label :</font>"
   ]
  },
  {
   "cell_type": "code",
   "execution_count": 8,
   "id": "99f94354",
   "metadata": {},
   "outputs": [],
   "source": [
    "from sklearn.preprocessing import LabelEncoder\n",
    "from sklearn.compose import ColumnTransformer\n",
    "from sklearn.preprocessing import OneHotEncoder\n",
    "\n",
    "def OHC_transformer_single_column(DF,columns):\n",
    "    merged = pd.DataFrame()\n",
    "    for column_name in columns:\n",
    "        label_encoder = LabelEncoder()\n",
    "        encoded = label_encoder.fit_transform(DF[column_name])\n",
    "        labels =pd.Series(label_encoder.classes_)\n",
    "\n",
    "        clmt = ColumnTransformer([(column_name,OneHotEncoder(),[0])], remainder='passthrough')\n",
    "        clmt_fited_data = clmt.fit_transform(DF[[column_name]]) \n",
    "        clmt_fited_data = clmt_fited_data if type(clmt_fited_data)== np.ndarray else clmt_fited_data.toarray()\n",
    "        NDF = pd.DataFrame(clmt_fited_data,columns=[f'{column_name}_{x}' for x in labels]).set_index(DF.index)\n",
    "        merged = pd.concat([merged,NDF],axis=1)\n",
    "    DF = DF.drop(columns=columns)\n",
    "    DF = DF.merge(merged, left_index=True,right_index=True)\n",
    "\n",
    "    return DF"
   ]
  },
  {
   "cell_type": "code",
   "execution_count": 9,
   "id": "890ad2fd",
   "metadata": {
    "scrolled": true
   },
   "outputs": [],
   "source": [
    "Y_label_encoder = LabelEncoder()\n",
    "Y_train = Y_label_encoder.fit_transform(Y_train)\n",
    "X_train = OHC_transformer_single_column(X_train,CatCols) "
   ]
  },
  {
   "cell_type": "markdown",
   "id": "000a8e87",
   "metadata": {},
   "source": [
    " # <font color=\"Green\">Normalize  :</font>"
   ]
  },
  {
   "cell_type": "code",
   "execution_count": 10,
   "id": "f9593a61",
   "metadata": {},
   "outputs": [],
   "source": [
    "if (len(NumCols)):\n",
    "    ss = StandardScaler()\n",
    "    X_train[NumCols] = ss.fit_transform(X_train[NumCols])"
   ]
  },
  {
   "cell_type": "markdown",
   "id": "9cf25e63",
   "metadata": {},
   "source": [
    "# <font color=\"Green\">Imbalance Data  :</font>"
   ]
  },
  {
   "cell_type": "code",
   "execution_count": null,
   "id": "54c061ad",
   "metadata": {},
   "outputs": [],
   "source": []
  },
  {
   "cell_type": "code",
   "execution_count": 11,
   "id": "3918f54f",
   "metadata": {},
   "outputs": [],
   "source": [
    "from imblearn.combine import SMOTEENN  \n",
    "randOvrSmpl = SMOTEENN(random_state=3020)\n",
    "X_train, Y_train = randOvrSmpl.fit_resample(X_train,Y_train)"
   ]
  },
  {
   "cell_type": "code",
   "execution_count": 12,
   "id": "9a143e98",
   "metadata": {},
   "outputs": [],
   "source": [
    "# from imblearn.combine import SMOTETomek\n",
    "# randOvrSmpl = SMOTETomek(random_state=3020)\n",
    "# X_train, Y_train = randOvrSmpl.fit_resample(X_train,Y_train)"
   ]
  },
  {
   "cell_type": "code",
   "execution_count": 13,
   "id": "7dde2cee",
   "metadata": {},
   "outputs": [
    {
     "data": {
      "text/plain": [
       "(11652, 50)"
      ]
     },
     "execution_count": 13,
     "metadata": {},
     "output_type": "execute_result"
    }
   ],
   "source": [
    "X_train.shape"
   ]
  },
  {
   "cell_type": "code",
   "execution_count": null,
   "id": "53eeb5f0",
   "metadata": {},
   "outputs": [],
   "source": []
  },
  {
   "cell_type": "markdown",
   "id": "5869dbdf",
   "metadata": {},
   "source": [
    " # <font color=\"Green\">Testing Data  :</font>"
   ]
  },
  {
   "cell_type": "code",
   "execution_count": 14,
   "id": "c4f2f43e",
   "metadata": {},
   "outputs": [],
   "source": [
    "Y_label_encoder = LabelEncoder()\n",
    "Y_test = Y_label_encoder.fit_transform(Y_test)\n",
    "X_test  = OHC_transformer_single_column(X_test,CatCols) \n",
    "\n",
    "\n",
    "if (len(NumCols)):\n",
    "    ss = StandardScaler()\n",
    "    X_test[NumCols] = ss.fit_transform(X_test[NumCols])"
   ]
  },
  {
   "cell_type": "markdown",
   "id": "ecb41d17",
   "metadata": {},
   "source": [
    " # <font color=\"Green\">RandomForest Modeling  :</font>"
   ]
  },
  {
   "cell_type": "code",
   "execution_count": null,
   "id": "7672362d",
   "metadata": {},
   "outputs": [
    {
     "name": "stderr",
     "output_type": "stream",
     "text": [
      "[Parallel(n_jobs=1)]: Using backend SequentialBackend with 1 concurrent workers.\n"
     ]
    }
   ],
   "source": [
    "from sklearn.ensemble import RandomForestClassifier\n",
    "random_forest_classifier = RandomForestClassifier(\n",
    "    random_state=3020,\n",
    "    n_estimators=5000,\n",
    "    verbose=True\n",
    ")\n",
    "\n",
    "random_forest_classifier.fit(X_train,Y_train)\n",
    "# random_forest_classifier.score(X_test,Y_test)\n",
    "\n",
    "Y_predicted = random_forest_classifier.predict(X_test)\n",
    "print(metrics.classification_report(Y_test,Y_predicted))\n",
    "print(metrics.confusion_matrix(Y_test,Y_predicted))"
   ]
  },
  {
   "cell_type": "markdown",
   "id": "3a93c13d",
   "metadata": {},
   "source": [
    " # <font color=\"Green\">CatBoostClassifier Modeling  :</font>"
   ]
  },
  {
   "cell_type": "code",
   "execution_count": null,
   "id": "392d21e4",
   "metadata": {},
   "outputs": [],
   "source": [
    "from catboost import Pool, CatBoostClassifier"
   ]
  },
  {
   "cell_type": "code",
   "execution_count": null,
   "id": "30ba62d6",
   "metadata": {},
   "outputs": [],
   "source": [
    "catboostCLF = CatBoostClassifier(\n",
    "    iterations=1500,learning_rate=.01,depth=1,eval_metric='Accuracy',random_state=3020,\n",
    "    verbose=True\n",
    ")\n",
    "\n",
    "catboostCLF.fit(X_train,Y_train)\n",
    "# random_forest_classifier.score(X_test,Y_test)\n",
    "\n",
    "Y_predicted = catboostCLF.predict(X_test)\n",
    "print(metrics.classification_report(Y_test,Y_predicted))\n",
    "print(metrics.confusion_matrix(Y_test,Y_predicted))"
   ]
  },
  {
   "cell_type": "markdown",
   "id": "d93ce126",
   "metadata": {},
   "source": [
    " # <font color=\"Green\">DecisionTreeClassifier Modeling  :</font>"
   ]
  },
  {
   "cell_type": "code",
   "execution_count": null,
   "id": "6af2ef6a",
   "metadata": {},
   "outputs": [],
   "source": [
    "from sklearn.tree import DecisionTreeClassifier"
   ]
  },
  {
   "cell_type": "code",
   "execution_count": null,
   "id": "2505a12f",
   "metadata": {},
   "outputs": [],
   "source": [
    "D3CLF = DecisionTreeClassifier(\n",
    "    random_state=3020,min_samples_split=8,min_samples_leaf=2,class_weight={0:100,1:1},\n",
    ")\n",
    "\n",
    "D3CLF.fit(X_train,Y_train)\n",
    "# random_forest_classifier.score(X_test,Y_test)\n",
    "\n",
    "Y_predicted = D3CLF.predict(X_test)\n",
    "print(metrics.classification_report(Y_test,Y_predicted))\n",
    "print(metrics.confusion_matrix(Y_test,Y_predicted))"
   ]
  },
  {
   "cell_type": "markdown",
   "id": "66d3170c",
   "metadata": {},
   "source": [
    " # <font color=\"Green\">KNeighborsClassifier Modeling  :</font>"
   ]
  },
  {
   "cell_type": "code",
   "execution_count": null,
   "id": "a6fcb1ab",
   "metadata": {},
   "outputs": [],
   "source": [
    "from sklearn.neighbors import KNeighborsClassifier"
   ]
  },
  {
   "cell_type": "code",
   "execution_count": null,
   "id": "e4aac608",
   "metadata": {},
   "outputs": [],
   "source": [
    "knnCLF = KNeighborsClassifier(n_neighbors=2 ,weights='distance',p=1)\n",
    "\n",
    "knnCLF.fit(X_train,Y_train)\n",
    "# random_forest_classifier.score(X_test,Y_test)\n",
    "\n",
    "Y_predicted = knnCLF.predict(X_test)\n",
    "print(metrics.classification_report(Y_test,Y_predicted))\n",
    "print(metrics.confusion_matrix(Y_test,Y_predicted))"
   ]
  },
  {
   "cell_type": "markdown",
   "id": "c34a33fd",
   "metadata": {},
   "source": [
    " # <font color=\"Green\">xgboost Modeling  :</font>"
   ]
  },
  {
   "cell_type": "code",
   "execution_count": null,
   "id": "cde64d14",
   "metadata": {},
   "outputs": [],
   "source": [
    "import xgboost as xgb"
   ]
  },
  {
   "cell_type": "code",
   "execution_count": null,
   "id": "200816e0",
   "metadata": {},
   "outputs": [],
   "source": [
    "data_matrix = xgb.DMatrix(data=X_train,label=Y_train)\n",
    "\n",
    "xgbCLF = xgb.XGBRFClassifier(colsample_bytree=.9,max_depth=5000,n_estimators=3000,)\n",
    "\n",
    "xgbCLF.fit(X_train,Y_train)\n",
    "# random_forest_classifier.score(X_test,Y_test)\n",
    "\n",
    "Y_predicted = xgbCLF.predict(X_test)\n",
    "print(metrics.classification_report(Y_test,Y_predicted))\n",
    "print(metrics.confusion_matrix(Y_test,Y_predicted))"
   ]
  },
  {
   "cell_type": "code",
   "execution_count": null,
   "id": "f8f08ef3",
   "metadata": {},
   "outputs": [],
   "source": [
    "fig, ax = PLT.subplots(figsize=(12, 20))\n",
    "xgb.plot_importance(xgbCLF,ax=ax)"
   ]
  },
  {
   "cell_type": "code",
   "execution_count": null,
   "id": "5beb342b",
   "metadata": {},
   "outputs": [],
   "source": []
  },
  {
   "cell_type": "code",
   "execution_count": null,
   "id": "faf39c53",
   "metadata": {},
   "outputs": [],
   "source": []
  },
  {
   "cell_type": "code",
   "execution_count": null,
   "id": "63c6bd66",
   "metadata": {},
   "outputs": [],
   "source": []
  },
  {
   "cell_type": "code",
   "execution_count": null,
   "id": "d298dc40",
   "metadata": {},
   "outputs": [],
   "source": []
  },
  {
   "cell_type": "code",
   "execution_count": null,
   "id": "e1b3edba",
   "metadata": {},
   "outputs": [],
   "source": []
  },
  {
   "cell_type": "code",
   "execution_count": null,
   "id": "bf04db23",
   "metadata": {},
   "outputs": [],
   "source": []
  },
  {
   "cell_type": "code",
   "execution_count": null,
   "id": "86d9bc1a",
   "metadata": {},
   "outputs": [],
   "source": []
  },
  {
   "cell_type": "code",
   "execution_count": null,
   "id": "64f54b47",
   "metadata": {},
   "outputs": [],
   "source": []
  },
  {
   "cell_type": "code",
   "execution_count": null,
   "id": "5652f22e",
   "metadata": {},
   "outputs": [],
   "source": []
  },
  {
   "cell_type": "code",
   "execution_count": null,
   "id": "4f3adbc5",
   "metadata": {},
   "outputs": [],
   "source": []
  },
  {
   "cell_type": "code",
   "execution_count": null,
   "id": "a7e66113",
   "metadata": {},
   "outputs": [],
   "source": []
  },
  {
   "cell_type": "code",
   "execution_count": null,
   "id": "85296921",
   "metadata": {},
   "outputs": [],
   "source": []
  },
  {
   "cell_type": "code",
   "execution_count": null,
   "id": "b91cfafc",
   "metadata": {},
   "outputs": [],
   "source": []
  },
  {
   "cell_type": "code",
   "execution_count": null,
   "id": "11796c83",
   "metadata": {},
   "outputs": [],
   "source": []
  },
  {
   "cell_type": "code",
   "execution_count": null,
   "id": "dfedc723",
   "metadata": {},
   "outputs": [],
   "source": []
  },
  {
   "cell_type": "code",
   "execution_count": null,
   "id": "42508d88",
   "metadata": {},
   "outputs": [],
   "source": []
  },
  {
   "cell_type": "code",
   "execution_count": null,
   "id": "250feeca",
   "metadata": {},
   "outputs": [],
   "source": []
  },
  {
   "cell_type": "code",
   "execution_count": null,
   "id": "7102961f",
   "metadata": {},
   "outputs": [],
   "source": []
  },
  {
   "cell_type": "code",
   "execution_count": null,
   "id": "0ffcca30",
   "metadata": {},
   "outputs": [],
   "source": []
  },
  {
   "cell_type": "code",
   "execution_count": null,
   "id": "ca752360",
   "metadata": {},
   "outputs": [],
   "source": []
  }
 ],
 "metadata": {
  "kernelspec": {
   "display_name": "Python 3 (ipykernel)",
   "language": "python",
   "name": "python3"
  },
  "language_info": {
   "codemirror_mode": {
    "name": "ipython",
    "version": 3
   },
   "file_extension": ".py",
   "mimetype": "text/x-python",
   "name": "python",
   "nbconvert_exporter": "python",
   "pygments_lexer": "ipython3",
   "version": "3.9.12"
  }
 },
 "nbformat": 4,
 "nbformat_minor": 5
}
