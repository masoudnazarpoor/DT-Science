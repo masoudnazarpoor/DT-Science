{
 "cells": [
  {
   "cell_type": "markdown",
   "id": "c7b40968",
   "metadata": {},
   "source": [
    "# RNN (Recurrent neural network) : is good for sequenced problem\n",
    "<img src=\"../../img/RNN-vs-LSTM-vs-GRU-1200x361.png\">\n",
    "<img src=\"../../img/1 d_POV7c8fzHbKuTgJzCxtA.gif\">\n",
    "\n"
   ]
  },
  {
   "cell_type": "code",
   "execution_count": 1,
   "id": "eaace6ab",
   "metadata": {
    "scrolled": true
   },
   "outputs": [
    {
     "name": "stderr",
     "output_type": "stream",
     "text": [
      "2022-12-10 22:05:06.022759: W tensorflow/compiler/xla/stream_executor/platform/default/dso_loader.cc:64] Could not load dynamic library 'libcudart.so.11.0'; dlerror: libcudart.so.11.0: cannot open shared object file: No such file or directory\n",
      "2022-12-10 22:05:06.022791: I tensorflow/compiler/xla/stream_executor/cuda/cudart_stub.cc:29] Ignore above cudart dlerror if you do not have a GPU set up on your machine.\n",
      "2022-12-10 22:05:07.078604: W tensorflow/compiler/xla/stream_executor/platform/default/dso_loader.cc:64] Could not load dynamic library 'libnvinfer.so.7'; dlerror: libnvinfer.so.7: cannot open shared object file: No such file or directory\n",
      "2022-12-10 22:05:07.078729: W tensorflow/compiler/xla/stream_executor/platform/default/dso_loader.cc:64] Could not load dynamic library 'libnvinfer_plugin.so.7'; dlerror: libnvinfer_plugin.so.7: cannot open shared object file: No such file or directory\n",
      "2022-12-10 22:05:07.078745: W tensorflow/compiler/tf2tensorrt/utils/py_utils.cc:38] TF-TRT Warning: Cannot dlopen some TensorRT libraries. If you would like to use Nvidia GPU with TensorRT, please make sure the missing libraries mentioned above are installed properly.\n"
     ]
    }
   ],
   "source": [
    "import numpy as np\n",
    "import pandas as pd\n",
    "import matplotlib.pyplot as PLT\n",
    "from tensorflow.keras.models import Sequential\n",
    "from tensorflow.keras.layers import Dense,SimpleRNN\n",
    "from sklearn.model_selection import train_test_split"
   ]
  },
  {
   "cell_type": "markdown",
   "id": "b2b93366",
   "metadata": {},
   "source": [
    "# Simple RNN"
   ]
  },
  {
   "cell_type": "code",
   "execution_count": null,
   "id": "2386e47c",
   "metadata": {},
   "outputs": [],
   "source": [
    "t = np.arange(0,2000)\n",
    "x = np.sin( .01* t)\n",
    "X_train,X_test= x[:1500],x[1500:]"
   ]
  },
  {
   "cell_type": "code",
   "execution_count": null,
   "id": "b239e81d",
   "metadata": {},
   "outputs": [],
   "source": [
    "XTrain,YTrain = [],[]\n",
    "XTest,YTest = [],[]\n",
    "seq = 5\n",
    "\n",
    "for start in range(len(X_train)- seq):\n",
    "    end = start + seq\n",
    "    XTrain.append(X_train[start:end,])\n",
    "    YTrain.append(X_train[end])\n",
    "    \n",
    "for start in range(len(X_test)- seq):\n",
    "    end = start + seq\n",
    "    XTest.append(X_test[start:end,])\n",
    "    YTest.append(X_test[end])\n",
    "    \n",
    "X_train, X_test, Y_train, Y_test = np.array(XTrain), np.array(XTest), np.array(YTrain), np.array(YTest)\n",
    "X_train = np.reshape( X_train,(X_train.shape[0],X_train.shape[1],1) )\n",
    "X_test = np.reshape( X_test,(X_test.shape[0],X_test.shape[1],1) )"
   ]
  },
  {
   "cell_type": "code",
   "execution_count": null,
   "id": "f254ca55",
   "metadata": {
    "scrolled": true
   },
   "outputs": [],
   "source": [
    "PLT.plot(x)"
   ]
  },
  {
   "cell_type": "code",
   "execution_count": null,
   "id": "f923f3a1",
   "metadata": {},
   "outputs": [],
   "source": [
    "model = Sequential()\n",
    "model.add(SimpleRNN(units=64, activation='tanh'))\n",
    "model.add(Dense(1))\n",
    "\n",
    "model.compile(loss='mean_absolute_error',optimizer='adam')"
   ]
  },
  {
   "cell_type": "code",
   "execution_count": null,
   "id": "026c361d",
   "metadata": {},
   "outputs": [],
   "source": [
    "history = model.fit(X_train,Y_train, epochs=100,batch_size=20)"
   ]
  },
  {
   "cell_type": "code",
   "execution_count": null,
   "id": "480e701b",
   "metadata": {},
   "outputs": [],
   "source": [
    "model.evaluate(X_test,Y_test) # return mean absolute error"
   ]
  },
  {
   "cell_type": "code",
   "execution_count": null,
   "id": "1366016b",
   "metadata": {},
   "outputs": [],
   "source": [
    "X_train_predicted = model.predict(X_train)\n",
    "X_test_predicted = model.predict(X_test)\n",
    "X_final = np.concatenate([X_train_predicted,X_test_predicted],axis=0)"
   ]
  },
  {
   "cell_type": "code",
   "execution_count": null,
   "id": "2ce9e39b",
   "metadata": {},
   "outputs": [],
   "source": [
    "PLT.plot(x, c='blue')\n",
    "PLT.plot(X_final, c='red')"
   ]
  },
  {
   "cell_type": "markdown",
   "id": "1f02b66c",
   "metadata": {},
   "source": [
    "# Simple RNN predict Foolad"
   ]
  },
  {
   "cell_type": "code",
   "execution_count": 81,
   "id": "13bb5eb6",
   "metadata": {},
   "outputs": [
    {
     "data": {
      "text/html": [
       "<div>\n",
       "<style scoped>\n",
       "    .dataframe tbody tr th:only-of-type {\n",
       "        vertical-align: middle;\n",
       "    }\n",
       "\n",
       "    .dataframe tbody tr th {\n",
       "        vertical-align: top;\n",
       "    }\n",
       "\n",
       "    .dataframe thead th {\n",
       "        text-align: right;\n",
       "    }\n",
       "</style>\n",
       "<table border=\"1\" class=\"dataframe\">\n",
       "  <thead>\n",
       "    <tr style=\"text-align: right;\">\n",
       "      <th></th>\n",
       "      <th>Date</th>\n",
       "      <th>Open</th>\n",
       "      <th>High</th>\n",
       "      <th>Low</th>\n",
       "      <th>Close</th>\n",
       "      <th>Volume</th>\n",
       "      <th>Name</th>\n",
       "    </tr>\n",
       "  </thead>\n",
       "  <tbody>\n",
       "    <tr>\n",
       "      <th>0</th>\n",
       "      <td>2006-01-03</td>\n",
       "      <td>39.69</td>\n",
       "      <td>41.22</td>\n",
       "      <td>38.79</td>\n",
       "      <td>40.91</td>\n",
       "      <td>24232729</td>\n",
       "      <td>AABA</td>\n",
       "    </tr>\n",
       "    <tr>\n",
       "      <th>1</th>\n",
       "      <td>2006-01-04</td>\n",
       "      <td>41.22</td>\n",
       "      <td>41.90</td>\n",
       "      <td>40.77</td>\n",
       "      <td>40.97</td>\n",
       "      <td>20553479</td>\n",
       "      <td>AABA</td>\n",
       "    </tr>\n",
       "    <tr>\n",
       "      <th>2</th>\n",
       "      <td>2006-01-05</td>\n",
       "      <td>40.93</td>\n",
       "      <td>41.73</td>\n",
       "      <td>40.85</td>\n",
       "      <td>41.53</td>\n",
       "      <td>12829610</td>\n",
       "      <td>AABA</td>\n",
       "    </tr>\n",
       "    <tr>\n",
       "      <th>3</th>\n",
       "      <td>2006-01-06</td>\n",
       "      <td>42.88</td>\n",
       "      <td>43.57</td>\n",
       "      <td>42.80</td>\n",
       "      <td>43.21</td>\n",
       "      <td>29422828</td>\n",
       "      <td>AABA</td>\n",
       "    </tr>\n",
       "    <tr>\n",
       "      <th>4</th>\n",
       "      <td>2006-01-09</td>\n",
       "      <td>43.10</td>\n",
       "      <td>43.66</td>\n",
       "      <td>42.82</td>\n",
       "      <td>43.42</td>\n",
       "      <td>16268338</td>\n",
       "      <td>AABA</td>\n",
       "    </tr>\n",
       "  </tbody>\n",
       "</table>\n",
       "</div>"
      ],
      "text/plain": [
       "         Date   Open   High    Low  Close    Volume  Name\n",
       "0  2006-01-03  39.69  41.22  38.79  40.91  24232729  AABA\n",
       "1  2006-01-04  41.22  41.90  40.77  40.97  20553479  AABA\n",
       "2  2006-01-05  40.93  41.73  40.85  41.53  12829610  AABA\n",
       "3  2006-01-06  42.88  43.57  42.80  43.21  29422828  AABA\n",
       "4  2006-01-09  43.10  43.66  42.82  43.42  16268338  AABA"
      ]
     },
     "execution_count": 81,
     "metadata": {},
     "output_type": "execute_result"
    }
   ],
   "source": [
    "DF = pd.read_csv('../../../datasets/AABA_2006-01-01_to_2018-01-01.csv')\n",
    "# DF = DF.sort_values(by='<DTYYYYMMDD>').reset_index(drop=True)\n",
    "# DF['<DTYYYYMMDD>'] = DF['<DTYYYYMMDD>'].apply(lambda date: ''.join([ f'{v}-' if i in [3,5] else v for (i,v) in enumerate(str(date)) ]))\n",
    "# DF['<DTYYYYMMDD>'] = pd.to_datetime(DF['<DTYYYYMMDD>'])\n",
    "# DF.rename(columns={\n",
    "#     '<DTYYYYMMDD>' : 'date',\n",
    "#     '<FIRST>':'open',\n",
    "#     '<HIGH>':'high',\n",
    "#     '<LOW>':'low',\n",
    "#     '<CLOSE>':'close',\n",
    "#     '<VALUE>':'volume',\n",
    "# },inplace=True)\n",
    "# DF.set_index('date',inplace=True)\n",
    "# DF = DF[['open','high','low','close','volume']]\n",
    "DF.head()"
   ]
  },
  {
   "cell_type": "code",
   "execution_count": 70,
   "id": "e94c25e2",
   "metadata": {},
   "outputs": [
    {
     "data": {
      "text/html": [
       "<div>\n",
       "<style scoped>\n",
       "    .dataframe tbody tr th:only-of-type {\n",
       "        vertical-align: middle;\n",
       "    }\n",
       "\n",
       "    .dataframe tbody tr th {\n",
       "        vertical-align: top;\n",
       "    }\n",
       "\n",
       "    .dataframe thead th {\n",
       "        text-align: right;\n",
       "    }\n",
       "</style>\n",
       "<table border=\"1\" class=\"dataframe\">\n",
       "  <thead>\n",
       "    <tr style=\"text-align: right;\">\n",
       "      <th></th>\n",
       "      <th>open</th>\n",
       "      <th>high</th>\n",
       "      <th>low</th>\n",
       "      <th>close</th>\n",
       "      <th>volume</th>\n",
       "    </tr>\n",
       "  </thead>\n",
       "  <tbody>\n",
       "    <tr>\n",
       "      <th>count</th>\n",
       "      <td>3472.000000</td>\n",
       "      <td>3472.000000</td>\n",
       "      <td>3472.000000</td>\n",
       "      <td>3472.000000</td>\n",
       "      <td>3.472000e+03</td>\n",
       "    </tr>\n",
       "    <tr>\n",
       "      <th>mean</th>\n",
       "      <td>4422.748272</td>\n",
       "      <td>4493.065956</td>\n",
       "      <td>4345.216302</td>\n",
       "      <td>4423.048387</td>\n",
       "      <td>4.052514e+11</td>\n",
       "    </tr>\n",
       "    <tr>\n",
       "      <th>std</th>\n",
       "      <td>3767.136998</td>\n",
       "      <td>3847.462530</td>\n",
       "      <td>3673.937748</td>\n",
       "      <td>3759.742410</td>\n",
       "      <td>1.321266e+12</td>\n",
       "    </tr>\n",
       "    <tr>\n",
       "      <th>min</th>\n",
       "      <td>1000.000000</td>\n",
       "      <td>1007.000000</td>\n",
       "      <td>950.000000</td>\n",
       "      <td>1001.000000</td>\n",
       "      <td>6.591940e+05</td>\n",
       "    </tr>\n",
       "    <tr>\n",
       "      <th>25%</th>\n",
       "      <td>2050.000000</td>\n",
       "      <td>2070.000000</td>\n",
       "      <td>2024.750000</td>\n",
       "      <td>2047.000000</td>\n",
       "      <td>9.493189e+09</td>\n",
       "    </tr>\n",
       "    <tr>\n",
       "      <th>50%</th>\n",
       "      <td>3089.000000</td>\n",
       "      <td>3133.000000</td>\n",
       "      <td>3051.000000</td>\n",
       "      <td>3095.500000</td>\n",
       "      <td>3.365174e+10</td>\n",
       "    </tr>\n",
       "    <tr>\n",
       "      <th>75%</th>\n",
       "      <td>4676.500000</td>\n",
       "      <td>4738.250000</td>\n",
       "      <td>4575.500000</td>\n",
       "      <td>4668.250000</td>\n",
       "      <td>2.095307e+11</td>\n",
       "    </tr>\n",
       "    <tr>\n",
       "      <th>max</th>\n",
       "      <td>23400.000000</td>\n",
       "      <td>24820.000000</td>\n",
       "      <td>22900.000000</td>\n",
       "      <td>23640.000000</td>\n",
       "      <td>2.011022e+13</td>\n",
       "    </tr>\n",
       "  </tbody>\n",
       "</table>\n",
       "</div>"
      ],
      "text/plain": [
       "               open          high           low         close        volume\n",
       "count   3472.000000   3472.000000   3472.000000   3472.000000  3.472000e+03\n",
       "mean    4422.748272   4493.065956   4345.216302   4423.048387  4.052514e+11\n",
       "std     3767.136998   3847.462530   3673.937748   3759.742410  1.321266e+12\n",
       "min     1000.000000   1007.000000    950.000000   1001.000000  6.591940e+05\n",
       "25%     2050.000000   2070.000000   2024.750000   2047.000000  9.493189e+09\n",
       "50%     3089.000000   3133.000000   3051.000000   3095.500000  3.365174e+10\n",
       "75%     4676.500000   4738.250000   4575.500000   4668.250000  2.095307e+11\n",
       "max    23400.000000  24820.000000  22900.000000  23640.000000  2.011022e+13"
      ]
     },
     "execution_count": 70,
     "metadata": {},
     "output_type": "execute_result"
    }
   ],
   "source": [
    "DF.describe()"
   ]
  },
  {
   "cell_type": "code",
   "execution_count": null,
   "id": "60b787a6",
   "metadata": {},
   "outputs": [],
   "source": [
    "DF.info()"
   ]
  },
  {
   "cell_type": "code",
   "execution_count": 82,
   "id": "eba4a9e6",
   "metadata": {},
   "outputs": [
    {
     "data": {
      "text/plain": [
       "[<matplotlib.lines.Line2D at 0x7fa24b6f0d30>]"
      ]
     },
     "execution_count": 82,
     "metadata": {},
     "output_type": "execute_result"
    },
    {
     "data": {
      "image/png": "[encoded data removed]",
      "text/plain": [
       "<Figure size 1500x500 with 1 Axes>"
      ]
     },
     "metadata": {},
     "output_type": "display_data"
    }
   ],
   "source": [
    "PLT.figure(figsize=(15,5))\n",
    "PLT.plot(DF['Open'])"
   ]
  },
  {
   "cell_type": "code",
   "execution_count": 83,
   "id": "af3fc181",
   "metadata": {},
   "outputs": [],
   "source": [
    "data = DF['Open'].values\n",
    "X_train,X_test = data[:2500],data[2500:]"
   ]
  },
  {
   "cell_type": "code",
   "execution_count": 84,
   "id": "fcd56667",
   "metadata": {},
   "outputs": [],
   "source": [
    "XTrain,YTrain = [],[]\n",
    "XTest,YTest = [],[]\n",
    "seq = 15\n",
    "\n",
    "for start in range(len(X_train)- seq):\n",
    "    end = start + seq\n",
    "    XTrain.append(X_train[start:end,])\n",
    "    YTrain.append(X_train[end])\n",
    "    \n",
    "for start in range(len(X_test)- seq):\n",
    "    end = start + seq\n",
    "    XTest.append(X_test[start:end,])\n",
    "    YTest.append(X_test[end])\n",
    "    \n",
    "X_train, X_test, Y_train, Y_test = np.array(XTrain), np.array(XTest), np.array(YTrain), np.array(YTest)\n",
    "X_train = np.reshape( X_train,(X_train.shape[0],X_train.shape[1],1) )\n",
    "X_test = np.reshape( X_test,(X_test.shape[0],X_test.shape[1],1) )"
   ]
  },
  {
   "cell_type": "code",
   "execution_count": 92,
   "id": "39bc6b2a",
   "metadata": {},
   "outputs": [],
   "source": [
    "model = Sequential()\n",
    "model.add(SimpleRNN(units=128, activation='tanh'))\n",
    "model.add(Dense(100))\n",
    "model.add(Dense(1))\n",
    "model.compile(loss='mean_absolute_error',optimizer='adam')"
   ]
  },
  {
   "cell_type": "code",
   "execution_count": 94,
   "id": "f066a366",
   "metadata": {},
   "outputs": [
    {
     "name": "stdout",
     "output_type": "stream",
     "text": [
      "Epoch 1/50\n",
      "50/50 [==============================] - 1s 10ms/step - loss: 0.4525\n",
      "Epoch 2/50\n",
      "50/50 [==============================] - 0s 10ms/step - loss: 0.4494\n",
      "Epoch 3/50\n",
      "50/50 [==============================] - 1s 11ms/step - loss: 0.4722\n",
      "Epoch 4/50\n",
      "50/50 [==============================] - 1s 10ms/step - loss: 0.4386\n",
      "Epoch 5/50\n",
      "50/50 [==============================] - 1s 10ms/step - loss: 0.4345\n",
      "Epoch 6/50\n",
      "50/50 [==============================] - 0s 10ms/step - loss: 0.4646\n",
      "Epoch 7/50\n",
      "50/50 [==============================] - 1s 11ms/step - loss: 0.4253\n",
      "Epoch 8/50\n",
      "50/50 [==============================] - 1s 10ms/step - loss: 0.4552\n",
      "Epoch 9/50\n",
      "50/50 [==============================] - 0s 10ms/step - loss: 0.4282\n",
      "Epoch 10/50\n",
      "50/50 [==============================] - 1s 11ms/step - loss: 0.4298\n",
      "Epoch 11/50\n",
      "50/50 [==============================] - 0s 10ms/step - loss: 0.4354\n",
      "Epoch 12/50\n",
      "50/50 [==============================] - 0s 10ms/step - loss: 0.4514\n",
      "Epoch 13/50\n",
      "50/50 [==============================] - 1s 10ms/step - loss: 0.4376\n",
      "Epoch 14/50\n",
      "50/50 [==============================] - 1s 11ms/step - loss: 0.4364\n",
      "Epoch 15/50\n",
      "50/50 [==============================] - 0s 10ms/step - loss: 0.4179\n",
      "Epoch 16/50\n",
      "50/50 [==============================] - 1s 10ms/step - loss: 0.4805\n",
      "Epoch 17/50\n",
      "50/50 [==============================] - 1s 10ms/step - loss: 0.4202\n",
      "Epoch 18/50\n",
      "50/50 [==============================] - 0s 10ms/step - loss: 0.4255\n",
      "Epoch 19/50\n",
      "50/50 [==============================] - 1s 12ms/step - loss: 0.4532\n",
      "Epoch 20/50\n",
      "50/50 [==============================] - 1s 11ms/step - loss: 0.4347\n",
      "Epoch 21/50\n",
      "50/50 [==============================] - 1s 10ms/step - loss: 0.4679\n",
      "Epoch 22/50\n",
      "50/50 [==============================] - 1s 10ms/step - loss: 0.4378\n",
      "Epoch 23/50\n",
      "50/50 [==============================] - 1s 11ms/step - loss: 0.4177\n",
      "Epoch 24/50\n",
      "50/50 [==============================] - 1s 10ms/step - loss: 0.4536\n",
      "Epoch 25/50\n",
      "50/50 [==============================] - 1s 11ms/step - loss: 0.4258\n",
      "Epoch 26/50\n",
      "50/50 [==============================] - 0s 10ms/step - loss: 0.4469\n",
      "Epoch 27/50\n",
      "50/50 [==============================] - 0s 10ms/step - loss: 0.4454\n",
      "Epoch 28/50\n",
      "50/50 [==============================] - 0s 10ms/step - loss: 0.4387\n",
      "Epoch 29/50\n",
      "50/50 [==============================] - 0s 9ms/step - loss: 0.4271\n",
      "Epoch 30/50\n",
      "50/50 [==============================] - 0s 10ms/step - loss: 0.4312\n",
      "Epoch 31/50\n",
      "50/50 [==============================] - 1s 10ms/step - loss: 0.4334\n",
      "Epoch 32/50\n",
      "50/50 [==============================] - 0s 10ms/step - loss: 0.4199\n",
      "Epoch 33/50\n",
      "50/50 [==============================] - 0s 10ms/step - loss: 0.4272\n",
      "Epoch 34/50\n",
      "50/50 [==============================] - 0s 9ms/step - loss: 0.4465\n",
      "Epoch 35/50\n",
      "50/50 [==============================] - 0s 10ms/step - loss: 0.4519\n",
      "Epoch 36/50\n",
      "50/50 [==============================] - 0s 9ms/step - loss: 0.4511\n",
      "Epoch 37/50\n",
      "50/50 [==============================] - 0s 9ms/step - loss: 0.4256\n",
      "Epoch 38/50\n",
      "50/50 [==============================] - 1s 10ms/step - loss: 0.4826\n",
      "Epoch 39/50\n",
      "50/50 [==============================] - 0s 9ms/step - loss: 0.4909\n",
      "Epoch 40/50\n",
      "50/50 [==============================] - 0s 10ms/step - loss: 0.5085\n",
      "Epoch 41/50\n",
      "50/50 [==============================] - 0s 10ms/step - loss: 0.4375\n",
      "Epoch 42/50\n",
      "50/50 [==============================] - 0s 10ms/step - loss: 0.4465\n",
      "Epoch 43/50\n",
      "50/50 [==============================] - 0s 10ms/step - loss: 0.4536\n",
      "Epoch 44/50\n",
      "50/50 [==============================] - 0s 10ms/step - loss: 0.4462\n",
      "Epoch 45/50\n",
      "50/50 [==============================] - 0s 10ms/step - loss: 0.4231\n",
      "Epoch 46/50\n",
      "50/50 [==============================] - 0s 9ms/step - loss: 0.4261\n",
      "Epoch 47/50\n",
      "50/50 [==============================] - 0s 10ms/step - loss: 0.4129\n",
      "Epoch 48/50\n",
      "50/50 [==============================] - 0s 9ms/step - loss: 0.4725\n",
      "Epoch 49/50\n",
      "50/50 [==============================] - 0s 10ms/step - loss: 0.4169\n",
      "Epoch 50/50\n",
      "50/50 [==============================] - 0s 10ms/step - loss: 0.4262\n"
     ]
    }
   ],
   "source": [
    "history = model.fit(X_train,Y_train, epochs=100,batch_size=50)"
   ]
  },
  {
   "cell_type": "code",
   "execution_count": 89,
   "id": "5389b9f6",
   "metadata": {},
   "outputs": [
    {
     "name": "stdout",
     "output_type": "stream",
     "text": [
      "16/16 [==============================] - 0s 5ms/step - loss: 3.8024\n"
     ]
    },
    {
     "data": {
      "text/plain": [
       "3.802401065826416"
      ]
     },
     "execution_count": 89,
     "metadata": {},
     "output_type": "execute_result"
    }
   ],
   "source": [
    "model.evaluate(X_test,Y_test) # return mean absolute error"
   ]
  },
  {
   "cell_type": "code",
   "execution_count": 90,
   "id": "cda0d220",
   "metadata": {},
   "outputs": [
    {
     "name": "stdout",
     "output_type": "stream",
     "text": [
      "78/78 [==============================] - 1s 5ms/step\n",
      "16/16 [==============================] - 0s 5ms/step\n"
     ]
    }
   ],
   "source": [
    "X_train_predicted = model.predict(X_train)\n",
    "X_test_predicted = model.predict(X_test)\n",
    "X_final = np.concatenate([X_train_predicted,X_test_predicted],axis=0)"
   ]
  },
  {
   "cell_type": "code",
   "execution_count": 91,
   "id": "11f11be1",
   "metadata": {},
   "outputs": [
    {
     "data": {
      "text/plain": [
       "[<matplotlib.lines.Line2D at 0x7fa24b2b9400>]"
      ]
     },
     "execution_count": 91,
     "metadata": {},
     "output_type": "execute_result"
    },
    {
     "data": {
      "image/png": "[encoded data removed]",
      "text/plain": [
       "<Figure size 1500x500 with 1 Axes>"
      ]
     },
     "metadata": {},
     "output_type": "display_data"
    }
   ],
   "source": [
    "PLT.figure(figsize=(15,5))\n",
    "\n",
    "PLT.plot(data, c='blue')\n",
    "PLT.plot(X_final, c='red')"
   ]
  },
  {
   "cell_type": "code",
   "execution_count": null,
   "id": "2ba58f7d",
   "metadata": {},
   "outputs": [],
   "source": []
  },
  {
   "cell_type": "code",
   "execution_count": null,
   "id": "581db79e",
   "metadata": {},
   "outputs": [],
   "source": []
  },
  {
   "cell_type": "code",
   "execution_count": null,
   "id": "c5cbd88f",
   "metadata": {},
   "outputs": [],
   "source": []
  },
  {
   "cell_type": "code",
   "execution_count": null,
   "id": "65a51069",
   "metadata": {},
   "outputs": [],
   "source": []
  },
  {
   "cell_type": "code",
   "execution_count": null,
   "id": "768a33dd",
   "metadata": {},
   "outputs": [],
   "source": []
  },
  {
   "cell_type": "code",
   "execution_count": null,
   "id": "6c4464e3",
   "metadata": {},
   "outputs": [],
   "source": []
  },
  {
   "cell_type": "code",
   "execution_count": null,
   "id": "43653b1b",
   "metadata": {},
   "outputs": [],
   "source": []
  },
  {
   "cell_type": "code",
   "execution_count": null,
   "id": "2ca32147",
   "metadata": {},
   "outputs": [],
   "source": []
  },
  {
   "cell_type": "code",
   "execution_count": null,
   "id": "62eaf76a",
   "metadata": {},
   "outputs": [],
   "source": []
  }
 ],
 "metadata": {
  "kernelspec": {
   "display_name": "Python 3 (ipykernel)",
   "language": "python",
   "name": "python3"
  },
  "language_info": {
   "codemirror_mode": {
    "name": "ipython",
    "version": 3
   },
   "file_extension": ".py",
   "mimetype": "text/x-python",
   "name": "python",
   "nbconvert_exporter": "python",
   "pygments_lexer": "ipython3",
   "version": "3.9.13"
  }
 },
 "nbformat": 4,
 "nbformat_minor": 5
}
