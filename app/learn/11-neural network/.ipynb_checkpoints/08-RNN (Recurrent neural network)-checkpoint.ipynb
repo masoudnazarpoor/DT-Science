{
 "cells": [
  {
   "cell_type": "markdown",
   "id": "c7b40968",
   "metadata": {},
   "source": [
    "# RNN (Recurrent neural network) : \n",
    "### is good for sequenced (Text, Time Series) problem\n",
    "<img src=\"../../img/RNN-vs-LSTM-vs-GRU-1200x361.png\">\n",
    "<img src=\"../../img/1 d_POV7c8fzHbKuTgJzCxtA.gif\">\n",
    "<img src=\"../../img/rnn_rel.jpeg\">\n",
    "\n"
   ]
  },
  {
   "cell_type": "code",
   "execution_count": 2,
   "id": "eaace6ab",
   "metadata": {
    "scrolled": true
   },
   "outputs": [],
   "source": [
    "import numpy as np\n",
    "import pandas as pd\n",
    "import random\n",
    "import matplotlib.pyplot as PLT\n",
    "from tensorflow.keras.models import Sequential\n",
    "from tensorflow.keras.layers import Dense,SimpleRNN,Dropout,LSTM,GRU,BatchNormalization,Activation\n",
    "from sklearn.model_selection import train_test_split\n",
    "from sklearn.model_selection import train_test_split\n",
    "from sklearn import metrics"
   ]
  },
  {
   "cell_type": "markdown",
   "id": "b2b93366",
   "metadata": {},
   "source": [
    "# Simple RNN"
   ]
  },
  {
   "cell_type": "code",
   "execution_count": null,
   "id": "2386e47c",
   "metadata": {},
   "outputs": [],
   "source": [
    "t = np.arange(0,2000)\n",
    "x = np.sin( .01* t)\n",
    "X_train,X_test= x[:1500],x[1500:]"
   ]
  },
  {
   "cell_type": "code",
   "execution_count": null,
   "id": "b239e81d",
   "metadata": {},
   "outputs": [],
   "source": [
    "XTrain,YTrain = [],[]\n",
    "XTest,YTest = [],[]\n",
    "seq = 5\n",
    "\n",
    "for start in range(len(X_train)- seq):\n",
    "    end = start + seq\n",
    "    XTrain.append(X_train[start:end,])\n",
    "    YTrain.append(X_train[end])\n",
    "    \n",
    "for start in range(len(X_test)- seq):\n",
    "    end = start + seq\n",
    "    XTest.append(X_test[start:end,])\n",
    "    YTest.append(X_test[end])\n",
    "    \n",
    "X_train, X_test, Y_train, Y_test = np.array(XTrain), np.array(XTest), np.array(YTrain), np.array(YTest)\n",
    "X_train = np.reshape( X_train,(X_train.shape[0],X_train.shape[1],1) )\n",
    "X_test = np.reshape( X_test,(X_test.shape[0],X_test.shape[1],1) )"
   ]
  },
  {
   "cell_type": "code",
   "execution_count": null,
   "id": "f254ca55",
   "metadata": {
    "scrolled": true
   },
   "outputs": [],
   "source": [
    "PLT.plot(x)"
   ]
  },
  {
   "cell_type": "code",
   "execution_count": null,
   "id": "f923f3a1",
   "metadata": {},
   "outputs": [],
   "source": [
    "model = Sequential()\n",
    "model.add(SimpleRNN(units=64, activation='tanh'))\n",
    "model.add(Dense(1))\n",
    "\n",
    "model.compile(loss='mean_absolute_error',optimizer='adam')"
   ]
  },
  {
   "cell_type": "code",
   "execution_count": null,
   "id": "026c361d",
   "metadata": {},
   "outputs": [],
   "source": [
    "history = model.fit(X_train,Y_train, epochs=100,batch_size=20)"
   ]
  },
  {
   "cell_type": "code",
   "execution_count": null,
   "id": "480e701b",
   "metadata": {},
   "outputs": [],
   "source": [
    "model.evaluate(X_test,Y_test) # return mean absolute error"
   ]
  },
  {
   "cell_type": "code",
   "execution_count": null,
   "id": "1366016b",
   "metadata": {},
   "outputs": [],
   "source": [
    "X_train_predicted = model.predict(X_train)\n",
    "X_test_predicted = model.predict(X_test)\n",
    "X_final = np.concatenate([X_train_predicted,X_test_predicted],axis=0)"
   ]
  },
  {
   "cell_type": "code",
   "execution_count": null,
   "id": "2ce9e39b",
   "metadata": {},
   "outputs": [],
   "source": [
    "PLT.plot(x, c='blue')\n",
    "PLT.plot(X_final, c='red')"
   ]
  },
  {
   "cell_type": "markdown",
   "id": "1f02b66c",
   "metadata": {},
   "source": [
    "# Simple RNN predict Foolad"
   ]
  },
  {
   "cell_type": "code",
   "execution_count": null,
   "id": "13bb5eb6",
   "metadata": {},
   "outputs": [],
   "source": [
    "DF = pd.read_csv('../../../datasets/foolad.csv')\n",
    "DF = DF.sort_values(by='<DTYYYYMMDD>').reset_index(drop=True)\n",
    "DF['<DTYYYYMMDD>'] = DF['<DTYYYYMMDD>'].apply(lambda date: ''.join([ f'{v}-' if i in [3,5] else v for (i,v) in enumerate(str(date)) ]))\n",
    "DF['<DTYYYYMMDD>'] = pd.to_datetime(DF['<DTYYYYMMDD>'])\n",
    "DF.rename(columns={\n",
    "    '<DTYYYYMMDD>' : 'Date',\n",
    "    '<FIRST>':'Open',\n",
    "    '<HIGH>':'High',\n",
    "    '<LOW>':'Low',\n",
    "    '<CLOSE>':'Close',\n",
    "    '<VALUE>':'Volume',\n",
    "},inplace=True)\n",
    "DF.set_index('Date',inplace=True)\n",
    "DF = DF[['Open','High','Low','Close','Volume']]\n",
    "DF.head()"
   ]
  },
  {
   "cell_type": "code",
   "execution_count": null,
   "id": "e94c25e2",
   "metadata": {},
   "outputs": [],
   "source": [
    "DF.describe()"
   ]
  },
  {
   "cell_type": "code",
   "execution_count": null,
   "id": "60b787a6",
   "metadata": {},
   "outputs": [],
   "source": [
    "DF.info()"
   ]
  },
  {
   "cell_type": "code",
   "execution_count": null,
   "id": "eba4a9e6",
   "metadata": {},
   "outputs": [],
   "source": [
    "PLT.figure(figsize=(15,5))\n",
    "PLT.plot(DF['Close'])"
   ]
  },
  {
   "cell_type": "code",
   "execution_count": null,
   "id": "af3fc181",
   "metadata": {},
   "outputs": [],
   "source": [
    "data = DF['Close'].values\n",
    "X_train,X_test = data[:2500],data[2500:]"
   ]
  },
  {
   "cell_type": "code",
   "execution_count": null,
   "id": "fcd56667",
   "metadata": {},
   "outputs": [],
   "source": [
    "XTrain,YTrain = [],[]\n",
    "XTest,YTest = [],[]\n",
    "seq = 30\n",
    "\n",
    "for start in range(len(X_train)- seq):\n",
    "    end = start + seq\n",
    "    XTrain.append(X_train[start:end,])\n",
    "    YTrain.append(X_train[end])\n",
    "    \n",
    "for start in range(len(X_test)- seq):\n",
    "    end = start + seq\n",
    "    XTest.append(X_test[start:end,])\n",
    "    YTest.append(X_test[end])\n",
    "    \n",
    "X_train, X_test, Y_train, Y_test = np.array(XTrain), np.array(XTest), np.array(YTrain), np.array(YTest)\n",
    "X_train = np.reshape( X_train,(X_train.shape[0],X_train.shape[1],1) )\n",
    "X_test = np.reshape( X_test,(X_test.shape[0],X_test.shape[1],1) )"
   ]
  },
  {
   "cell_type": "code",
   "execution_count": null,
   "id": "39bc6b2a",
   "metadata": {},
   "outputs": [],
   "source": [
    "model = Sequential()\n",
    "model.add(GRU(units=64, activation='relu')) # tanh\n",
    "model.add(Dense(100))\n",
    "model.add(Dropout(.5))\n",
    "model.add(Dense(10))\n",
    "model.add(Dense(1))\n",
    "model.compile(loss='mean_absolute_error',optimizer='adam')"
   ]
  },
  {
   "cell_type": "code",
   "execution_count": null,
   "id": "f066a366",
   "metadata": {},
   "outputs": [],
   "source": [
    "history = model.fit(X_train,Y_train, epochs=50,batch_size=50)"
   ]
  },
  {
   "cell_type": "code",
   "execution_count": null,
   "id": "5389b9f6",
   "metadata": {},
   "outputs": [],
   "source": [
    "model.evaluate(X_test,Y_test) # return mean absolute error"
   ]
  },
  {
   "cell_type": "code",
   "execution_count": null,
   "id": "cda0d220",
   "metadata": {},
   "outputs": [],
   "source": [
    "X_train_predicted = model.predict(X_train)\n",
    "X_test_predicted = model.predict(X_test)\n",
    "X_final = np.concatenate([X_train_predicted,X_test_predicted],axis=0)"
   ]
  },
  {
   "cell_type": "code",
   "execution_count": null,
   "id": "11f11be1",
   "metadata": {},
   "outputs": [],
   "source": [
    "PLT.figure(figsize=(15,5))\n",
    "\n",
    "PLT.plot(data, c='blue')\n",
    "PLT.plot(X_final, c='red')"
   ]
  },
  {
   "cell_type": "markdown",
   "id": "d06a538a",
   "metadata": {},
   "source": [
    "# Currency Prediction"
   ]
  },
  {
   "cell_type": "code",
   "execution_count": 3,
   "id": "7726b000",
   "metadata": {},
   "outputs": [],
   "source": [
    "from collections import deque\n",
    "from sklearn import preprocessing\n",
    "import datetime as dt\n",
    "import pandas_datareader as web \n",
    "import requests"
   ]
  },
  {
   "cell_type": "code",
   "execution_count": null,
   "id": "581db79e",
   "metadata": {},
   "outputs": [],
   "source": [
    "FOOLAD = DF.copy()"
   ]
  },
  {
   "cell_type": "code",
   "execution_count": null,
   "id": "c5cbd88f",
   "metadata": {},
   "outputs": [],
   "source": [
    "start = dt.datetime(2018,1,1)\n",
    "end = dt.datetime.now()\n",
    "DOGE = web.DataReader('DOGE-USD', 'yahoo', start, end)\n",
    "\n",
    "\n",
    "# DOGE = DOGE.reset_index()\n",
    "# DOGE['Date'] = pd.to_datetime(DOGE['Date'])\n",
    "# DOGE = DOGE.rename(columns={'Date':'Date'})\n",
    "# DOGE.drop(columns=['Adj Close'],inplace=True)\n",
    "# DOGE.set_index('Date',inplace=True)"
   ]
  },
  {
   "cell_type": "code",
   "execution_count": null,
   "id": "683ac69b",
   "metadata": {},
   "outputs": [],
   "source": [
    "# FOOLAD.fillna(method='ffill')"
   ]
  },
  {
   "cell_type": "code",
   "execution_count": null,
   "id": "f299af0a",
   "metadata": {},
   "outputs": [],
   "source": [
    "DF = DOGE.copy()"
   ]
  },
  {
   "cell_type": "code",
   "execution_count": null,
   "id": "eec0f75f",
   "metadata": {},
   "outputs": [],
   "source": [
    "DF['future'] = DF['Close'].shift(-3)"
   ]
  },
  {
   "cell_type": "code",
   "execution_count": null,
   "id": "65a51069",
   "metadata": {},
   "outputs": [],
   "source": [
    "DF.head()"
   ]
  },
  {
   "cell_type": "code",
   "execution_count": null,
   "id": "768a33dd",
   "metadata": {},
   "outputs": [],
   "source": [
    "def compare(future,current):\n",
    "    return 1 if future > current else 0\n",
    "DF['target'] = list(map(compare, DF['future'], DF['Close']))"
   ]
  },
  {
   "cell_type": "code",
   "execution_count": null,
   "id": "6c4464e3",
   "metadata": {},
   "outputs": [],
   "source": [
    "DF.head()"
   ]
  },
  {
   "cell_type": "code",
   "execution_count": null,
   "id": "8866cc6f",
   "metadata": {},
   "outputs": [],
   "source": [
    "def preprocess_currency(DF,COLS,seq):\n",
    "    DF = DF.copy()\n",
    "    for c in COLS:\n",
    "        DF[c] = DF[c].pct_change()\n",
    "        DF.dropna(inplace=True)\n",
    "        DF[c] = preprocessing.scale(DF[c])\n",
    "    DF.dropna(inplace=True)\n",
    "    sequences = []\n",
    "    prev_days = deque(maxlen=seq)\n",
    "    for i in DF.values:\n",
    "        prev_days.append(i[:-2])\n",
    "        if len(prev_days) == seq:\n",
    "            sequences.append([np.array(prev_days),i[-1]])\n",
    "#     print(sequences)        \n",
    "    random.shuffle(sequences)\n",
    "    buys = []\n",
    "    sells= []\n",
    "    for sequence, target in sequences:\n",
    "        if target == 0:\n",
    "            sells.append([sequence,target])\n",
    "        else :\n",
    "            buys.append([sequence,target])\n",
    "    random.shuffle(buys)\n",
    "    random.shuffle(sells)\n",
    "    \n",
    "    lower = min(len(buys), len(sells))\n",
    "    buys = buys[:lower]\n",
    "    sells = sells[:lower]\n",
    "    sequences = buys+sells\n",
    "    random.shuffle(sequences)\n",
    "    X = []\n",
    "    Y = []\n",
    "    for seq, target in sequences:\n",
    "        X.append(seq)\n",
    "        Y.append(target)\n",
    "    return np.array(X), np.array(Y)"
   ]
  },
  {
   "cell_type": "code",
   "execution_count": null,
   "id": "ff992605",
   "metadata": {},
   "outputs": [],
   "source": [
    "DF_train, DF_test = train_test_split(DF,test_size=.4,shuffle=False)"
   ]
  },
  {
   "cell_type": "code",
   "execution_count": null,
   "id": "c2ec0080",
   "metadata": {},
   "outputs": [],
   "source": [
    "seq = 90\n",
    "X_COLS = DF.columns.difference(['future','target'])\n",
    "                               \n",
    "X_train, Y_train = preprocess_currency(DF_train,X_COLS,seq)\n",
    "X_test, Y_test = preprocess_currency(DF_test,X_COLS,seq)\n",
    "# X_train.shape"
   ]
  },
  {
   "cell_type": "code",
   "execution_count": null,
   "id": "8bdc605f",
   "metadata": {},
   "outputs": [],
   "source": [
    "model = Sequential()\n",
    "model.add( \n",
    "    LSTM(units=32,\n",
    "         input_shape=(X_train.shape[1:]),\n",
    "         activation='relu',\n",
    "#          return_sequences=True\n",
    "        ) \n",
    ") \n",
    "# model.add(BatchNormalization())\n",
    "# model.add(GRU(units=12,activation='relu',)) \n",
    "model.add(Dense(10))\n",
    "# model.add(Dropout(.5))\n",
    "# model.add(Dense(10))\n",
    "model.add(Dense(2, activation='softmax'))\n",
    "model.compile(loss='sparse_categorical_crossentropy',optimizer='Adam', metrics=['accuracy'])"
   ]
  },
  {
   "cell_type": "code",
   "execution_count": null,
   "id": "a79fa7d9",
   "metadata": {},
   "outputs": [],
   "source": [
    "history = model.fit(X_train,Y_train, epochs=100,batch_size=50, validation_data=(X_test,Y_test) )"
   ]
  },
  {
   "cell_type": "code",
   "execution_count": null,
   "id": "466d0ea3",
   "metadata": {},
   "outputs": [],
   "source": [
    "Y_predicted = model.predict(X_test)\n",
    "Y_predicted = [np.argmax(x) for x in Y_predicted]\n",
    "# Y_predicted = [1 if x[1]>.4 else 0 for x in Y_predicted]\n",
    "\n",
    "print(metrics.classification_report(Y_test,Y_predicted))\n",
    "print(metrics.confusion_matrix(Y_test,Y_predicted))"
   ]
  },
  {
   "cell_type": "code",
   "execution_count": null,
   "id": "7b005537",
   "metadata": {},
   "outputs": [],
   "source": [
    "today = DF.iloc[len(DF)-15:,:-2]"
   ]
  },
  {
   "cell_type": "code",
   "execution_count": null,
   "id": "8f52cdb4",
   "metadata": {},
   "outputs": [],
   "source": [
    "today"
   ]
  },
  {
   "cell_type": "code",
   "execution_count": null,
   "id": "c3ee033e",
   "metadata": {
    "scrolled": false
   },
   "outputs": [],
   "source": [
    "np.argmax(model.predict(\n",
    " [today.values]\n",
    "))"
   ]
  },
  {
   "cell_type": "markdown",
   "id": "ddbb84c3",
   "metadata": {},
   "source": [
    "# LSTM Currency Prediction"
   ]
  },
  {
   "cell_type": "code",
   "execution_count": 4,
   "id": "d8c3c7d1",
   "metadata": {
    "scrolled": true
   },
   "outputs": [
    {
     "data": {
      "text/html": [
       "<div>\n",
       "<style scoped>\n",
       "    .dataframe tbody tr th:only-of-type {\n",
       "        vertical-align: middle;\n",
       "    }\n",
       "\n",
       "    .dataframe tbody tr th {\n",
       "        vertical-align: top;\n",
       "    }\n",
       "\n",
       "    .dataframe thead th {\n",
       "        text-align: right;\n",
       "    }\n",
       "</style>\n",
       "<table border=\"1\" class=\"dataframe\">\n",
       "  <thead>\n",
       "    <tr style=\"text-align: right;\">\n",
       "      <th></th>\n",
       "      <th>Open</th>\n",
       "      <th>High</th>\n",
       "      <th>Low</th>\n",
       "      <th>Close</th>\n",
       "      <th>Volume</th>\n",
       "    </tr>\n",
       "    <tr>\n",
       "      <th>Date</th>\n",
       "      <th></th>\n",
       "      <th></th>\n",
       "      <th></th>\n",
       "      <th></th>\n",
       "      <th></th>\n",
       "    </tr>\n",
       "  </thead>\n",
       "  <tbody>\n",
       "    <tr>\n",
       "      <th>2018-01-01</th>\n",
       "      <td>14112.200195</td>\n",
       "      <td>14112.200195</td>\n",
       "      <td>13154.700195</td>\n",
       "      <td>13657.200195</td>\n",
       "      <td>1.029120e+10</td>\n",
       "    </tr>\n",
       "    <tr>\n",
       "      <th>2018-01-02</th>\n",
       "      <td>13625.000000</td>\n",
       "      <td>15444.599609</td>\n",
       "      <td>13163.599609</td>\n",
       "      <td>14982.099609</td>\n",
       "      <td>1.684660e+10</td>\n",
       "    </tr>\n",
       "    <tr>\n",
       "      <th>2018-01-03</th>\n",
       "      <td>14978.200195</td>\n",
       "      <td>15572.799805</td>\n",
       "      <td>14844.500000</td>\n",
       "      <td>15201.000000</td>\n",
       "      <td>1.687190e+10</td>\n",
       "    </tr>\n",
       "    <tr>\n",
       "      <th>2018-01-04</th>\n",
       "      <td>15270.700195</td>\n",
       "      <td>15739.700195</td>\n",
       "      <td>14522.200195</td>\n",
       "      <td>15599.200195</td>\n",
       "      <td>2.178320e+10</td>\n",
       "    </tr>\n",
       "    <tr>\n",
       "      <th>2018-01-05</th>\n",
       "      <td>15477.200195</td>\n",
       "      <td>17705.199219</td>\n",
       "      <td>15202.799805</td>\n",
       "      <td>17429.500000</td>\n",
       "      <td>2.384090e+10</td>\n",
       "    </tr>\n",
       "  </tbody>\n",
       "</table>\n",
       "</div>"
      ],
      "text/plain": [
       "                    Open          High           Low         Close  \\\n",
       "Date                                                                 \n",
       "2018-01-01  14112.200195  14112.200195  13154.700195  13657.200195   \n",
       "2018-01-02  13625.000000  15444.599609  13163.599609  14982.099609   \n",
       "2018-01-03  14978.200195  15572.799805  14844.500000  15201.000000   \n",
       "2018-01-04  15270.700195  15739.700195  14522.200195  15599.200195   \n",
       "2018-01-05  15477.200195  17705.199219  15202.799805  17429.500000   \n",
       "\n",
       "                  Volume  \n",
       "Date                      \n",
       "2018-01-01  1.029120e+10  \n",
       "2018-01-02  1.684660e+10  \n",
       "2018-01-03  1.687190e+10  \n",
       "2018-01-04  2.178320e+10  \n",
       "2018-01-05  2.384090e+10  "
      ]
     },
     "execution_count": 4,
     "metadata": {},
     "output_type": "execute_result"
    }
   ],
   "source": [
    "DF = pd.read_csv('../../../datasets/BTC-USD.csv')\n",
    "DF.drop(columns=['Adj Close'], inplace=True)\n",
    "DF['Date'] = pd.to_datetime(DF['Date'])\n",
    "DF.set_index('Date',inplace=True)\n",
    "DF.dropna(inplace=True)\n",
    "DF.head()"
   ]
  },
  {
   "cell_type": "code",
   "execution_count": 5,
   "id": "a1b3cdbd",
   "metadata": {},
   "outputs": [],
   "source": [
    "DF_train, DF_test = train_test_split(DF,test_size=.3,shuffle=False)"
   ]
  },
  {
   "cell_type": "code",
   "execution_count": 6,
   "id": "f916f6d2",
   "metadata": {},
   "outputs": [
    {
     "data": {
      "text/plain": [
       "[<matplotlib.lines.Line2D at 0x7fbc4ffb83d0>]"
      ]
     },
     "execution_count": 6,
     "metadata": {},
     "output_type": "execute_result"
    },
    {
     "data": {
      "image/png": "[encoded data removed]",
      "text/plain": [
       "<Figure size 1500x500 with 1 Axes>"
      ]
     },
     "metadata": {},
     "output_type": "display_data"
    }
   ],
   "source": [
    "PLT.figure(figsize=(15,5))\n",
    "PLT.plot(DF_train['Close'], c='blue',label='train_data')\n",
    "PLT.plot(DF_test['Close'], c='orange',label='test_data')\n"
   ]
  },
  {
   "cell_type": "code",
   "execution_count": 7,
   "id": "b03d938e",
   "metadata": {},
   "outputs": [],
   "source": [
    "def extract_window_data(DF,window):\n",
    "    window_data = []\n",
    "    for i in range(len(DF)- window):\n",
    "        tmp = DF[i:(i+window)].copy()\n",
    "        window_data.append(tmp.values)\n",
    "    return np.array(window_data)"
   ]
  },
  {
   "cell_type": "code",
   "execution_count": 28,
   "id": "f3f590d5",
   "metadata": {},
   "outputs": [],
   "source": [
    "def prepare_data(DF,TARGET_COL,window):\n",
    "    DF_train, DF_test = train_test_split(DF,test_size=.1,shuffle=False)\n",
    "    \n",
    "    X_train = extract_window_data(\n",
    "        DF_train[DF_train.columns.difference([TARGET_COL])],\n",
    "        window\n",
    "    )\n",
    "    \n",
    "    X_test = extract_window_data(\n",
    "        DF_test[DF_test.columns.difference([TARGET_COL])],\n",
    "        window\n",
    "    )\n",
    "    \n",
    "    Y_train = DF_train[TARGET_COL][window:].values\n",
    "    Y_test = DF_test[TARGET_COL][window:].values\n",
    "    \n",
    "    Y_train = DF_train[TARGET_COL][:-window].values \n",
    "    Y_test = DF_test[TARGET_COL][:-window].values \n",
    "    \n",
    "    return DF_train, DF_test, X_train, X_test, Y_train, Y_test"
   ]
  },
  {
   "cell_type": "code",
   "execution_count": 37,
   "id": "5dc86e92",
   "metadata": {},
   "outputs": [],
   "source": [
    "DF2 = DF.iloc[1:].reset_index(drop=True) / DF.iloc[:-1].reset_index(drop=True)"
   ]
  },
  {
   "cell_type": "code",
   "execution_count": 41,
   "id": "da884d43",
   "metadata": {},
   "outputs": [],
   "source": [
    "window = 10\n",
    "DF_train, DF_test, X_train, X_test, Y_train, Y_test = prepare_data(DF2,'Close',window)\n",
    "\n",
    "Y_train[Y_train>1] = 1\n",
    "Y_train[Y_train< 1] = 0\n",
    "Y_test[Y_test>1] = 1\n",
    "Y_test[Y_test< 1] = 0"
   ]
  },
  {
   "cell_type": "code",
   "execution_count": 42,
   "id": "febbeb73",
   "metadata": {},
   "outputs": [],
   "source": [
    "model = Sequential()\n",
    "model.add( \n",
    "    LSTM(units=32,\n",
    "         input_shape=(X_train.shape[1:]),\n",
    "         activation='relu',\n",
    "#          return_sequences=True\n",
    "        ) \n",
    ") \n",
    "model.add(Dropout(.5))\n",
    "# model.add(Dense(10))\n",
    "model.add(Dense(1))\n",
    "model.add(Activation('sigmoid'))\n",
    "model.compile(loss='binary_crossentropy',optimizer='Adam',metrics=['accuracy'])"
   ]
  },
  {
   "cell_type": "code",
   "execution_count": 43,
   "id": "ac540d80",
   "metadata": {
    "scrolled": true
   },
   "outputs": [
    {
     "name": "stdout",
     "output_type": "stream",
     "text": [
      "Epoch 1/50\n",
      "36/36 [==============================] - 2s 16ms/step - loss: 0.6940 - accuracy: 0.5297 - val_loss: 0.6953 - val_accuracy: 0.4874\n",
      "Epoch 2/50\n",
      "36/36 [==============================] - 0s 8ms/step - loss: 0.6984 - accuracy: 0.5079 - val_loss: 0.6973 - val_accuracy: 0.4874\n",
      "Epoch 3/50\n",
      "36/36 [==============================] - 0s 8ms/step - loss: 0.6912 - accuracy: 0.5131 - val_loss: 0.6959 - val_accuracy: 0.4874\n",
      "Epoch 4/50\n",
      "36/36 [==============================] - 0s 8ms/step - loss: 0.6914 - accuracy: 0.5253 - val_loss: 0.6985 - val_accuracy: 0.4874\n",
      "Epoch 5/50\n",
      "36/36 [==============================] - 0s 8ms/step - loss: 0.6937 - accuracy: 0.5122 - val_loss: 0.6969 - val_accuracy: 0.4874\n",
      "Epoch 6/50\n",
      "36/36 [==============================] - 0s 8ms/step - loss: 0.6940 - accuracy: 0.5219 - val_loss: 0.6961 - val_accuracy: 0.4874\n",
      "Epoch 7/50\n",
      "36/36 [==============================] - 0s 8ms/step - loss: 0.6920 - accuracy: 0.5288 - val_loss: 0.6951 - val_accuracy: 0.4874\n",
      "Epoch 8/50\n",
      "36/36 [==============================] - 0s 8ms/step - loss: 0.6916 - accuracy: 0.5201 - val_loss: 0.6960 - val_accuracy: 0.4874\n",
      "Epoch 9/50\n",
      "36/36 [==============================] - 0s 8ms/step - loss: 0.6923 - accuracy: 0.5140 - val_loss: 0.6979 - val_accuracy: 0.4874\n",
      "Epoch 10/50\n",
      "36/36 [==============================] - 0s 8ms/step - loss: 0.6905 - accuracy: 0.5271 - val_loss: 0.6967 - val_accuracy: 0.4874\n",
      "Epoch 11/50\n",
      "36/36 [==============================] - 0s 9ms/step - loss: 0.6917 - accuracy: 0.5280 - val_loss: 0.6975 - val_accuracy: 0.4874\n",
      "Epoch 12/50\n",
      "36/36 [==============================] - 0s 9ms/step - loss: 0.6933 - accuracy: 0.5245 - val_loss: 0.6952 - val_accuracy: 0.4874\n",
      "Epoch 13/50\n",
      "36/36 [==============================] - 0s 8ms/step - loss: 0.6898 - accuracy: 0.5323 - val_loss: 0.6967 - val_accuracy: 0.4874\n",
      "Epoch 14/50\n",
      "36/36 [==============================] - 0s 8ms/step - loss: 0.6917 - accuracy: 0.5297 - val_loss: 0.6966 - val_accuracy: 0.4874\n",
      "Epoch 15/50\n",
      "36/36 [==============================] - 0s 8ms/step - loss: 0.6911 - accuracy: 0.5306 - val_loss: 0.6969 - val_accuracy: 0.4874\n",
      "Epoch 16/50\n",
      "36/36 [==============================] - 0s 8ms/step - loss: 0.6930 - accuracy: 0.5288 - val_loss: 0.6959 - val_accuracy: 0.4874\n",
      "Epoch 17/50\n",
      "36/36 [==============================] - 0s 8ms/step - loss: 0.6919 - accuracy: 0.5262 - val_loss: 0.6981 - val_accuracy: 0.4874\n",
      "Epoch 18/50\n",
      "36/36 [==============================] - 0s 8ms/step - loss: 0.6929 - accuracy: 0.5253 - val_loss: 0.6961 - val_accuracy: 0.4874\n",
      "Epoch 19/50\n",
      "36/36 [==============================] - 0s 8ms/step - loss: 0.6916 - accuracy: 0.5332 - val_loss: 0.6963 - val_accuracy: 0.4874\n",
      "Epoch 20/50\n",
      "36/36 [==============================] - 0s 8ms/step - loss: 0.6908 - accuracy: 0.5385 - val_loss: 0.6977 - val_accuracy: 0.4874\n",
      "Epoch 21/50\n",
      "36/36 [==============================] - 0s 8ms/step - loss: 0.6905 - accuracy: 0.5350 - val_loss: 0.6972 - val_accuracy: 0.4874\n",
      "Epoch 22/50\n",
      "36/36 [==============================] - 0s 8ms/step - loss: 0.6921 - accuracy: 0.5341 - val_loss: 0.6968 - val_accuracy: 0.4874\n",
      "Epoch 23/50\n",
      "36/36 [==============================] - 0s 8ms/step - loss: 0.6917 - accuracy: 0.5350 - val_loss: 0.6968 - val_accuracy: 0.4874\n",
      "Epoch 24/50\n",
      "36/36 [==============================] - 0s 8ms/step - loss: 0.6918 - accuracy: 0.5332 - val_loss: 0.6959 - val_accuracy: 0.4874\n",
      "Epoch 25/50\n",
      "36/36 [==============================] - 0s 8ms/step - loss: 0.6894 - accuracy: 0.5350 - val_loss: 0.6976 - val_accuracy: 0.4874\n",
      "Epoch 26/50\n",
      "36/36 [==============================] - 0s 8ms/step - loss: 0.6916 - accuracy: 0.5332 - val_loss: 0.6963 - val_accuracy: 0.4874\n",
      "Epoch 27/50\n",
      "36/36 [==============================] - 0s 8ms/step - loss: 0.6914 - accuracy: 0.5350 - val_loss: 0.6967 - val_accuracy: 0.4874\n",
      "Epoch 28/50\n",
      "36/36 [==============================] - 0s 8ms/step - loss: 0.6916 - accuracy: 0.5332 - val_loss: 0.6966 - val_accuracy: 0.4874\n",
      "Epoch 29/50\n",
      "36/36 [==============================] - 0s 8ms/step - loss: 0.6909 - accuracy: 0.5350 - val_loss: 0.6962 - val_accuracy: 0.4874\n",
      "Epoch 30/50\n",
      "36/36 [==============================] - 0s 8ms/step - loss: 0.6917 - accuracy: 0.5341 - val_loss: 0.6961 - val_accuracy: 0.4874\n",
      "Epoch 31/50\n",
      "36/36 [==============================] - 0s 8ms/step - loss: 0.6908 - accuracy: 0.5350 - val_loss: 0.6972 - val_accuracy: 0.4874\n",
      "Epoch 32/50\n",
      "36/36 [==============================] - 0s 8ms/step - loss: 0.6908 - accuracy: 0.5323 - val_loss: 0.6952 - val_accuracy: 0.4874\n",
      "Epoch 33/50\n",
      "36/36 [==============================] - 0s 8ms/step - loss: 0.6920 - accuracy: 0.5262 - val_loss: 0.6973 - val_accuracy: 0.4874\n",
      "Epoch 34/50\n",
      "36/36 [==============================] - 0s 8ms/step - loss: 0.6919 - accuracy: 0.5341 - val_loss: 0.6965 - val_accuracy: 0.4874\n",
      "Epoch 35/50\n",
      "36/36 [==============================] - 0s 8ms/step - loss: 0.6908 - accuracy: 0.5341 - val_loss: 0.6968 - val_accuracy: 0.4874\n",
      "Epoch 36/50\n",
      "36/36 [==============================] - 0s 8ms/step - loss: 0.6911 - accuracy: 0.5341 - val_loss: 0.6964 - val_accuracy: 0.4874\n",
      "Epoch 37/50\n",
      "36/36 [==============================] - 0s 8ms/step - loss: 0.6913 - accuracy: 0.5341 - val_loss: 0.6966 - val_accuracy: 0.4874\n",
      "Epoch 38/50\n",
      "36/36 [==============================] - 0s 8ms/step - loss: 0.6907 - accuracy: 0.5341 - val_loss: 0.6963 - val_accuracy: 0.4874\n",
      "Epoch 39/50\n",
      "36/36 [==============================] - 0s 8ms/step - loss: 0.6916 - accuracy: 0.5341 - val_loss: 0.6962 - val_accuracy: 0.4874\n",
      "Epoch 40/50\n",
      "36/36 [==============================] - 0s 8ms/step - loss: 0.6903 - accuracy: 0.5341 - val_loss: 0.6966 - val_accuracy: 0.4874\n",
      "Epoch 41/50\n",
      "36/36 [==============================] - 0s 8ms/step - loss: 0.6897 - accuracy: 0.5341 - val_loss: 0.6968 - val_accuracy: 0.4874\n",
      "Epoch 42/50\n",
      "36/36 [==============================] - 0s 8ms/step - loss: 0.6908 - accuracy: 0.5350 - val_loss: 0.6963 - val_accuracy: 0.4874\n",
      "Epoch 43/50\n",
      "36/36 [==============================] - 0s 9ms/step - loss: 0.6914 - accuracy: 0.5350 - val_loss: 0.6961 - val_accuracy: 0.4874\n",
      "Epoch 44/50\n",
      "36/36 [==============================] - 0s 8ms/step - loss: 0.6908 - accuracy: 0.5350 - val_loss: 0.6962 - val_accuracy: 0.4874\n",
      "Epoch 45/50\n",
      "36/36 [==============================] - 0s 8ms/step - loss: 0.6903 - accuracy: 0.5341 - val_loss: 0.6961 - val_accuracy: 0.4874\n",
      "Epoch 46/50\n",
      "36/36 [==============================] - 0s 8ms/step - loss: 0.6901 - accuracy: 0.5341 - val_loss: 0.6964 - val_accuracy: 0.4874\n",
      "Epoch 47/50\n",
      "36/36 [==============================] - 0s 8ms/step - loss: 0.6906 - accuracy: 0.5341 - val_loss: 0.6959 - val_accuracy: 0.4874\n",
      "Epoch 48/50\n",
      "36/36 [==============================] - 0s 8ms/step - loss: 0.6908 - accuracy: 0.5350 - val_loss: 0.6974 - val_accuracy: 0.4874\n",
      "Epoch 49/50\n",
      "36/36 [==============================] - 0s 8ms/step - loss: 0.6910 - accuracy: 0.5341 - val_loss: 0.6959 - val_accuracy: 0.4874\n",
      "Epoch 50/50\n",
      "36/36 [==============================] - 0s 8ms/step - loss: 0.6894 - accuracy: 0.5350 - val_loss: 0.6971 - val_accuracy: 0.4874\n"
     ]
    }
   ],
   "source": [
    "history = model.fit(X_train,Y_train, epochs=50,batch_size=32, validation_data=(X_test,Y_test), shuffle=True )"
   ]
  },
  {
   "cell_type": "code",
   "execution_count": 48,
   "id": "77eaebea",
   "metadata": {},
   "outputs": [
    {
     "name": "stdout",
     "output_type": "stream",
     "text": [
      "4/4 [==============================] - 0s 4ms/step\n",
      "              precision    recall  f1-score   support\n",
      "\n",
      "         0.0       0.49      1.00      0.66        58\n",
      "         1.0       0.00      0.00      0.00        61\n",
      "\n",
      "    accuracy                           0.49       119\n",
      "   macro avg       0.24      0.50      0.33       119\n",
      "weighted avg       0.24      0.49      0.32       119\n",
      "\n"
     ]
    },
    {
     "name": "stderr",
     "output_type": "stream",
     "text": [
      "/home/masoud/anaconda3/lib/python3.9/site-packages/sklearn/metrics/_classification.py:1334: UndefinedMetricWarning: Precision and F-score are ill-defined and being set to 0.0 in labels with no predicted samples. Use `zero_division` parameter to control this behavior.\n",
      "  _warn_prf(average, modifier, msg_start, len(result))\n",
      "/home/masoud/anaconda3/lib/python3.9/site-packages/sklearn/metrics/_classification.py:1334: UndefinedMetricWarning: Precision and F-score are ill-defined and being set to 0.0 in labels with no predicted samples. Use `zero_division` parameter to control this behavior.\n",
      "  _warn_prf(average, modifier, msg_start, len(result))\n",
      "/home/masoud/anaconda3/lib/python3.9/site-packages/sklearn/metrics/_classification.py:1334: UndefinedMetricWarning: Precision and F-score are ill-defined and being set to 0.0 in labels with no predicted samples. Use `zero_division` parameter to control this behavior.\n",
      "  _warn_prf(average, modifier, msg_start, len(result))\n"
     ]
    }
   ],
   "source": [
    "Y_predict = model.predict(X_test)\n",
    "Y_predict = [np.argmax(x) for x in Y_predict]\n",
    "print(metrics.classification_report(Y_test,Y_predict))"
   ]
  },
  {
   "cell_type": "code",
   "execution_count": null,
   "id": "cfb952c0",
   "metadata": {},
   "outputs": [],
   "source": []
  },
  {
   "cell_type": "code",
   "execution_count": null,
   "id": "93419b1c",
   "metadata": {},
   "outputs": [],
   "source": []
  },
  {
   "cell_type": "code",
   "execution_count": null,
   "id": "bec3a576",
   "metadata": {},
   "outputs": [],
   "source": []
  },
  {
   "cell_type": "code",
   "execution_count": null,
   "id": "2c79f3b0",
   "metadata": {},
   "outputs": [],
   "source": []
  },
  {
   "cell_type": "code",
   "execution_count": null,
   "id": "2553bc02",
   "metadata": {},
   "outputs": [],
   "source": []
  },
  {
   "cell_type": "code",
   "execution_count": null,
   "id": "be8b99a6",
   "metadata": {},
   "outputs": [],
   "source": []
  },
  {
   "cell_type": "code",
   "execution_count": null,
   "id": "e5adbcec",
   "metadata": {},
   "outputs": [],
   "source": []
  },
  {
   "cell_type": "code",
   "execution_count": null,
   "id": "5e6eaf64",
   "metadata": {},
   "outputs": [],
   "source": []
  },
  {
   "cell_type": "code",
   "execution_count": null,
   "id": "62eaf76a",
   "metadata": {},
   "outputs": [],
   "source": []
  }
 ],
 "metadata": {
  "kernelspec": {
   "display_name": "Python 3 (ipykernel)",
   "language": "python",
   "name": "python3"
  },
  "language_info": {
   "codemirror_mode": {
    "name": "ipython",
    "version": 3
   },
   "file_extension": ".py",
   "mimetype": "text/x-python",
   "name": "python",
   "nbconvert_exporter": "python",
   "pygments_lexer": "ipython3",
   "version": "3.9.13"
  }
 },
 "nbformat": 4,
 "nbformat_minor": 5
}
