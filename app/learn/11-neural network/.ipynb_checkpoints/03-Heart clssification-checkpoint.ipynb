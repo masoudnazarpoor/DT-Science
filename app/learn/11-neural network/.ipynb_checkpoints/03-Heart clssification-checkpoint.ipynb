{
 "cells": [
  {
   "cell_type": "code",
   "execution_count": 101,
   "id": "eaace6ab",
   "metadata": {
    "scrolled": true
   },
   "outputs": [],
   "source": [
    "import numpy as np\n",
    "import pandas as pd\n",
    "import tensorflow as tf\n",
    "import tensorflow_datasets as tfds\n",
    "from sklearn.preprocessing import StandardScaler\n",
    "from sklearn.preprocessing import LabelEncoder\n",
    "from sklearn.compose import ColumnTransformer\n",
    "from sklearn.preprocessing import OneHotEncoder\n",
    "from imblearn.over_sampling import RandomOverSampler\n",
    "import random\n",
    "from sklearn.model_selection import train_test_split\n",
    "from sklearn import metrics\n",
    "from sklearn.ensemble import IsolationForest\n",
    "from tensorflow.keras.callbacks import EarlyStopping, ReduceLROnPlateau\n",
    "from tensorflow.keras.utils import plot_model\n",
    "from sklearn.utils.class_weight import compute_class_weight\n",
    "import matplotlib.pyplot as PLT\n",
    "from tensorflow.keras.callbacks import ModelCheckpoint"
   ]
  },
  {
   "cell_type": "code",
   "execution_count": 49,
   "id": "cbe0edf9",
   "metadata": {},
   "outputs": [],
   "source": [
    "n = 5000\n",
    "skip = sorted(random.sample(range(1,319795),319795-n))\n",
    "DF = pd.read_csv('../../datasets/heart_2020_cleaned.csv',skiprows=skip).reset_index().rename(columns={'index':'id'})"
   ]
  },
  {
   "cell_type": "code",
   "execution_count": 50,
   "id": "fd8710a1",
   "metadata": {},
   "outputs": [],
   "source": [
    "# DF = pd.read_csv('../../datasets/heart_2020_cleaned.csv').reset_index().rename(columns={'index':'id'})\n",
    "CatCols = [\n",
    "    'Smoking','AlcoholDrinking','Stroke','DiffWalking','Sex','AgeCategory','Race','Diabetic',\n",
    "    'PhysicalActivity','GenHealth','Asthma','KidneyDisease','SkinCancer'\n",
    "]\n",
    "NumCols = [\n",
    "    'BMI', 'PhysicalHealth', 'MentalHealth', 'SleepTime'\n",
    "]\n",
    "\n",
    "X = DF[DF.columns.difference(['id','HeartDisease'])]\n",
    "Y = DF['HeartDisease']"
   ]
  },
  {
   "cell_type": "code",
   "execution_count": 51,
   "id": "bb219235",
   "metadata": {},
   "outputs": [
    {
     "data": {
      "text/html": [
       "<div>\n",
       "<style scoped>\n",
       "    .dataframe tbody tr th:only-of-type {\n",
       "        vertical-align: middle;\n",
       "    }\n",
       "\n",
       "    .dataframe tbody tr th {\n",
       "        vertical-align: top;\n",
       "    }\n",
       "\n",
       "    .dataframe thead th {\n",
       "        text-align: right;\n",
       "    }\n",
       "</style>\n",
       "<table border=\"1\" class=\"dataframe\">\n",
       "  <thead>\n",
       "    <tr style=\"text-align: right;\">\n",
       "      <th></th>\n",
       "      <th>AgeCategory</th>\n",
       "      <th>AlcoholDrinking</th>\n",
       "      <th>Asthma</th>\n",
       "      <th>BMI</th>\n",
       "      <th>Diabetic</th>\n",
       "      <th>DiffWalking</th>\n",
       "      <th>GenHealth</th>\n",
       "      <th>KidneyDisease</th>\n",
       "      <th>MentalHealth</th>\n",
       "      <th>PhysicalActivity</th>\n",
       "      <th>PhysicalHealth</th>\n",
       "      <th>Race</th>\n",
       "      <th>Sex</th>\n",
       "      <th>SkinCancer</th>\n",
       "      <th>SleepTime</th>\n",
       "      <th>Smoking</th>\n",
       "      <th>Stroke</th>\n",
       "    </tr>\n",
       "  </thead>\n",
       "  <tbody>\n",
       "    <tr>\n",
       "      <th>0</th>\n",
       "      <td>60-64</td>\n",
       "      <td>No</td>\n",
       "      <td>No</td>\n",
       "      <td>25.06</td>\n",
       "      <td>Yes</td>\n",
       "      <td>No</td>\n",
       "      <td>Very good</td>\n",
       "      <td>No</td>\n",
       "      <td>0.0</td>\n",
       "      <td>Yes</td>\n",
       "      <td>2.0</td>\n",
       "      <td>White</td>\n",
       "      <td>Female</td>\n",
       "      <td>Yes</td>\n",
       "      <td>8.0</td>\n",
       "      <td>No</td>\n",
       "      <td>No</td>\n",
       "    </tr>\n",
       "    <tr>\n",
       "      <th>1</th>\n",
       "      <td>35-39</td>\n",
       "      <td>No</td>\n",
       "      <td>No</td>\n",
       "      <td>34.34</td>\n",
       "      <td>No</td>\n",
       "      <td>No</td>\n",
       "      <td>Very good</td>\n",
       "      <td>No</td>\n",
       "      <td>0.0</td>\n",
       "      <td>No</td>\n",
       "      <td>5.0</td>\n",
       "      <td>Black</td>\n",
       "      <td>Female</td>\n",
       "      <td>No</td>\n",
       "      <td>7.0</td>\n",
       "      <td>No</td>\n",
       "      <td>No</td>\n",
       "    </tr>\n",
       "    <tr>\n",
       "      <th>2</th>\n",
       "      <td>60-64</td>\n",
       "      <td>No</td>\n",
       "      <td>No</td>\n",
       "      <td>36.02</td>\n",
       "      <td>Yes</td>\n",
       "      <td>Yes</td>\n",
       "      <td>Fair</td>\n",
       "      <td>No</td>\n",
       "      <td>15.0</td>\n",
       "      <td>No</td>\n",
       "      <td>30.0</td>\n",
       "      <td>Black</td>\n",
       "      <td>Female</td>\n",
       "      <td>No</td>\n",
       "      <td>7.0</td>\n",
       "      <td>No</td>\n",
       "      <td>No</td>\n",
       "    </tr>\n",
       "    <tr>\n",
       "      <th>3</th>\n",
       "      <td>60-64</td>\n",
       "      <td>No</td>\n",
       "      <td>No</td>\n",
       "      <td>37.24</td>\n",
       "      <td>No</td>\n",
       "      <td>No</td>\n",
       "      <td>Good</td>\n",
       "      <td>No</td>\n",
       "      <td>0.0</td>\n",
       "      <td>Yes</td>\n",
       "      <td>0.0</td>\n",
       "      <td>Black</td>\n",
       "      <td>Female</td>\n",
       "      <td>No</td>\n",
       "      <td>10.0</td>\n",
       "      <td>No</td>\n",
       "      <td>No</td>\n",
       "    </tr>\n",
       "    <tr>\n",
       "      <th>4</th>\n",
       "      <td>65-69</td>\n",
       "      <td>No</td>\n",
       "      <td>No</td>\n",
       "      <td>26.07</td>\n",
       "      <td>No</td>\n",
       "      <td>No</td>\n",
       "      <td>Poor</td>\n",
       "      <td>No</td>\n",
       "      <td>0.0</td>\n",
       "      <td>Yes</td>\n",
       "      <td>30.0</td>\n",
       "      <td>White</td>\n",
       "      <td>Female</td>\n",
       "      <td>No</td>\n",
       "      <td>7.0</td>\n",
       "      <td>No</td>\n",
       "      <td>No</td>\n",
       "    </tr>\n",
       "  </tbody>\n",
       "</table>\n",
       "</div>"
      ],
      "text/plain": [
       "  AgeCategory AlcoholDrinking Asthma    BMI Diabetic DiffWalking  GenHealth  \\\n",
       "0       60-64              No     No  25.06      Yes          No  Very good   \n",
       "1       35-39              No     No  34.34       No          No  Very good   \n",
       "2       60-64              No     No  36.02      Yes         Yes       Fair   \n",
       "3       60-64              No     No  37.24       No          No       Good   \n",
       "4       65-69              No     No  26.07       No          No       Poor   \n",
       "\n",
       "  KidneyDisease  MentalHealth PhysicalActivity  PhysicalHealth   Race     Sex  \\\n",
       "0            No           0.0              Yes             2.0  White  Female   \n",
       "1            No           0.0               No             5.0  Black  Female   \n",
       "2            No          15.0               No            30.0  Black  Female   \n",
       "3            No           0.0              Yes             0.0  Black  Female   \n",
       "4            No           0.0              Yes            30.0  White  Female   \n",
       "\n",
       "  SkinCancer  SleepTime Smoking Stroke  \n",
       "0        Yes        8.0      No     No  \n",
       "1         No        7.0      No     No  \n",
       "2         No        7.0      No     No  \n",
       "3         No       10.0      No     No  \n",
       "4         No        7.0      No     No  "
      ]
     },
     "execution_count": 51,
     "metadata": {},
     "output_type": "execute_result"
    }
   ],
   "source": [
    "X.head()"
   ]
  },
  {
   "cell_type": "code",
   "execution_count": 52,
   "id": "11ca9941",
   "metadata": {},
   "outputs": [],
   "source": [
    "def columns_OHC_transforme(DF,columns):\n",
    "    merged = pd.DataFrame()\n",
    "    for column_name in columns:\n",
    "        label_encoder = LabelEncoder()\n",
    "        encoded = label_encoder.fit_transform(DF[column_name])\n",
    "        labels =pd.Series(label_encoder.classes_)\n",
    "\n",
    "        clmt = ColumnTransformer([(column_name,OneHotEncoder(),[0])], remainder='passthrough')\n",
    "        clmt_fited_data = clmt.fit_transform(DF[[column_name]]) \n",
    "        clmt_fited_data = clmt_fited_data if type(clmt_fited_data)== np.ndarray else clmt_fited_data.toarray()\n",
    "        NDF = pd.DataFrame(clmt_fited_data,columns=[f'{column_name}_{x}' for x in labels]).set_index(DF.index)\n",
    "        merged = pd.concat([merged,NDF],axis=1)\n",
    "    DF = DF.drop(columns=columns)\n",
    "    DF = DF.merge(merged, left_index=True,right_index=True)\n",
    "\n",
    "    return DF"
   ]
  },
  {
   "cell_type": "code",
   "execution_count": 53,
   "id": "3faa8d2f",
   "metadata": {},
   "outputs": [],
   "source": [
    "X = columns_OHC_transforme(X,CatCols) \n",
    "Y_label_encoder = LabelEncoder()\n",
    "Y = DF.iloc[X.index]['HeartDisease']\n",
    "Y = Y_label_encoder.fit_transform(Y)"
   ]
  },
  {
   "cell_type": "code",
   "execution_count": 54,
   "id": "88e1a3a4",
   "metadata": {},
   "outputs": [],
   "source": [
    "ss = StandardScaler()\n",
    "X[NumCols] = ss.fit_transform(X[NumCols])"
   ]
  },
  {
   "cell_type": "code",
   "execution_count": 55,
   "id": "8db5c02c",
   "metadata": {},
   "outputs": [],
   "source": [
    "isoforest = IsolationForest(n_estimators=3000,max_features=50)\n",
    "X['is_noise'] = isoforest.fit_predict(X)\n",
    "X = X[X['is_noise'] == 1]\n",
    "Y = Y[X.index]\n",
    "X = X[X.columns.difference(['is_noise'])]"
   ]
  },
  {
   "cell_type": "code",
   "execution_count": null,
   "id": "c2713e37",
   "metadata": {},
   "outputs": [],
   "source": []
  },
  {
   "cell_type": "code",
   "execution_count": null,
   "id": "79000379",
   "metadata": {},
   "outputs": [],
   "source": []
  },
  {
   "cell_type": "code",
   "execution_count": null,
   "id": "8032b0bb",
   "metadata": {},
   "outputs": [],
   "source": []
  },
  {
   "cell_type": "markdown",
   "id": "3dc4b1e2",
   "metadata": {},
   "source": [
    "## imbalance data"
   ]
  },
  {
   "cell_type": "code",
   "execution_count": 56,
   "id": "a4e9762d",
   "metadata": {},
   "outputs": [
    {
     "data": {
      "text/plain": [
       "{0: 0.5318715552360412, 1: 8.343984962406015}"
      ]
     },
     "execution_count": 56,
     "metadata": {},
     "output_type": "execute_result"
    }
   ],
   "source": [
    "weights = compute_class_weight(class_weight='balanced',classes=np.unique(Y), y=Y)\n",
    "class_weights = dict( zip(np.unique(Y), weights) )\n",
    "class_weights"
   ]
  },
  {
   "cell_type": "code",
   "execution_count": 9,
   "id": "319f4552",
   "metadata": {},
   "outputs": [],
   "source": [
    "# toml =RandomOverSampler(random_state=3020)\n",
    "# X, Y = toml.fit_resample(X,pd.DataFrame(Y,columns=['HeartDisease']))\n",
    "# DF = pd.concat([X,pd.DataFrame(Y,columns=['HeartDisease'])],axis=1)"
   ]
  },
  {
   "cell_type": "code",
   "execution_count": null,
   "id": "71d88340",
   "metadata": {},
   "outputs": [],
   "source": []
  },
  {
   "cell_type": "code",
   "execution_count": null,
   "id": "d3be3b46",
   "metadata": {},
   "outputs": [],
   "source": []
  },
  {
   "cell_type": "code",
   "execution_count": null,
   "id": "8fe5c442",
   "metadata": {},
   "outputs": [],
   "source": []
  },
  {
   "cell_type": "code",
   "execution_count": null,
   "id": "aab471e2",
   "metadata": {},
   "outputs": [],
   "source": []
  },
  {
   "cell_type": "code",
   "execution_count": null,
   "id": "3990a910",
   "metadata": {},
   "outputs": [],
   "source": []
  },
  {
   "cell_type": "code",
   "execution_count": 61,
   "id": "2ec38eb2",
   "metadata": {},
   "outputs": [],
   "source": [
    "Y = pd.get_dummies(Y)"
   ]
  },
  {
   "cell_type": "code",
   "execution_count": 62,
   "id": "56e58618",
   "metadata": {},
   "outputs": [],
   "source": [
    "X_train,X_test,Y_train,Y_test = train_test_split(X,Y,random_state=3020,train_size=.90)"
   ]
  },
  {
   "cell_type": "code",
   "execution_count": 102,
   "id": "6fb7db48",
   "metadata": {},
   "outputs": [],
   "source": [
    "model = tf.keras.Sequential([\n",
    "    tf.keras.layers.Dense(50,activation='relu',input_shape=(50,)),\n",
    "    tf.keras.layers.Dense(100,activation='relu'),\n",
    "    tf.keras.layers.Dense(100,activation='relu'),\n",
    "#     tf.keras.layers.Dense(100,activation='relu'),\n",
    "#     tf.keras.layers.Dense(200,activation='relu'),\n",
    "    tf.keras.layers.Dense(2,activation='softmax')\n",
    "])\n",
    "\n",
    "model.compile(\n",
    "    optimizer=tf.keras.optimizers.Nadam(0.01),\n",
    "    loss=tf.keras.losses.CategoricalCrossentropy(from_logits=True),\n",
    "    metrics=[tf.keras.metrics.CategoricalAccuracy()]\n",
    ")"
   ]
  },
  {
   "cell_type": "code",
   "execution_count": 103,
   "id": "ba44667d",
   "metadata": {},
   "outputs": [],
   "source": [
    "es = EarlyStopping(monitor='val_loss',mode='min',patience=20)\n",
    "rlrop = ReduceLROnPlateau(monitor='val_loss',patience=10, factor=.002, min_lr=.01)\n",
    "mchp = ModelCheckpoint('heart.h5',monitor='val_loss',mode='min',save_best_only=True)"
   ]
  },
  {
   "cell_type": "code",
   "execution_count": 104,
   "id": "0b56cf19",
   "metadata": {
    "scrolled": true
   },
   "outputs": [
    {
     "name": "stdout",
     "output_type": "stream",
     "text": [
      "Epoch 1/100\n"
     ]
    },
    {
     "name": "stderr",
     "output_type": "stream",
     "text": [
      "/opt/conda/lib/python3.9/site-packages/keras/backend.py:5531: UserWarning: \"`categorical_crossentropy` received `from_logits=True`, but the `output` argument was produced by a Softmax activation and thus does not represent logits. Was this intended?\n",
      "  output, from_logits = _get_logits(\n"
     ]
    },
    {
     "name": "stdout",
     "output_type": "stream",
     "text": [
      "19/20 [===========================>..] - ETA: 0s - loss: 0.6451 - categorical_accuracy: 0.6834"
     ]
    },
    {
     "name": "stderr",
     "output_type": "stream",
     "text": [
      "/opt/conda/lib/python3.9/site-packages/keras/backend.py:5531: UserWarning: \"`categorical_crossentropy` received `from_logits=True`, but the `output` argument was produced by a Softmax activation and thus does not represent logits. Was this intended?\n",
      "  output, from_logits = _get_logits(\n"
     ]
    },
    {
     "name": "stdout",
     "output_type": "stream",
     "text": [
      "20/20 [==============================] - 2s 41ms/step - loss: 0.6368 - categorical_accuracy: 0.6811 - val_loss: 0.3915 - val_categorical_accuracy: 0.8131\n",
      "Epoch 2/100\n",
      "20/20 [==============================] - 1s 25ms/step - loss: 0.5258 - categorical_accuracy: 0.6874 - val_loss: 0.5249 - val_categorical_accuracy: 0.7027\n",
      "Epoch 3/100\n",
      "20/20 [==============================] - 1s 27ms/step - loss: 0.4830 - categorical_accuracy: 0.6899 - val_loss: 0.3462 - val_categorical_accuracy: 0.8288\n",
      "Epoch 4/100\n",
      "20/20 [==============================] - 0s 22ms/step - loss: 0.4662 - categorical_accuracy: 0.7342 - val_loss: 0.4840 - val_categorical_accuracy: 0.7230\n",
      "Epoch 5/100\n",
      "20/20 [==============================] - 1s 28ms/step - loss: 0.4546 - categorical_accuracy: 0.7252 - val_loss: 0.5289 - val_categorical_accuracy: 0.6734\n",
      "Epoch 6/100\n",
      "20/20 [==============================] - 1s 26ms/step - loss: 0.4472 - categorical_accuracy: 0.7322 - val_loss: 0.4778 - val_categorical_accuracy: 0.6959\n",
      "Epoch 7/100\n",
      "20/20 [==============================] - 1s 26ms/step - loss: 0.4084 - categorical_accuracy: 0.7282 - val_loss: 0.4387 - val_categorical_accuracy: 0.7568\n",
      "Epoch 8/100\n",
      "20/20 [==============================] - 0s 18ms/step - loss: 0.3826 - categorical_accuracy: 0.7647 - val_loss: 0.4611 - val_categorical_accuracy: 0.7252\n",
      "Epoch 9/100\n",
      "20/20 [==============================] - 1s 27ms/step - loss: 0.3706 - categorical_accuracy: 0.7534 - val_loss: 0.4795 - val_categorical_accuracy: 0.7523\n",
      "Epoch 10/100\n",
      "20/20 [==============================] - 0s 20ms/step - loss: 0.3514 - categorical_accuracy: 0.7780 - val_loss: 0.4472 - val_categorical_accuracy: 0.7838\n",
      "Epoch 11/100\n",
      "20/20 [==============================] - 0s 17ms/step - loss: 0.3234 - categorical_accuracy: 0.7907 - val_loss: 0.5456 - val_categorical_accuracy: 0.8063\n",
      "Epoch 12/100\n",
      "20/20 [==============================] - 0s 23ms/step - loss: 0.3380 - categorical_accuracy: 0.7657 - val_loss: 0.4702 - val_categorical_accuracy: 0.7995\n",
      "Epoch 13/100\n",
      "20/20 [==============================] - 0s 18ms/step - loss: 0.3307 - categorical_accuracy: 0.7957 - val_loss: 0.5897 - val_categorical_accuracy: 0.7410\n",
      "Epoch 14/100\n",
      "20/20 [==============================] - 0s 17ms/step - loss: 0.2929 - categorical_accuracy: 0.8190 - val_loss: 0.6616 - val_categorical_accuracy: 0.7005\n",
      "Epoch 15/100\n",
      "20/20 [==============================] - 0s 20ms/step - loss: 0.3077 - categorical_accuracy: 0.8050 - val_loss: 0.5579 - val_categorical_accuracy: 0.7725\n",
      "Epoch 16/100\n",
      "20/20 [==============================] - 0s 18ms/step - loss: 0.2875 - categorical_accuracy: 0.8383 - val_loss: 0.6460 - val_categorical_accuracy: 0.7635\n",
      "Epoch 17/100\n",
      "20/20 [==============================] - 0s 21ms/step - loss: 0.2698 - categorical_accuracy: 0.8506 - val_loss: 0.5364 - val_categorical_accuracy: 0.7545\n",
      "Epoch 18/100\n",
      "20/20 [==============================] - 0s 22ms/step - loss: 0.2704 - categorical_accuracy: 0.8265 - val_loss: 0.5299 - val_categorical_accuracy: 0.8266\n",
      "Epoch 19/100\n",
      "20/20 [==============================] - 0s 20ms/step - loss: 0.2493 - categorical_accuracy: 0.8558 - val_loss: 0.5972 - val_categorical_accuracy: 0.8311\n",
      "Epoch 20/100\n",
      "20/20 [==============================] - 0s 15ms/step - loss: 0.2183 - categorical_accuracy: 0.8801 - val_loss: 0.6621 - val_categorical_accuracy: 0.7973\n",
      "Epoch 21/100\n",
      "20/20 [==============================] - 0s 17ms/step - loss: 0.2327 - categorical_accuracy: 0.8618 - val_loss: 0.5500 - val_categorical_accuracy: 0.8108\n",
      "Epoch 22/100\n",
      "20/20 [==============================] - 0s 19ms/step - loss: 0.2065 - categorical_accuracy: 0.8768 - val_loss: 0.5424 - val_categorical_accuracy: 0.8604\n",
      "Epoch 23/100\n",
      "20/20 [==============================] - 0s 16ms/step - loss: 0.1968 - categorical_accuracy: 0.8864 - val_loss: 0.6121 - val_categorical_accuracy: 0.8536\n",
      "Epoch 24/100\n",
      "20/20 [==============================] - 0s 15ms/step - loss: 0.1894 - categorical_accuracy: 0.8939 - val_loss: 0.7836 - val_categorical_accuracy: 0.7995\n",
      "Epoch 25/100\n",
      "20/20 [==============================] - 0s 19ms/step - loss: 0.1775 - categorical_accuracy: 0.8971 - val_loss: 0.6568 - val_categorical_accuracy: 0.8423\n",
      "Epoch 26/100\n",
      "20/20 [==============================] - 0s 22ms/step - loss: 0.1699 - categorical_accuracy: 0.9079 - val_loss: 0.7306 - val_categorical_accuracy: 0.8356\n",
      "Epoch 27/100\n",
      "20/20 [==============================] - 0s 20ms/step - loss: 0.1765 - categorical_accuracy: 0.9089 - val_loss: 0.8911 - val_categorical_accuracy: 0.7613\n",
      "Epoch 28/100\n",
      "20/20 [==============================] - 0s 18ms/step - loss: 0.1817 - categorical_accuracy: 0.8894 - val_loss: 0.6915 - val_categorical_accuracy: 0.8311\n",
      "Epoch 29/100\n",
      "20/20 [==============================] - 0s 20ms/step - loss: 0.1500 - categorical_accuracy: 0.9079 - val_loss: 0.7612 - val_categorical_accuracy: 0.8671\n",
      "Epoch 30/100\n",
      "20/20 [==============================] - 0s 18ms/step - loss: 0.1691 - categorical_accuracy: 0.9099 - val_loss: 0.7966 - val_categorical_accuracy: 0.8063\n",
      "Epoch 31/100\n",
      "20/20 [==============================] - 0s 19ms/step - loss: 0.1829 - categorical_accuracy: 0.8921 - val_loss: 0.7429 - val_categorical_accuracy: 0.8063\n",
      "Epoch 32/100\n",
      "20/20 [==============================] - 0s 23ms/step - loss: 0.1711 - categorical_accuracy: 0.9119 - val_loss: 0.8001 - val_categorical_accuracy: 0.8086\n",
      "Epoch 33/100\n",
      "20/20 [==============================] - 0s 17ms/step - loss: 0.1456 - categorical_accuracy: 0.9186 - val_loss: 0.8816 - val_categorical_accuracy: 0.7905\n",
      "Epoch 34/100\n",
      "20/20 [==============================] - 0s 21ms/step - loss: 0.1551 - categorical_accuracy: 0.9141 - val_loss: 0.7973 - val_categorical_accuracy: 0.8356\n",
      "Epoch 35/100\n",
      "20/20 [==============================] - 0s 18ms/step - loss: 0.2151 - categorical_accuracy: 0.8954 - val_loss: 0.6620 - val_categorical_accuracy: 0.7725\n",
      "Epoch 36/100\n",
      "20/20 [==============================] - 0s 20ms/step - loss: 0.1496 - categorical_accuracy: 0.9129 - val_loss: 0.8435 - val_categorical_accuracy: 0.8086\n",
      "Epoch 37/100\n",
      "20/20 [==============================] - 0s 16ms/step - loss: 0.1239 - categorical_accuracy: 0.9287 - val_loss: 0.8371 - val_categorical_accuracy: 0.8874\n",
      "Epoch 38/100\n",
      "20/20 [==============================] - 0s 20ms/step - loss: 0.1096 - categorical_accuracy: 0.9414 - val_loss: 0.9343 - val_categorical_accuracy: 0.8694\n",
      "Epoch 39/100\n",
      "20/20 [==============================] - 0s 24ms/step - loss: 0.1013 - categorical_accuracy: 0.9489 - val_loss: 1.1014 - val_categorical_accuracy: 0.8581\n",
      "Epoch 40/100\n",
      "20/20 [==============================] - 0s 21ms/step - loss: 0.1297 - categorical_accuracy: 0.9387 - val_loss: 0.7339 - val_categorical_accuracy: 0.8468\n",
      "Epoch 41/100\n",
      "20/20 [==============================] - 0s 23ms/step - loss: 0.1090 - categorical_accuracy: 0.9412 - val_loss: 0.9067 - val_categorical_accuracy: 0.8671\n",
      "Epoch 42/100\n",
      "20/20 [==============================] - 0s 24ms/step - loss: 0.1108 - categorical_accuracy: 0.9437 - val_loss: 0.9120 - val_categorical_accuracy: 0.8649\n",
      "Epoch 43/100\n",
      "20/20 [==============================] - 0s 24ms/step - loss: 0.1121 - categorical_accuracy: 0.9397 - val_loss: 0.8850 - val_categorical_accuracy: 0.8761\n",
      "Epoch 44/100\n",
      "20/20 [==============================] - 0s 22ms/step - loss: 0.1732 - categorical_accuracy: 0.9264 - val_loss: 0.8027 - val_categorical_accuracy: 0.8626\n",
      "Epoch 45/100\n",
      "20/20 [==============================] - 0s 21ms/step - loss: 0.1106 - categorical_accuracy: 0.9379 - val_loss: 0.9086 - val_categorical_accuracy: 0.8423\n",
      "Epoch 46/100\n",
      "20/20 [==============================] - 0s 18ms/step - loss: 0.1090 - categorical_accuracy: 0.9407 - val_loss: 0.8598 - val_categorical_accuracy: 0.8694\n",
      "Epoch 47/100\n",
      "20/20 [==============================] - 0s 19ms/step - loss: 0.0943 - categorical_accuracy: 0.9519 - val_loss: 0.9730 - val_categorical_accuracy: 0.8671\n",
      "Epoch 48/100\n",
      "20/20 [==============================] - 0s 20ms/step - loss: 0.0779 - categorical_accuracy: 0.9574 - val_loss: 1.1152 - val_categorical_accuracy: 0.8919\n",
      "Epoch 49/100\n",
      "20/20 [==============================] - 0s 17ms/step - loss: 0.0826 - categorical_accuracy: 0.9569 - val_loss: 1.2526 - val_categorical_accuracy: 0.8604\n",
      "Epoch 50/100\n"
     ]
    },
    {
     "name": "stdout",
     "output_type": "stream",
     "text": [
      "20/20 [==============================] - 0s 12ms/step - loss: 0.0763 - categorical_accuracy: 0.9544 - val_loss: 1.1314 - val_categorical_accuracy: 0.8806\n",
      "Epoch 51/100\n",
      "20/20 [==============================] - 0s 21ms/step - loss: 0.0787 - categorical_accuracy: 0.9587 - val_loss: 1.1382 - val_categorical_accuracy: 0.8851\n",
      "Epoch 52/100\n",
      "20/20 [==============================] - 0s 22ms/step - loss: 0.0658 - categorical_accuracy: 0.9612 - val_loss: 1.1846 - val_categorical_accuracy: 0.8874\n",
      "Epoch 53/100\n",
      "20/20 [==============================] - 0s 22ms/step - loss: 0.0646 - categorical_accuracy: 0.9680 - val_loss: 1.2866 - val_categorical_accuracy: 0.9009\n",
      "Epoch 54/100\n",
      "20/20 [==============================] - 0s 17ms/step - loss: 0.0787 - categorical_accuracy: 0.9620 - val_loss: 1.2743 - val_categorical_accuracy: 0.8986\n",
      "Epoch 55/100\n",
      "20/20 [==============================] - 0s 21ms/step - loss: 0.0924 - categorical_accuracy: 0.9667 - val_loss: 1.6155 - val_categorical_accuracy: 0.7320\n",
      "Epoch 56/100\n",
      "20/20 [==============================] - 0s 19ms/step - loss: 0.1334 - categorical_accuracy: 0.9184 - val_loss: 1.2029 - val_categorical_accuracy: 0.8784\n",
      "Epoch 57/100\n",
      "20/20 [==============================] - 0s 20ms/step - loss: 0.1543 - categorical_accuracy: 0.9302 - val_loss: 0.7941 - val_categorical_accuracy: 0.8536\n",
      "Epoch 58/100\n",
      "20/20 [==============================] - 0s 24ms/step - loss: 0.1020 - categorical_accuracy: 0.9472 - val_loss: 0.8636 - val_categorical_accuracy: 0.8964\n",
      "Epoch 59/100\n",
      "20/20 [==============================] - 0s 19ms/step - loss: 0.1130 - categorical_accuracy: 0.9514 - val_loss: 0.9880 - val_categorical_accuracy: 0.8153\n",
      "Epoch 60/100\n",
      "20/20 [==============================] - 0s 21ms/step - loss: 0.1498 - categorical_accuracy: 0.9244 - val_loss: 0.8404 - val_categorical_accuracy: 0.8604\n",
      "Epoch 61/100\n",
      "20/20 [==============================] - 0s 19ms/step - loss: 0.1433 - categorical_accuracy: 0.9244 - val_loss: 0.8840 - val_categorical_accuracy: 0.8514\n",
      "Epoch 62/100\n",
      "20/20 [==============================] - 0s 20ms/step - loss: 0.0882 - categorical_accuracy: 0.9519 - val_loss: 0.9919 - val_categorical_accuracy: 0.8941\n",
      "Epoch 63/100\n",
      "20/20 [==============================] - 0s 20ms/step - loss: 0.1021 - categorical_accuracy: 0.9449 - val_loss: 0.8830 - val_categorical_accuracy: 0.8896\n",
      "Epoch 64/100\n",
      "20/20 [==============================] - 0s 20ms/step - loss: 0.0772 - categorical_accuracy: 0.9602 - val_loss: 1.0281 - val_categorical_accuracy: 0.8851\n",
      "Epoch 65/100\n",
      "20/20 [==============================] - 0s 22ms/step - loss: 0.0926 - categorical_accuracy: 0.9529 - val_loss: 1.0484 - val_categorical_accuracy: 0.8761\n",
      "Epoch 66/100\n",
      "20/20 [==============================] - 0s 18ms/step - loss: 0.0878 - categorical_accuracy: 0.9522 - val_loss: 1.1041 - val_categorical_accuracy: 0.8378\n",
      "Epoch 67/100\n",
      "20/20 [==============================] - 0s 19ms/step - loss: 0.1253 - categorical_accuracy: 0.9384 - val_loss: 0.7869 - val_categorical_accuracy: 0.8739\n",
      "Epoch 68/100\n",
      "20/20 [==============================] - 0s 21ms/step - loss: 0.1142 - categorical_accuracy: 0.9419 - val_loss: 0.8256 - val_categorical_accuracy: 0.8919\n",
      "Epoch 69/100\n",
      "20/20 [==============================] - 0s 20ms/step - loss: 0.0861 - categorical_accuracy: 0.9539 - val_loss: 0.9041 - val_categorical_accuracy: 0.8829\n",
      "Epoch 70/100\n",
      "20/20 [==============================] - 0s 21ms/step - loss: 0.0951 - categorical_accuracy: 0.9567 - val_loss: 0.9678 - val_categorical_accuracy: 0.8559\n",
      "Epoch 71/100\n",
      "20/20 [==============================] - 0s 23ms/step - loss: 0.0862 - categorical_accuracy: 0.9519 - val_loss: 1.0787 - val_categorical_accuracy: 0.8649\n",
      "Epoch 72/100\n",
      "20/20 [==============================] - 0s 18ms/step - loss: 0.0634 - categorical_accuracy: 0.9650 - val_loss: 1.1065 - val_categorical_accuracy: 0.8941\n",
      "Epoch 73/100\n",
      "20/20 [==============================] - 0s 19ms/step - loss: 0.0527 - categorical_accuracy: 0.9722 - val_loss: 1.1454 - val_categorical_accuracy: 0.8874\n",
      "Epoch 74/100\n",
      "20/20 [==============================] - 0s 13ms/step - loss: 0.0507 - categorical_accuracy: 0.9712 - val_loss: 1.1610 - val_categorical_accuracy: 0.8739\n",
      "Epoch 75/100\n",
      "20/20 [==============================] - 0s 15ms/step - loss: 0.0769 - categorical_accuracy: 0.9652 - val_loss: 1.0126 - val_categorical_accuracy: 0.8829\n",
      "Epoch 76/100\n",
      "20/20 [==============================] - 0s 17ms/step - loss: 0.0592 - categorical_accuracy: 0.9700 - val_loss: 1.2288 - val_categorical_accuracy: 0.8694\n",
      "Epoch 77/100\n",
      "20/20 [==============================] - 0s 17ms/step - loss: 0.0586 - categorical_accuracy: 0.9700 - val_loss: 1.1751 - val_categorical_accuracy: 0.8941\n",
      "Epoch 78/100\n",
      "20/20 [==============================] - 0s 17ms/step - loss: 0.0495 - categorical_accuracy: 0.9747 - val_loss: 1.2739 - val_categorical_accuracy: 0.8806\n",
      "Epoch 79/100\n",
      "20/20 [==============================] - 0s 15ms/step - loss: 0.0442 - categorical_accuracy: 0.9755 - val_loss: 1.3168 - val_categorical_accuracy: 0.8941\n",
      "Epoch 80/100\n",
      "20/20 [==============================] - 0s 15ms/step - loss: 0.0375 - categorical_accuracy: 0.9822 - val_loss: 1.3457 - val_categorical_accuracy: 0.8919\n",
      "Epoch 81/100\n",
      "20/20 [==============================] - 0s 19ms/step - loss: 0.0417 - categorical_accuracy: 0.9820 - val_loss: 1.4455 - val_categorical_accuracy: 0.8851\n",
      "Epoch 82/100\n",
      "20/20 [==============================] - 0s 22ms/step - loss: 0.0362 - categorical_accuracy: 0.9820 - val_loss: 1.4592 - val_categorical_accuracy: 0.8941\n",
      "Epoch 83/100\n",
      "20/20 [==============================] - 0s 20ms/step - loss: 0.0307 - categorical_accuracy: 0.9837 - val_loss: 1.5764 - val_categorical_accuracy: 0.8941\n",
      "Epoch 84/100\n",
      "20/20 [==============================] - 0s 24ms/step - loss: 0.0389 - categorical_accuracy: 0.9810 - val_loss: 1.5660 - val_categorical_accuracy: 0.8986\n",
      "Epoch 85/100\n",
      "20/20 [==============================] - 0s 18ms/step - loss: 0.0657 - categorical_accuracy: 0.9722 - val_loss: 1.4371 - val_categorical_accuracy: 0.8739\n",
      "Epoch 86/100\n",
      "20/20 [==============================] - 0s 21ms/step - loss: 0.0676 - categorical_accuracy: 0.9667 - val_loss: 1.3273 - val_categorical_accuracy: 0.8986\n",
      "Epoch 87/100\n",
      "20/20 [==============================] - 0s 19ms/step - loss: 0.0669 - categorical_accuracy: 0.9692 - val_loss: 1.3237 - val_categorical_accuracy: 0.8716\n",
      "Epoch 88/100\n",
      "20/20 [==============================] - 0s 21ms/step - loss: 0.0412 - categorical_accuracy: 0.9800 - val_loss: 1.4599 - val_categorical_accuracy: 0.8896\n",
      "Epoch 89/100\n",
      "20/20 [==============================] - 0s 21ms/step - loss: 0.0456 - categorical_accuracy: 0.9815 - val_loss: 1.4061 - val_categorical_accuracy: 0.8874\n",
      "Epoch 90/100\n",
      "20/20 [==============================] - 0s 23ms/step - loss: 0.0586 - categorical_accuracy: 0.9800 - val_loss: 1.7421 - val_categorical_accuracy: 0.8311\n",
      "Epoch 91/100\n",
      "20/20 [==============================] - 0s 18ms/step - loss: 0.1877 - categorical_accuracy: 0.9349 - val_loss: 0.8682 - val_categorical_accuracy: 0.8356\n",
      "Epoch 92/100\n",
      "20/20 [==============================] - 0s 20ms/step - loss: 0.1190 - categorical_accuracy: 0.9427 - val_loss: 0.9300 - val_categorical_accuracy: 0.8423\n",
      "Epoch 93/100\n",
      "20/20 [==============================] - 1s 25ms/step - loss: 0.0647 - categorical_accuracy: 0.9700 - val_loss: 1.0646 - val_categorical_accuracy: 0.8941\n",
      "Epoch 94/100\n",
      "20/20 [==============================] - 0s 21ms/step - loss: 0.0625 - categorical_accuracy: 0.9740 - val_loss: 1.2233 - val_categorical_accuracy: 0.8378\n",
      "Epoch 95/100\n",
      "20/20 [==============================] - 0s 24ms/step - loss: 0.0636 - categorical_accuracy: 0.9702 - val_loss: 1.1761 - val_categorical_accuracy: 0.8919\n",
      "Epoch 96/100\n",
      "20/20 [==============================] - 0s 21ms/step - loss: 0.0417 - categorical_accuracy: 0.9795 - val_loss: 1.2698 - val_categorical_accuracy: 0.9054\n",
      "Epoch 97/100\n",
      "20/20 [==============================] - 0s 19ms/step - loss: 0.0378 - categorical_accuracy: 0.9830 - val_loss: 1.3231 - val_categorical_accuracy: 0.8941\n",
      "Epoch 98/100\n",
      "20/20 [==============================] - 0s 20ms/step - loss: 0.0382 - categorical_accuracy: 0.9797 - val_loss: 1.3257 - val_categorical_accuracy: 0.9032\n",
      "Epoch 99/100\n"
     ]
    },
    {
     "name": "stdout",
     "output_type": "stream",
     "text": [
      "20/20 [==============================] - 0s 23ms/step - loss: 0.0313 - categorical_accuracy: 0.9835 - val_loss: 1.4293 - val_categorical_accuracy: 0.9054\n",
      "Epoch 100/100\n",
      "20/20 [==============================] - 0s 23ms/step - loss: 0.0268 - categorical_accuracy: 0.9862 - val_loss: 1.4497 - val_categorical_accuracy: 0.9032\n"
     ]
    }
   ],
   "source": [
    "history = model.fit(X_train, Y_train, \n",
    "                    epochs=100,\n",
    "                    validation_data=(X_test,Y_test),\n",
    "                    batch_size=200,\n",
    "                    class_weight=class_weights,\n",
    "                    callbacks=[mchp] #es,rlrop,\n",
    "                   )"
   ]
  },
  {
   "cell_type": "code",
   "execution_count": 100,
   "id": "a37b0db5",
   "metadata": {},
   "outputs": [
    {
     "data": {
      "text/plain": [
       "[<matplotlib.lines.Line2D at 0x7f31e6e00910>]"
      ]
     },
     "execution_count": 100,
     "metadata": {},
     "output_type": "execute_result"
    },
    {
     "data": {
      "image/png": "[encoded data removed]",
      "text/plain": [
       "<Figure size 432x288 with 1 Axes>"
      ]
     },
     "metadata": {
      "needs_background": "light"
     },
     "output_type": "display_data"
    }
   ],
   "source": [
    "PLT.plot(history.history['categorical_accuracy'],color='green')\n",
    "PLT.plot(history.history['val_categorical_accuracy'],color='blue')"
   ]
  },
  {
   "cell_type": "code",
   "execution_count": 65,
   "id": "393fa853",
   "metadata": {},
   "outputs": [
    {
     "data": {
      "image/png": "[encoded data removed]",
      "text/plain": [
       "<IPython.core.display.Image object>"
      ]
     },
     "execution_count": 65,
     "metadata": {},
     "output_type": "execute_result"
    }
   ],
   "source": [
    "plot_model(model, show_shapes=True,show_layer_names=False)"
   ]
  },
  {
   "cell_type": "code",
   "execution_count": 16,
   "id": "b70222da",
   "metadata": {},
   "outputs": [
    {
     "name": "stdout",
     "output_type": "stream",
     "text": [
      "26/26 [==============================] - 0s 5ms/step\n"
     ]
    },
    {
     "data": {
      "text/plain": [
       "array([5.051873e-04, 9.994948e-01], dtype=float32)"
      ]
     },
     "execution_count": 16,
     "metadata": {},
     "output_type": "execute_result"
    }
   ],
   "source": [
    "model.predict(X_test)[0]"
   ]
  },
  {
   "cell_type": "code",
   "execution_count": 17,
   "id": "acfb5fdd",
   "metadata": {},
   "outputs": [
    {
     "name": "stdout",
     "output_type": "stream",
     "text": [
      "26/26 [==============================] - 0s 7ms/step\n"
     ]
    },
    {
     "data": {
      "text/plain": [
       "1"
      ]
     },
     "execution_count": 17,
     "metadata": {},
     "output_type": "execute_result"
    }
   ],
   "source": [
    "np.argmax(model.predict(X_test)[0])"
   ]
  },
  {
   "cell_type": "code",
   "execution_count": null,
   "id": "57dc1a5a",
   "metadata": {},
   "outputs": [],
   "source": []
  },
  {
   "cell_type": "code",
   "execution_count": null,
   "id": "83b85958",
   "metadata": {},
   "outputs": [],
   "source": []
  },
  {
   "cell_type": "code",
   "execution_count": null,
   "id": "0ab25dcc",
   "metadata": {},
   "outputs": [],
   "source": []
  },
  {
   "cell_type": "code",
   "execution_count": null,
   "id": "127e306c",
   "metadata": {},
   "outputs": [],
   "source": []
  },
  {
   "cell_type": "code",
   "execution_count": null,
   "id": "66d81376",
   "metadata": {},
   "outputs": [],
   "source": []
  },
  {
   "cell_type": "code",
   "execution_count": null,
   "id": "68ee2ebd",
   "metadata": {},
   "outputs": [],
   "source": []
  },
  {
   "cell_type": "code",
   "execution_count": null,
   "id": "0eae8adb",
   "metadata": {},
   "outputs": [],
   "source": []
  },
  {
   "cell_type": "code",
   "execution_count": null,
   "id": "c709653e",
   "metadata": {},
   "outputs": [],
   "source": []
  },
  {
   "cell_type": "code",
   "execution_count": null,
   "id": "d309d308",
   "metadata": {},
   "outputs": [],
   "source": []
  },
  {
   "cell_type": "code",
   "execution_count": null,
   "id": "f2d2ed42",
   "metadata": {},
   "outputs": [],
   "source": []
  }
 ],
 "metadata": {
  "kernelspec": {
   "display_name": "Python 3 (ipykernel)",
   "language": "python",
   "name": "python3"
  },
  "language_info": {
   "codemirror_mode": {
    "name": "ipython",
    "version": 3
   },
   "file_extension": ".py",
   "mimetype": "text/x-python",
   "name": "python",
   "nbconvert_exporter": "python",
   "pygments_lexer": "ipython3",
   "version": "3.9.12"
  }
 },
 "nbformat": 4,
 "nbformat_minor": 5
}
