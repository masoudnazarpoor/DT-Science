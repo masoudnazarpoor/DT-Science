{
 "cells": [
  {
   "cell_type": "code",
   "execution_count": 6,
   "id": "06c63dc2",
   "metadata": {},
   "outputs": [],
   "source": [
    "import numpy as np\n",
    "import pandas as pd\n",
    "import time as TM\n",
    "from tensorflow.data import Dataset\n",
    "import tensorflow as tf\n",
    "import os"
   ]
  },
  {
   "cell_type": "code",
   "execution_count": 7,
   "id": "d470b827",
   "metadata": {},
   "outputs": [
    {
     "data": {
      "text/plain": [
       "(36711, 1)"
      ]
     },
     "execution_count": 7,
     "metadata": {},
     "output_type": "execute_result"
    }
   ],
   "source": [
    "DF = pd.read_csv('../../../datasets/sheer/amir_norm.txt', names=['body'], encoding='utf-8')\n",
    "# DF = DF.iloc[:1000,:]\n",
    "DF['body'] = DF['body'].str.strip()\n",
    "DF.shape"
   ]
  },
  {
   "cell_type": "code",
   "execution_count": 8,
   "id": "23f40120",
   "metadata": {},
   "outputs": [],
   "source": [
    "vocabs = sorted(set( DF.loc[:,'body'].str.split('').sum() ))\n",
    "vocabs = list(pd.DataFrame([v for v in vocabs]).dropna()[0])"
   ]
  },
  {
   "cell_type": "code",
   "execution_count": 9,
   "id": "b42c6b56",
   "metadata": {},
   "outputs": [],
   "source": [
    "vocabs_size = len(vocabs)"
   ]
  },
  {
   "cell_type": "code",
   "execution_count": 10,
   "id": "5cb6735b",
   "metadata": {},
   "outputs": [],
   "source": [
    "char2index = {u:i for i,u in enumerate(vocabs)}\n",
    "index2char = np.array(vocabs)"
   ]
  },
  {
   "cell_type": "code",
   "execution_count": 11,
   "id": "79265f34",
   "metadata": {},
   "outputs": [
    {
     "name": "stderr",
     "output_type": "stream",
     "text": [
      "2022-12-25 16:27:26.527254: W tensorflow/compiler/xla/stream_executor/platform/default/dso_loader.cc:64] Could not load dynamic library 'libcuda.so.1'; dlerror: libcuda.so.1: cannot open shared object file: No such file or directory\n",
      "2022-12-25 16:27:26.527885: W tensorflow/compiler/xla/stream_executor/cuda/cuda_driver.cc:265] failed call to cuInit: UNKNOWN ERROR (303)\n",
      "2022-12-25 16:27:26.528033: I tensorflow/compiler/xla/stream_executor/cuda/cuda_diagnostics.cc:169] retrieving CUDA diagnostic information for host: masoud-Aspire-V3-571G\n",
      "2022-12-25 16:27:26.528072: I tensorflow/compiler/xla/stream_executor/cuda/cuda_diagnostics.cc:176] hostname: masoud-Aspire-V3-571G\n",
      "2022-12-25 16:27:26.528265: I tensorflow/compiler/xla/stream_executor/cuda/cuda_diagnostics.cc:200] libcuda reported version is: NOT_FOUND: was unable to find libcuda.so DSO loaded into this program\n",
      "2022-12-25 16:27:26.528415: I tensorflow/compiler/xla/stream_executor/cuda/cuda_diagnostics.cc:204] kernel reported version is: 390.157.0\n"
     ]
    }
   ],
   "source": [
    "DF_ENCODED = DF['body'].apply(lambda x: [char2index[c] for c in x] ).sum()\n",
    "DF_ENCODED_TENSOR = Dataset.from_tensor_slices(DF_ENCODED)"
   ]
  },
  {
   "cell_type": "code",
   "execution_count": 12,
   "id": "b605674c",
   "metadata": {},
   "outputs": [],
   "source": [
    "sequences = DF_ENCODED_TENSOR.batch(150, drop_remainder=True)\n",
    "def preproces(batch):\n",
    "    input_text = batch[:-1]\n",
    "    target_text = batch[1:]\n",
    "    return input_text, target_text\n",
    "sequences = sequences.map(preproces)\n",
    "dataset = sequences.batch(60,drop_remainder=True)\n",
    "batch_input_shape = (dataset.element_spec[0].shape[0], None)"
   ]
  },
  {
   "cell_type": "code",
   "execution_count": 13,
   "id": "25059c2a",
   "metadata": {},
   "outputs": [
    {
     "name": "stdout",
     "output_type": "stream",
     "text": [
      "tf.Tensor(\n",
      "[[ 4  3  1 ... 26  1 12]\n",
      " [14 24 18 ... 30 35 10]\n",
      " [12 13 25 ... 16 10  1]\n",
      " ...\n",
      " [33  5  2 ...  3 22 14]\n",
      " [ 1 27 25 ... 26  1 25]\n",
      " [18 22  3 ...  3 30 27]], shape=(60, 149), dtype=int32)\n"
     ]
    }
   ],
   "source": [
    "for input_text, target_text in dataset.take(1):\n",
    "    print(input_text)"
   ]
  },
  {
   "cell_type": "code",
   "execution_count": 14,
   "id": "a1d35ba1",
   "metadata": {},
   "outputs": [],
   "source": [
    "def build_model(vacabs_size, embedding_dim, batch_input_shape, rnn_unit_count, batch_size,epochs,fitCompile=True):\n",
    "    model = tf.keras.Sequential([\n",
    "        #tf.keras.layers.Embedding(vocabs_size, embedding_dim, batch_input_shape=batch_input_shape),\n",
    "        # tf.keras.layers.GRU(rnn_unit_count, return_sequences=True, stateful=True),\n",
    "\n",
    "        tf.keras.layers.Embedding(vocabs_size, embedding_dim),\n",
    "        tf.keras.layers.GRU(rnn_unit_count, return_sequences=True),\n",
    "        tf.keras.layers.Dense(vacabs_size)\n",
    "    ])\n",
    "    \n",
    "    def loss_f(labels, logits):\n",
    "        return tf.keras.losses.sparse_categorical_crossentropy(labels, logits, from_logits=True)\n",
    "     \n",
    "    if fitCompile:\n",
    "        model.compile(optimizer='adam',loss=loss_f)\n",
    "        checkpoints= tf.keras.callbacks.ModelCheckpoint(\n",
    "            filepath=f'{os.path.abspath(path=\".\")}/poem_checkpointshafez/hafez/hafez',\n",
    "            save_weights_only=True,\n",
    "#             save_freq = 10\n",
    "        )\n",
    "        history = model.fit(dataset, epochs=epochs, callbacks=[checkpoints])\n",
    "        return model, history\n",
    "    else:\n",
    "        return model"
   ]
  },
  {
   "cell_type": "code",
   "execution_count": null,
   "id": "f978146e",
   "metadata": {},
   "outputs": [
    {
     "name": "stdout",
     "output_type": "stream",
     "text": [
      "Epoch 1/10\n",
      "WARNING:tensorflow:Detecting that an object or model or tf.train.Checkpoint is being deleted with unrestored values. See the following logs for the specific values in question. To silence these warnings, use `status.expect_partial()`. See https://www.tensorflow.org/api_docs/python/tf/train/Checkpoint#restorefor details about the status object returned by the restore function.\n",
      "WARNING:tensorflow:Value in checkpoint could not be found in the restored object: (root).optimizer._iterations\n",
      "WARNING:tensorflow:Value in checkpoint could not be found in the restored object: (root).optimizer._learning_rate\n",
      "WARNING:tensorflow:Value in checkpoint could not be found in the restored object: (root).optimizer._variables.1\n",
      "WARNING:tensorflow:Value in checkpoint could not be found in the restored object: (root).optimizer._variables.2\n",
      "WARNING:tensorflow:Value in checkpoint could not be found in the restored object: (root).optimizer._variables.3\n",
      "WARNING:tensorflow:Value in checkpoint could not be found in the restored object: (root).optimizer._variables.4\n",
      "WARNING:tensorflow:Value in checkpoint could not be found in the restored object: (root).optimizer._variables.5\n",
      "WARNING:tensorflow:Value in checkpoint could not be found in the restored object: (root).optimizer._variables.6\n",
      "WARNING:tensorflow:Value in checkpoint could not be found in the restored object: (root).optimizer._variables.7\n",
      "WARNING:tensorflow:Value in checkpoint could not be found in the restored object: (root).optimizer._variables.8\n",
      "WARNING:tensorflow:Value in checkpoint could not be found in the restored object: (root).optimizer._variables.9\n",
      "WARNING:tensorflow:Value in checkpoint could not be found in the restored object: (root).optimizer._variables.10\n",
      "WARNING:tensorflow:Value in checkpoint could not be found in the restored object: (root).optimizer._variables.11\n",
      "WARNING:tensorflow:Value in checkpoint could not be found in the restored object: (root).optimizer._variables.12\n",
      "  1/129 [..............................] - ETA: 9:07 - loss: 3.5858"
     ]
    }
   ],
   "source": [
    "model, history = build_model(vocabs_size,120,batch_input_shape,512,20,10)\n",
    "model.build(tf.TensorShape([1,None]))"
   ]
  },
  {
   "cell_type": "code",
   "execution_count": 28,
   "id": "d35022a5",
   "metadata": {},
   "outputs": [],
   "source": [
    "# model = build_model(vocabs_size,250,batch_input_shape,1024,20,30,False)\n",
    "# model.load_weights(\n",
    "#     tf.train.latest_checkpoint(f'{os.path.abspath(path=\".\")}/poem_checkpointshafez/hafez')\n",
    "# )\n",
    "# model.build(tf.TensorShape([1,None]))"
   ]
  },
  {
   "cell_type": "code",
   "execution_count": 31,
   "id": "9f733cbf",
   "metadata": {},
   "outputs": [
    {
     "name": "stdout",
     "output_type": "stream",
     "text": [
      "جبسخجترغغ تآززتتتتتدمزتزثشززغاظب ث\n",
      "ىتثلذآىغ ززککبااداژکذپمپککردثخژىمخر\n",
      "غجطوىىغک زنقلجققکککغاسذاخپتغکغحپقبهق\n",
      "چگحه غعپخخدچم چمذیذچآغثپقهقصزچحتچخدم\n",
      "ضفزمثییحهعه ستکسحکحثتض ثحتشظذ ززقبسق\n",
      "عپظلگثنررژجظرضوژطژ رثهصبحقضقرعپنا\n",
      "ضغحغفهضظظخپپبظبژظضصذصآتبظحطشخخحت\n",
      "غهشزعخغوغقزذظبذفوبوبغصبوتغذوغثذههذ\n",
      "رىقکغشطژفشطبچطبتخخبراربغآجرنرخآطآآذ\n",
      "کغظدزحلصسفهکضمىحىضهستکسزچپارکظکخهن\n"
     ]
    }
   ],
   "source": [
    "first_string = 'بنگر علم شاه جهان بر سر بالا'\n",
    "input_eval = [char2index[c] for c in first_string]\n",
    "input_eval = tf.expand_dims(input_eval,0)\n",
    "\n",
    "num_generate = 10\n",
    "generated_text = []\n",
    "model.reset_states()\n",
    "\n",
    "for i in range(num_generate):\n",
    "    predicted = model.predict(input_eval,verbose=False)\n",
    "#     predicted = tf.random.categorical(predicted[0], num_samples=1)\n",
    "    predicted = predicted.argmax(axis=1).reshape(-1,1)\n",
    "    predicted_id = tf.squeeze(predicted, axis=-1)[-1].numpy()\n",
    "    input_eval = np.append(input_eval[0],predicted_id)[1:]\n",
    "    predicted = ''.join(index2char[np.reshape(predicted,-1)])\n",
    "    input_eval = [char2index[c] for c in predicted]\n",
    "    input_eval = tf.expand_dims(input_eval,0)\n",
    "    print(predicted)\n"
   ]
  },
  {
   "cell_type": "code",
   "execution_count": null,
   "id": "d640afe8",
   "metadata": {},
   "outputs": [],
   "source": []
  },
  {
   "cell_type": "code",
   "execution_count": null,
   "id": "ab6616e3",
   "metadata": {},
   "outputs": [],
   "source": []
  },
  {
   "cell_type": "code",
   "execution_count": null,
   "id": "6d073f92",
   "metadata": {},
   "outputs": [],
   "source": []
  },
  {
   "cell_type": "code",
   "execution_count": null,
   "id": "d96b08a9",
   "metadata": {},
   "outputs": [],
   "source": []
  },
  {
   "cell_type": "code",
   "execution_count": null,
   "id": "a424048a",
   "metadata": {},
   "outputs": [],
   "source": []
  },
  {
   "cell_type": "code",
   "execution_count": null,
   "id": "e1fe88f7",
   "metadata": {},
   "outputs": [],
   "source": [
    "predicted = model.predict(input_text)\n",
    "predicted = tf.random.categorical(predicted[0], num_samples=1)\n",
    "predicted = tf.squeeze(predicted, axis=-1).numpy()"
   ]
  },
  {
   "cell_type": "code",
   "execution_count": null,
   "id": "932a0df2",
   "metadata": {},
   "outputs": [],
   "source": [
    "''.join(index2char[predicted])"
   ]
  },
  {
   "cell_type": "code",
   "execution_count": null,
   "id": "4227e91d",
   "metadata": {},
   "outputs": [],
   "source": []
  },
  {
   "cell_type": "code",
   "execution_count": null,
   "id": "a986f2a9",
   "metadata": {},
   "outputs": [],
   "source": []
  },
  {
   "cell_type": "code",
   "execution_count": null,
   "id": "93c8955a",
   "metadata": {},
   "outputs": [],
   "source": []
  },
  {
   "cell_type": "code",
   "execution_count": null,
   "id": "c7da8f15",
   "metadata": {},
   "outputs": [],
   "source": []
  },
  {
   "cell_type": "code",
   "execution_count": null,
   "id": "f2f00349",
   "metadata": {},
   "outputs": [],
   "source": []
  },
  {
   "cell_type": "code",
   "execution_count": null,
   "id": "86992017",
   "metadata": {},
   "outputs": [],
   "source": []
  },
  {
   "cell_type": "code",
   "execution_count": null,
   "id": "72313804",
   "metadata": {},
   "outputs": [],
   "source": []
  },
  {
   "cell_type": "code",
   "execution_count": null,
   "id": "61967514",
   "metadata": {},
   "outputs": [],
   "source": []
  },
  {
   "cell_type": "code",
   "execution_count": null,
   "id": "46bc062e",
   "metadata": {},
   "outputs": [],
   "source": []
  },
  {
   "cell_type": "code",
   "execution_count": null,
   "id": "07e51e9e",
   "metadata": {},
   "outputs": [],
   "source": []
  },
  {
   "cell_type": "code",
   "execution_count": null,
   "id": "147eeb24",
   "metadata": {},
   "outputs": [],
   "source": []
  },
  {
   "cell_type": "code",
   "execution_count": null,
   "id": "d8c8bfeb",
   "metadata": {},
   "outputs": [],
   "source": []
  },
  {
   "cell_type": "code",
   "execution_count": null,
   "id": "26b5efe1",
   "metadata": {},
   "outputs": [],
   "source": []
  },
  {
   "cell_type": "code",
   "execution_count": null,
   "id": "c162bceb",
   "metadata": {},
   "outputs": [],
   "source": []
  },
  {
   "cell_type": "code",
   "execution_count": null,
   "id": "3f01e570",
   "metadata": {},
   "outputs": [],
   "source": []
  },
  {
   "cell_type": "code",
   "execution_count": null,
   "id": "783c1bf4",
   "metadata": {},
   "outputs": [],
   "source": []
  },
  {
   "cell_type": "code",
   "execution_count": null,
   "id": "470891f8",
   "metadata": {},
   "outputs": [],
   "source": []
  }
 ],
 "metadata": {
  "kernelspec": {
   "display_name": "Python 3 (ipykernel)",
   "language": "python",
   "name": "python3"
  },
  "language_info": {
   "codemirror_mode": {
    "name": "ipython",
    "version": 3
   },
   "file_extension": ".py",
   "mimetype": "text/x-python",
   "name": "python",
   "nbconvert_exporter": "python",
   "pygments_lexer": "ipython3",
   "version": "3.9.13"
  }
 },
 "nbformat": 4,
 "nbformat_minor": 5
}
