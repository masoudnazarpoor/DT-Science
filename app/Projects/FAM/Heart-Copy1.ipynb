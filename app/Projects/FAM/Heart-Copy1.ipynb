{
 "cells": [
  {
   "cell_type": "code",
   "execution_count": 1,
   "id": "d0e4e8a8",
   "metadata": {},
   "outputs": [
    {
     "name": "stderr",
     "output_type": "stream",
     "text": [
      "2022-12-14 19:40:06.651717: W tensorflow/compiler/xla/stream_executor/platform/default/dso_loader.cc:64] Could not load dynamic library 'libcudart.so.11.0'; dlerror: libcudart.so.11.0: cannot open shared object file: No such file or directory\n",
      "2022-12-14 19:40:06.651748: I tensorflow/compiler/xla/stream_executor/cuda/cudart_stub.cc:29] Ignore above cudart dlerror if you do not have a GPU set up on your machine.\n",
      "2022-12-14 19:40:07.558985: W tensorflow/compiler/xla/stream_executor/platform/default/dso_loader.cc:64] Could not load dynamic library 'libnvinfer.so.7'; dlerror: libnvinfer.so.7: cannot open shared object file: No such file or directory\n",
      "2022-12-14 19:40:07.559097: W tensorflow/compiler/xla/stream_executor/platform/default/dso_loader.cc:64] Could not load dynamic library 'libnvinfer_plugin.so.7'; dlerror: libnvinfer_plugin.so.7: cannot open shared object file: No such file or directory\n",
      "2022-12-14 19:40:07.559108: W tensorflow/compiler/tf2tensorrt/utils/py_utils.cc:38] TF-TRT Warning: Cannot dlopen some TensorRT libraries. If you would like to use Nvidia GPU with TensorRT, please make sure the missing libraries mentioned above are installed properly.\n"
     ]
    }
   ],
   "source": [
    "import pandas as pd\n",
    "import numpy  as np\n",
    "from sklearn.model_selection import train_test_split\n",
    "from sklearn import metrics\n",
    "import random\n",
    "from sklearn.utils import resample\n",
    "from sklearn.ensemble import RandomForestClassifier\n",
    "from sklearn.utils.class_weight import compute_class_weight\n",
    "import tensorflow as tf\n",
    "from tensorflow.keras.models import Model,Sequential,load_model\n",
    "from tensorflow.keras.layers import Input,Dense,Flatten,Embedding,Conv1D,MaxPool1D,concatenate,Dropout\n",
    "from sklearn.preprocessing import LabelEncoder,MinMaxScaler\n",
    "from sklearn.neighbors import LocalOutlierFactor\n",
    "from sklearn.svm import SVC\n",
    "from catboost import CatBoostClassifier\n",
    "from imblearn.under_sampling import RandomUnderSampler "
   ]
  },
  {
   "cell_type": "code",
   "execution_count": 2,
   "id": "607101a5",
   "metadata": {},
   "outputs": [],
   "source": [
    "n = 319795\n",
    "skip = sorted(random.sample(range(1,319795),319795-n))\n",
    "DF = pd.read_csv('../../../datasets/heart_2020_cleaned.csv',skiprows=skip).reset_index(drop=True).rename(\n",
    "columns={'HeartDisease':'target'})"
   ]
  },
  {
   "cell_type": "code",
   "execution_count": 3,
   "id": "76739ff1",
   "metadata": {},
   "outputs": [],
   "source": [
    "TARGET = 'target'\n",
    "NumCols = ['BMI', 'PhysicalHealth', 'MentalHealth', 'SleepTime']\n",
    "CatCols = DF.columns.difference([*NumCols,'target','Race'])\n",
    "DF = DF[[TARGET,*NumCols,*CatCols]]"
   ]
  },
  {
   "cell_type": "code",
   "execution_count": 4,
   "id": "d6a5142e",
   "metadata": {},
   "outputs": [],
   "source": [
    "def label_encoder(DF,cols = []):\n",
    "    DF = DF.copy()\n",
    "    for col in cols:\n",
    "        encoder = LabelEncoder()\n",
    "        DF[col] = encoder.fit_transform(DF[col])\n",
    "    return DF"
   ]
  },
  {
   "cell_type": "markdown",
   "id": "6b3a36b6",
   "metadata": {},
   "source": [
    "# <font color='green'>Label Encoder </font>"
   ]
  },
  {
   "cell_type": "code",
   "execution_count": 5,
   "id": "5e1f02b5",
   "metadata": {},
   "outputs": [],
   "source": [
    "DF = label_encoder(DF,[TARGET,*CatCols])[[TARGET,*NumCols,*CatCols]]"
   ]
  },
  {
   "cell_type": "markdown",
   "id": "2957e12b",
   "metadata": {},
   "source": [
    "# <font color='green'>Scale Numerical Feature</font>"
   ]
  },
  {
   "cell_type": "code",
   "execution_count": 6,
   "id": "12c73747",
   "metadata": {},
   "outputs": [],
   "source": [
    "def feature_scaler(DF,Cols):\n",
    "    DF = DF.copy()\n",
    "    for col in Cols:\n",
    "        ss = MinMaxScaler()\n",
    "        DF[col] = ss.fit_transform(DF[[col]])\n",
    "    return DF"
   ]
  },
  {
   "cell_type": "code",
   "execution_count": 7,
   "id": "cbc1241a",
   "metadata": {},
   "outputs": [],
   "source": [
    "DF = feature_scaler(DF,NumCols)"
   ]
  },
  {
   "cell_type": "markdown",
   "id": "097713a7",
   "metadata": {},
   "source": [
    "# <font color='green'>Train Test Split</font>"
   ]
  },
  {
   "cell_type": "code",
   "execution_count": 8,
   "id": "71e5d5cd",
   "metadata": {},
   "outputs": [],
   "source": [
    "X_train, X_test, Y_train, Y_test = train_test_split(\n",
    "    DF[DF.columns.difference([TARGET])],\n",
    "    DF[TARGET],\n",
    "    test_size=0.2, random_state=42\n",
    ")\n",
    "DF_train = pd.concat([X_train,Y_train],axis=1)"
   ]
  },
  {
   "cell_type": "markdown",
   "id": "1a0e69a1",
   "metadata": {},
   "source": [
    "# <font color='green'>Drop Noise Data</font>"
   ]
  },
  {
   "cell_type": "code",
   "execution_count": 9,
   "id": "79a5878a",
   "metadata": {},
   "outputs": [
    {
     "data": {
      "text/plain": [
       "(255836, 17)"
      ]
     },
     "execution_count": 9,
     "metadata": {},
     "output_type": "execute_result"
    }
   ],
   "source": [
    "DF_train.shape"
   ]
  },
  {
   "cell_type": "code",
   "execution_count": null,
   "id": "d23fd4b3",
   "metadata": {
    "scrolled": true
   },
   "outputs": [],
   "source": [
    "OutlierDetector = LocalOutlierFactor(n_neighbors=int(DF_train.shape[0]/100))\n",
    "Y_predit = OutlierDetector.fit_predict(DF_train[DF_train.columns.difference([TARGET])])\n",
    "print('noise data : '+str(Y_predit[Y_predit==-1].shape[0] / DF_train.shape[0] * 100)+'%') "
   ]
  },
  {
   "cell_type": "code",
   "execution_count": null,
   "id": "c052993a",
   "metadata": {},
   "outputs": [],
   "source": [
    "DF_train['is_noise'] = Y_predit\n",
    "DF_train = DF_train[DF_train['is_noise'] == 1]\n",
    "DF_train = DF_train[DF_train.columns.difference(['is_noise'])]"
   ]
  },
  {
   "cell_type": "code",
   "execution_count": null,
   "id": "4784478e",
   "metadata": {},
   "outputs": [],
   "source": [
    "DF_train.shape"
   ]
  },
  {
   "cell_type": "markdown",
   "id": "9d59e886",
   "metadata": {},
   "source": [
    "# <font color='green'>Handle Imbalanced Data</font>"
   ]
  },
  {
   "cell_type": "code",
   "execution_count": null,
   "id": "674940fd",
   "metadata": {},
   "outputs": [],
   "source": [
    "smoteomek = RandomUnderSampler(random_state=3020)\n",
    "X_train, Y_train = smoteomek.fit_resample(DF_train[DF_train.columns.difference([TARGET])], DF_train[TARGET] )"
   ]
  },
  {
   "cell_type": "code",
   "execution_count": null,
   "id": "780d8d6a",
   "metadata": {},
   "outputs": [],
   "source": [
    "class_weight = dict(enumerate(\n",
    "    compute_class_weight(\n",
    "        class_weight='balanced',\n",
    "        classes=np.unique(Y_train),\n",
    "        y=Y_train\n",
    "    )\n",
    "))\n",
    "class_weight"
   ]
  },
  {
   "cell_type": "markdown",
   "id": "e68440bf",
   "metadata": {},
   "source": [
    "# <font color='green'>Model Evaluation : (Random Forest)</font>"
   ]
  },
  {
   "cell_type": "code",
   "execution_count": null,
   "id": "05dc9fed",
   "metadata": {},
   "outputs": [],
   "source": [
    "model = RandomForestClassifier(\n",
    "    random_state=3020,\n",
    "    max_features=17,\n",
    "#     max_depth=10,\n",
    "    class_weight=class_weight,\n",
    "    verbose=True\n",
    ")\n",
    "model.fit(X_train, Y_train)\n",
    "\n",
    "Y_predicted = model.predict(X_test)\n",
    "print(metrics.classification_report(Y_test,Y_predicted))\n",
    "print(metrics.confusion_matrix(Y_test,Y_predicted))"
   ]
  },
  {
   "cell_type": "code",
   "execution_count": null,
   "id": "1654bad7",
   "metadata": {},
   "outputs": [],
   "source": [
    "model = CatBoostClassifier(\n",
    "#     iterations=200,\n",
    "#     learning_rate=.01,\n",
    "#     depth=16,\n",
    "#     eval_metric='Accuracy',\n",
    "    random_state=3020,\n",
    "#     verbose=False\n",
    "    class_weights=class_weight\n",
    ")\n",
    "model.fit(X_train, Y_train)\n",
    "\n",
    "Y_predicted = model.predict(X_test)\n",
    "print(metrics.classification_report(Y_test,Y_predicted))\n",
    "print(metrics.confusion_matrix(Y_test,Y_predicted))"
   ]
  },
  {
   "cell_type": "markdown",
   "id": "dc01c6c4",
   "metadata": {},
   "source": [
    "# <font color='green'>Model Evaluation : (CNN Deep learning)</font>"
   ]
  },
  {
   "cell_type": "code",
   "execution_count": null,
   "id": "dde8af9f",
   "metadata": {},
   "outputs": [],
   "source": [
    "input1 = Input(shape=(X_train.shape[1],1))\n",
    "flat1 = Flatten()(input1)\n",
    "\n",
    "flatX = concatenate([flat1])\n",
    "dense1 = Dense(50,activation='relu')(flatX)\n",
    "output = Dense(2,activation='softmax')(dense1)\n",
    "\n",
    "model = Model(inputs=[input1],outputs=output)\n",
    "model.compile(\n",
    "    optimizer=tf.keras.optimizers.Adam(0.01),\n",
    "    loss=tf.keras.losses.SparseCategoricalCrossentropy(from_logits=True),\n",
    "    metrics=[tf.keras.metrics.SparseCategoricalAccuracy()]\n",
    ")"
   ]
  },
  {
   "cell_type": "code",
   "execution_count": null,
   "id": "3cea68c4",
   "metadata": {},
   "outputs": [],
   "source": [
    "history = model.fit(\n",
    "    [X_train],\n",
    "    Y_train,\n",
    "    epochs=40,\n",
    "    batch_size=200,\n",
    "    validation_data=([X_test],Y_test),\n",
    "    class_weight=class_weight\n",
    ")"
   ]
  },
  {
   "cell_type": "code",
   "execution_count": null,
   "id": "1d7722e3",
   "metadata": {},
   "outputs": [],
   "source": [
    "Y_predicted = model.predict([X_test])\n",
    "# Y_predicted = [np.argmax(x) for x in Y_predicted]\n",
    "Y_predicted = [1 if x[1]>.4 else 0 for x in Y_predicted]\n",
    "\n",
    "print(metrics.classification_report(Y_test,Y_predicted))\n",
    "print(metrics.confusion_matrix(Y_test,Y_predicted))"
   ]
  },
  {
   "cell_type": "code",
   "execution_count": null,
   "id": "0a0746b9",
   "metadata": {},
   "outputs": [],
   "source": []
  },
  {
   "cell_type": "code",
   "execution_count": null,
   "id": "0fd759eb",
   "metadata": {},
   "outputs": [],
   "source": []
  },
  {
   "cell_type": "code",
   "execution_count": null,
   "id": "3843ae78",
   "metadata": {},
   "outputs": [],
   "source": []
  },
  {
   "cell_type": "code",
   "execution_count": null,
   "id": "ad41a7b9",
   "metadata": {},
   "outputs": [],
   "source": []
  },
  {
   "cell_type": "code",
   "execution_count": null,
   "id": "bac31a02",
   "metadata": {},
   "outputs": [],
   "source": []
  },
  {
   "cell_type": "code",
   "execution_count": null,
   "id": "e9fd593f",
   "metadata": {},
   "outputs": [],
   "source": []
  }
 ],
 "metadata": {
  "kernelspec": {
   "display_name": "Python 3 (ipykernel)",
   "language": "python",
   "name": "python3"
  },
  "language_info": {
   "codemirror_mode": {
    "name": "ipython",
    "version": 3
   },
   "file_extension": ".py",
   "mimetype": "text/x-python",
   "name": "python",
   "nbconvert_exporter": "python",
   "pygments_lexer": "ipython3",
   "version": "3.9.13"
  }
 },
 "nbformat": 4,
 "nbformat_minor": 5
}
