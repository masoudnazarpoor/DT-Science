{
 "cells": [
  {
   "cell_type": "markdown",
   "id": "afdf033c",
   "metadata": {},
   "source": [
    "# Imbalance Data"
   ]
  },
  {
   "cell_type": "code",
   "execution_count": 80,
   "id": "d0e4e8a8",
   "metadata": {},
   "outputs": [],
   "source": [
    "import pandas as pd\n",
    "import numpy  as np\n",
    "import matplotlib.pyplot as PLT\n",
    "from sklearn.model_selection import train_test_split\n",
    "from sklearn.preprocessing import StandardScaler\n",
    "from sklearn.preprocessing import LabelEncoder\n",
    "from sklearn.compose import ColumnTransformer\n",
    "from sklearn.preprocessing import OneHotEncoder\n",
    "from sklearn import metrics\n",
    "import random\n",
    "from sklearn.utils import resample\n",
    "from imblearn.over_sampling import RandomOverSampler\n",
    "import seaborn as SB\n",
    "from sklearn.ensemble import GradientBoostingClassifier\n",
    "from sklearn.ensemble import RandomForestClassifier\n",
    "from sklearn.utils.class_weight import compute_class_weight\n",
    "from tensorflow.keras.utils import to_categorical\n",
    "from sklearn.ensemble import IsolationForest\n",
    "from sklearn.preprocessing import KBinsDiscretizer\n",
    "import tensorflow as tf\n",
    "from tensorflow.keras.models import Model,Sequential,load_model\n",
    "from tensorflow.keras.layers import Input,Dense,Flatten,Embedding,Conv1D,MaxPool1D,concatenate,Dropout\n",
    "from imblearn.under_sampling import TomekLinks\n",
    "from imblearn.over_sampling import SMOTE\n",
    "from imblearn.combine import SMOTETomek"
   ]
  },
  {
   "cell_type": "code",
   "execution_count": 85,
   "id": "607101a5",
   "metadata": {},
   "outputs": [],
   "source": [
    "n = 319795\n",
    "skip = sorted(random.sample(range(1,319795),319795-n))\n",
    "DF = pd.read_csv('../../../datasets/heart_2020_cleaned.csv',skiprows=skip).reset_index().rename(columns={'index':'id'})"
   ]
  },
  {
   "cell_type": "code",
   "execution_count": 86,
   "id": "53dc2fe9",
   "metadata": {},
   "outputs": [],
   "source": [
    "Y_label_encoder = LabelEncoder()\n",
    "DF['HeartDisease'] = Y_label_encoder.fit_transform(DF['HeartDisease'])\n",
    "\n",
    "AgeCategory_label_encoder = LabelEncoder()\n",
    "DF['AgeCategory'] = AgeCategory_label_encoder.fit_transform(DF['AgeCategory'])"
   ]
  },
  {
   "cell_type": "code",
   "execution_count": 87,
   "id": "6cba95a3",
   "metadata": {},
   "outputs": [
    {
     "data": {
      "text/html": [
       "<div>\n",
       "<style scoped>\n",
       "    .dataframe tbody tr th:only-of-type {\n",
       "        vertical-align: middle;\n",
       "    }\n",
       "\n",
       "    .dataframe tbody tr th {\n",
       "        vertical-align: top;\n",
       "    }\n",
       "\n",
       "    .dataframe thead th {\n",
       "        text-align: right;\n",
       "    }\n",
       "</style>\n",
       "<table border=\"1\" class=\"dataframe\">\n",
       "  <thead>\n",
       "    <tr style=\"text-align: right;\">\n",
       "      <th></th>\n",
       "      <th>id</th>\n",
       "      <th>HeartDisease</th>\n",
       "      <th>BMI</th>\n",
       "      <th>Smoking</th>\n",
       "      <th>AlcoholDrinking</th>\n",
       "      <th>Stroke</th>\n",
       "      <th>PhysicalHealth</th>\n",
       "      <th>MentalHealth</th>\n",
       "      <th>DiffWalking</th>\n",
       "      <th>Sex</th>\n",
       "      <th>AgeCategory</th>\n",
       "      <th>Race</th>\n",
       "      <th>Diabetic</th>\n",
       "      <th>PhysicalActivity</th>\n",
       "      <th>GenHealth</th>\n",
       "      <th>SleepTime</th>\n",
       "      <th>Asthma</th>\n",
       "      <th>KidneyDisease</th>\n",
       "      <th>SkinCancer</th>\n",
       "    </tr>\n",
       "  </thead>\n",
       "  <tbody>\n",
       "    <tr>\n",
       "      <th>0</th>\n",
       "      <td>0</td>\n",
       "      <td>0</td>\n",
       "      <td>16.6</td>\n",
       "      <td>Yes</td>\n",
       "      <td>No</td>\n",
       "      <td>No</td>\n",
       "      <td>3.0</td>\n",
       "      <td>30.0</td>\n",
       "      <td>No</td>\n",
       "      <td>Female</td>\n",
       "      <td>7</td>\n",
       "      <td>White</td>\n",
       "      <td>Yes</td>\n",
       "      <td>Yes</td>\n",
       "      <td>Very good</td>\n",
       "      <td>5.0</td>\n",
       "      <td>Yes</td>\n",
       "      <td>No</td>\n",
       "      <td>Yes</td>\n",
       "    </tr>\n",
       "  </tbody>\n",
       "</table>\n",
       "</div>"
      ],
      "text/plain": [
       "   id  HeartDisease   BMI Smoking AlcoholDrinking Stroke  PhysicalHealth  \\\n",
       "0   0             0  16.6     Yes              No     No             3.0   \n",
       "\n",
       "   MentalHealth DiffWalking     Sex  AgeCategory   Race Diabetic  \\\n",
       "0          30.0          No  Female            7  White      Yes   \n",
       "\n",
       "  PhysicalActivity  GenHealth  SleepTime Asthma KidneyDisease SkinCancer  \n",
       "0              Yes  Very good        5.0    Yes            No        Yes  "
      ]
     },
     "execution_count": 87,
     "metadata": {},
     "output_type": "execute_result"
    }
   ],
   "source": [
    "DF.head(1)"
   ]
  },
  {
   "cell_type": "code",
   "execution_count": 88,
   "id": "fec2473d",
   "metadata": {},
   "outputs": [],
   "source": [
    "data_channel_1 = DF[['BMI', 'PhysicalHealth', 'MentalHealth', 'SleepTime','AgeCategory','HeartDisease']]"
   ]
  },
  {
   "cell_type": "code",
   "execution_count": 89,
   "id": "eafd9687",
   "metadata": {
    "scrolled": true
   },
   "outputs": [
    {
     "name": "stderr",
     "output_type": "stream",
     "text": [
      "/tmp/ipykernel_21201/3132656643.py:2: SettingWithCopyWarning: \n",
      "A value is trying to be set on a copy of a slice from a DataFrame.\n",
      "Try using .loc[row_indexer,col_indexer] = value instead\n",
      "\n",
      "See the caveats in the documentation: https://pandas.pydata.org/pandas-docs/stable/user_guide/indexing.html#returning-a-view-versus-a-copy\n",
      "  data_channel_1['BMI'] = est.fit_transform(data_channel_1[['BMI']] )\n",
      "/tmp/ipykernel_21201/3132656643.py:5: SettingWithCopyWarning: \n",
      "A value is trying to be set on a copy of a slice from a DataFrame.\n",
      "Try using .loc[row_indexer,col_indexer] = value instead\n",
      "\n",
      "See the caveats in the documentation: https://pandas.pydata.org/pandas-docs/stable/user_guide/indexing.html#returning-a-view-versus-a-copy\n",
      "  data_channel_1['MentalHealth'] = est.fit_transform(data_channel_1[['MentalHealth']] )\n",
      "/tmp/ipykernel_21201/3132656643.py:8: SettingWithCopyWarning: \n",
      "A value is trying to be set on a copy of a slice from a DataFrame.\n",
      "Try using .loc[row_indexer,col_indexer] = value instead\n",
      "\n",
      "See the caveats in the documentation: https://pandas.pydata.org/pandas-docs/stable/user_guide/indexing.html#returning-a-view-versus-a-copy\n",
      "  data_channel_1['PhysicalHealth'] = est.fit_transform(data_channel_1[['PhysicalHealth']] )\n",
      "/tmp/ipykernel_21201/3132656643.py:11: SettingWithCopyWarning: \n",
      "A value is trying to be set on a copy of a slice from a DataFrame.\n",
      "Try using .loc[row_indexer,col_indexer] = value instead\n",
      "\n",
      "See the caveats in the documentation: https://pandas.pydata.org/pandas-docs/stable/user_guide/indexing.html#returning-a-view-versus-a-copy\n",
      "  data_channel_1['SleepTime'] = est.fit_transform(data_channel_1[['SleepTime']] )\n"
     ]
    }
   ],
   "source": [
    "est = KBinsDiscretizer(n_bins=15, encode='ordinal', strategy='uniform')\n",
    "data_channel_1['BMI'] = est.fit_transform(data_channel_1[['BMI']] )\n",
    "\n",
    "est = KBinsDiscretizer(n_bins=10, encode='ordinal', strategy='uniform')\n",
    "data_channel_1['MentalHealth'] = est.fit_transform(data_channel_1[['MentalHealth']] )\n",
    "\n",
    "est = KBinsDiscretizer(n_bins=10, encode='ordinal', strategy='uniform')\n",
    "data_channel_1['PhysicalHealth'] = est.fit_transform(data_channel_1[['PhysicalHealth']] )\n",
    "\n",
    "est = KBinsDiscretizer(n_bins=12, encode='ordinal', strategy='uniform')\n",
    "data_channel_1['SleepTime'] = est.fit_transform(data_channel_1[['SleepTime']] )"
   ]
  },
  {
   "cell_type": "code",
   "execution_count": 90,
   "id": "b8837685",
   "metadata": {},
   "outputs": [
    {
     "data": {
      "text/plain": [
       "(319795, 6)"
      ]
     },
     "execution_count": 90,
     "metadata": {},
     "output_type": "execute_result"
    }
   ],
   "source": [
    "data_channel_1.shape"
   ]
  },
  {
   "cell_type": "code",
   "execution_count": 91,
   "id": "61bda6ad",
   "metadata": {
    "scrolled": false
   },
   "outputs": [
    {
     "name": "stderr",
     "output_type": "stream",
     "text": [
      "/tmp/ipykernel_21201/3370895886.py:1: SettingWithCopyWarning: \n",
      "A value is trying to be set on a copy of a slice from a DataFrame\n",
      "\n",
      "See the caveats in the documentation: https://pandas.pydata.org/pandas-docs/stable/user_guide/indexing.html#returning-a-view-versus-a-copy\n",
      "  data_channel_1.drop_duplicates(inplace=True)\n"
     ]
    }
   ],
   "source": [
    "data_channel_1.drop_duplicates(inplace=True)"
   ]
  },
  {
   "cell_type": "code",
   "execution_count": 92,
   "id": "23dd56b7",
   "metadata": {},
   "outputs": [
    {
     "data": {
      "text/plain": [
       "0"
      ]
     },
     "execution_count": 92,
     "metadata": {},
     "output_type": "execute_result"
    }
   ],
   "source": [
    "data_channel_1.duplicated().sum()"
   ]
  },
  {
   "cell_type": "code",
   "execution_count": 93,
   "id": "7ec7be8f",
   "metadata": {},
   "outputs": [
    {
     "data": {
      "text/plain": [
       "(21889, 6)"
      ]
     },
     "execution_count": 93,
     "metadata": {},
     "output_type": "execute_result"
    }
   ],
   "source": [
    "data_channel_1.shape"
   ]
  },
  {
   "cell_type": "code",
   "execution_count": 94,
   "id": "d23fd4b3",
   "metadata": {},
   "outputs": [
    {
     "name": "stdout",
     "output_type": "stream",
     "text": [
      "noise data : 68.27173466124538%\n"
     ]
    },
    {
     "name": "stderr",
     "output_type": "stream",
     "text": [
      "/tmp/ipykernel_21201/2818205329.py:3: SettingWithCopyWarning: \n",
      "A value is trying to be set on a copy of a slice from a DataFrame.\n",
      "Try using .loc[row_indexer,col_indexer] = value instead\n",
      "\n",
      "See the caveats in the documentation: https://pandas.pydata.org/pandas-docs/stable/user_guide/indexing.html#returning-a-view-versus-a-copy\n",
      "  data_channel_1['is_noise'] = Y_predit\n"
     ]
    }
   ],
   "source": [
    "isoforest = IsolationForest(n_estimators=3000,max_features=2)\n",
    "Y_predit = isoforest.fit_predict(data_channel_1)\n",
    "data_channel_1['is_noise'] = Y_predit\n",
    "noise_data = data_channel_1[data_channel_1['is_noise'] == -1]\n",
    "print('noise data : '+str(noise_data.shape[0] / data_channel_1.shape[0] * 100)+'%')\n",
    "data_channel_1 = data_channel_1[data_channel_1['is_noise'] == -1]\n",
    "data_channel_1 = data_channel_1[data_channel_1.columns.difference(['is_noise'])]"
   ]
  },
  {
   "cell_type": "code",
   "execution_count": 95,
   "id": "b2e9b34c",
   "metadata": {},
   "outputs": [
    {
     "data": {
      "text/plain": [
       "(14944, 6)"
      ]
     },
     "execution_count": 95,
     "metadata": {},
     "output_type": "execute_result"
    }
   ],
   "source": [
    "data_channel_1.shape"
   ]
  },
  {
   "cell_type": "code",
   "execution_count": 96,
   "id": "71e5d5cd",
   "metadata": {},
   "outputs": [],
   "source": [
    "X_train, X_test, Y_train, Y_test = train_test_split(\n",
    "    data_channel_1[data_channel_1.columns.difference(['HeartDisease'])],\n",
    "    data_channel_1['HeartDisease'],\n",
    "    test_size=0.33, random_state=42\n",
    ")"
   ]
  },
  {
   "cell_type": "code",
   "execution_count": 97,
   "id": "6fb191de",
   "metadata": {},
   "outputs": [
    {
     "data": {
      "text/plain": [
       "(10012, 5)"
      ]
     },
     "execution_count": 97,
     "metadata": {},
     "output_type": "execute_result"
    }
   ],
   "source": [
    "X_train.shape"
   ]
  },
  {
   "cell_type": "code",
   "execution_count": 98,
   "id": "f5892aef",
   "metadata": {},
   "outputs": [],
   "source": [
    "smoteomek = SMOTE()\n",
    "X_train, Y_train  = smoteomek.fit_resample(X_train, Y_train )"
   ]
  },
  {
   "cell_type": "code",
   "execution_count": 99,
   "id": "e6cdef5b",
   "metadata": {},
   "outputs": [
    {
     "data": {
      "text/plain": [
       "(13132, 5)"
      ]
     },
     "execution_count": 99,
     "metadata": {},
     "output_type": "execute_result"
    }
   ],
   "source": [
    "X_train.shape"
   ]
  },
  {
   "cell_type": "code",
   "execution_count": 100,
   "id": "a7fed33b",
   "metadata": {},
   "outputs": [],
   "source": [
    "toml = TomekLinks()\n",
    "X_train, Y_train = toml.fit_resample(X_train, Y_train)"
   ]
  },
  {
   "cell_type": "code",
   "execution_count": 101,
   "id": "c82d7424",
   "metadata": {},
   "outputs": [
    {
     "data": {
      "text/plain": [
       "(12943, 5)"
      ]
     },
     "execution_count": 101,
     "metadata": {},
     "output_type": "execute_result"
    }
   ],
   "source": [
    "X_train.shape"
   ]
  },
  {
   "cell_type": "code",
   "execution_count": 102,
   "id": "6be37321",
   "metadata": {},
   "outputs": [
    {
     "data": {
      "text/plain": [
       "{0: 0.9856076759061834, 1: 1.0148188803512623}"
      ]
     },
     "execution_count": 102,
     "metadata": {},
     "output_type": "execute_result"
    }
   ],
   "source": [
    "class_weight = dict(enumerate(compute_class_weight(class_weight='balanced',classes=np.unique(Y_train),y=Y_train)))\n",
    "class_weight"
   ]
  },
  {
   "cell_type": "code",
   "execution_count": 103,
   "id": "1165fc53",
   "metadata": {
    "scrolled": true
   },
   "outputs": [
    {
     "data": {
      "text/plain": [
       "AgeCategory       0\n",
       "BMI               0\n",
       "MentalHealth      0\n",
       "PhysicalHealth    0\n",
       "SleepTime         0\n",
       "dtype: int64"
      ]
     },
     "execution_count": 103,
     "metadata": {},
     "output_type": "execute_result"
    }
   ],
   "source": [
    "X_train.isna().sum()"
   ]
  },
  {
   "cell_type": "code",
   "execution_count": 104,
   "id": "05dc9fed",
   "metadata": {},
   "outputs": [
    {
     "name": "stdout",
     "output_type": "stream",
     "text": [
      "              precision    recall  f1-score   support\n",
      "\n",
      "           0       0.83      0.76      0.79      3256\n",
      "           1       0.60      0.69      0.64      1676\n",
      "\n",
      "    accuracy                           0.74      4932\n",
      "   macro avg       0.71      0.73      0.72      4932\n",
      "weighted avg       0.75      0.74      0.74      4932\n",
      "\n",
      "[[2474  782]\n",
      " [ 513 1163]]\n"
     ]
    }
   ],
   "source": [
    "model = RandomForestClassifier(\n",
    "    random_state=3020,\n",
    "    n_estimators=500,\n",
    "    max_samples=200,\n",
    "    class_weight=class_weight\n",
    ")\n",
    "model.fit(X_train, Y_train)\n",
    "\n",
    "Y_predicted = model.predict(X_test)\n",
    "print(metrics.classification_report(Y_test,Y_predicted))\n",
    "print(metrics.confusion_matrix(Y_test,Y_predicted))"
   ]
  },
  {
   "cell_type": "code",
   "execution_count": null,
   "id": "8a9bf2f5",
   "metadata": {},
   "outputs": [],
   "source": []
  },
  {
   "cell_type": "code",
   "execution_count": 107,
   "id": "dde8af9f",
   "metadata": {},
   "outputs": [],
   "source": [
    "input1 = Input(shape=(5,1))\n",
    "conv1 = Conv1D(filters=64, kernel_size=3, activation='relu')(input1)\n",
    "maxpool1 = MaxPool1D(pool_size=2)(conv1)\n",
    "flat1 = Flatten()(maxpool1)\n",
    "\n",
    "input2 = Input(shape=(5,1))\n",
    "conv2 = Conv1D(filters=32, kernel_size=2, activation='relu')(input2)\n",
    "maxpool2 = MaxPool1D(pool_size=2)(conv2)\n",
    "flat2 = Flatten()(maxpool2)\n",
    "\n",
    "input3 = Input(shape=(5,1))\n",
    "conv3 = Conv1D(filters=12, kernel_size=1, activation='relu')(input3)\n",
    "maxpool3 = MaxPool1D(pool_size=2)(conv3)\n",
    "flat3 = Flatten()(maxpool3)\n",
    "\n",
    "\n",
    "\n",
    "flatX = concatenate([flat1,flat2,flat3])\n",
    "dense1 = Dense(400,activation='relu')(flatX)\n",
    "dense2 = Dense(200,activation='relu')(dense1)\n",
    "dense3 = Dense(100,activation='relu')(dense2)\n",
    "output = Dense(2,activation='softmax')(dense3)\n",
    "\n",
    "model = Model(inputs=[input1,input2,input3],outputs=output)\n",
    "model.compile(\n",
    "    optimizer=tf.keras.optimizers.Adam(0.001),\n",
    "    loss=tf.keras.losses.SparseCategoricalCrossentropy(from_logits=True),\n",
    "    metrics=[tf.keras.metrics.SparseCategoricalAccuracy()]\n",
    ")"
   ]
  },
  {
   "cell_type": "code",
   "execution_count": 108,
   "id": "3cea68c4",
   "metadata": {},
   "outputs": [
    {
     "name": "stdout",
     "output_type": "stream",
     "text": [
      "Epoch 1/100\n"
     ]
    },
    {
     "name": "stderr",
     "output_type": "stream",
     "text": [
      "/home/masoud/anaconda3/lib/python3.9/site-packages/keras/backend.py:5585: UserWarning: \"`sparse_categorical_crossentropy` received `from_logits=True`, but the `output` argument was produced by a Softmax activation and thus does not represent logits. Was this intended?\n",
      "  output, from_logits = _get_logits(\n"
     ]
    },
    {
     "name": "stdout",
     "output_type": "stream",
     "text": [
      "252/259 [============================>.] - ETA: 0s - loss: 0.6369 - sparse_categorical_accuracy: 0.6394"
     ]
    },
    {
     "name": "stderr",
     "output_type": "stream",
     "text": [
      "/home/masoud/anaconda3/lib/python3.9/site-packages/keras/backend.py:5585: UserWarning: \"`sparse_categorical_crossentropy` received `from_logits=True`, but the `output` argument was produced by a Softmax activation and thus does not represent logits. Was this intended?\n",
      "  output, from_logits = _get_logits(\n"
     ]
    },
    {
     "name": "stdout",
     "output_type": "stream",
     "text": [
      "259/259 [==============================] - 4s 10ms/step - loss: 0.6364 - sparse_categorical_accuracy: 0.6404 - val_loss: 0.6425 - val_sparse_categorical_accuracy: 0.6135\n",
      "Epoch 2/100\n",
      "259/259 [==============================] - 2s 9ms/step - loss: 0.6061 - sparse_categorical_accuracy: 0.6767 - val_loss: 0.6422 - val_sparse_categorical_accuracy: 0.6099\n",
      "Epoch 3/100\n",
      "259/259 [==============================] - 2s 8ms/step - loss: 0.5960 - sparse_categorical_accuracy: 0.6811 - val_loss: 0.5944 - val_sparse_categorical_accuracy: 0.6644\n",
      "Epoch 4/100\n",
      "259/259 [==============================] - 2s 8ms/step - loss: 0.5898 - sparse_categorical_accuracy: 0.6915 - val_loss: 0.6360 - val_sparse_categorical_accuracy: 0.5953\n",
      "Epoch 5/100\n",
      "259/259 [==============================] - 2s 8ms/step - loss: 0.5821 - sparse_categorical_accuracy: 0.6967 - val_loss: 0.6082 - val_sparse_categorical_accuracy: 0.6389\n",
      "Epoch 6/100\n",
      "259/259 [==============================] - 2s 8ms/step - loss: 0.5663 - sparse_categorical_accuracy: 0.7076 - val_loss: 0.5925 - val_sparse_categorical_accuracy: 0.6565\n",
      "Epoch 7/100\n",
      "259/259 [==============================] - 2s 8ms/step - loss: 0.5557 - sparse_categorical_accuracy: 0.7146 - val_loss: 0.5409 - val_sparse_categorical_accuracy: 0.7086\n",
      "Epoch 8/100\n",
      "259/259 [==============================] - 2s 8ms/step - loss: 0.5411 - sparse_categorical_accuracy: 0.7235 - val_loss: 0.5546 - val_sparse_categorical_accuracy: 0.6886\n",
      "Epoch 9/100\n",
      "259/259 [==============================] - 2s 8ms/step - loss: 0.5301 - sparse_categorical_accuracy: 0.7254 - val_loss: 0.5486 - val_sparse_categorical_accuracy: 0.7084\n",
      "Epoch 10/100\n",
      "259/259 [==============================] - 2s 7ms/step - loss: 0.5185 - sparse_categorical_accuracy: 0.7313 - val_loss: 0.5491 - val_sparse_categorical_accuracy: 0.6963\n",
      "Epoch 11/100\n",
      "259/259 [==============================] - 2s 8ms/step - loss: 0.5111 - sparse_categorical_accuracy: 0.7396 - val_loss: 0.5072 - val_sparse_categorical_accuracy: 0.7311\n",
      "Epoch 12/100\n",
      "259/259 [==============================] - 2s 7ms/step - loss: 0.5026 - sparse_categorical_accuracy: 0.7402 - val_loss: 0.5441 - val_sparse_categorical_accuracy: 0.7046\n",
      "Epoch 13/100\n",
      "259/259 [==============================] - 2s 7ms/step - loss: 0.4902 - sparse_categorical_accuracy: 0.7467 - val_loss: 0.5084 - val_sparse_categorical_accuracy: 0.7222\n",
      "Epoch 14/100\n",
      "259/259 [==============================] - 2s 7ms/step - loss: 0.4848 - sparse_categorical_accuracy: 0.7487 - val_loss: 0.4997 - val_sparse_categorical_accuracy: 0.7423\n",
      "Epoch 15/100\n",
      "259/259 [==============================] - 2s 7ms/step - loss: 0.4783 - sparse_categorical_accuracy: 0.7542 - val_loss: 0.4806 - val_sparse_categorical_accuracy: 0.7476\n",
      "Epoch 16/100\n",
      "259/259 [==============================] - 2s 8ms/step - loss: 0.4671 - sparse_categorical_accuracy: 0.7608 - val_loss: 0.5033 - val_sparse_categorical_accuracy: 0.7245\n",
      "Epoch 17/100\n",
      "259/259 [==============================] - 2s 8ms/step - loss: 0.4595 - sparse_categorical_accuracy: 0.7643 - val_loss: 0.5576 - val_sparse_categorical_accuracy: 0.6971\n",
      "Epoch 18/100\n",
      "259/259 [==============================] - 2s 8ms/step - loss: 0.4586 - sparse_categorical_accuracy: 0.7663 - val_loss: 0.4968 - val_sparse_categorical_accuracy: 0.7449\n",
      "Epoch 19/100\n",
      "259/259 [==============================] - 2s 7ms/step - loss: 0.4504 - sparse_categorical_accuracy: 0.7692 - val_loss: 0.5370 - val_sparse_categorical_accuracy: 0.7167\n",
      "Epoch 20/100\n",
      "259/259 [==============================] - 2s 7ms/step - loss: 0.4498 - sparse_categorical_accuracy: 0.7732 - val_loss: 0.5436 - val_sparse_categorical_accuracy: 0.7293\n",
      "Epoch 21/100\n",
      "259/259 [==============================] - 2s 8ms/step - loss: 0.4420 - sparse_categorical_accuracy: 0.7739 - val_loss: 0.4901 - val_sparse_categorical_accuracy: 0.7344\n",
      "Epoch 22/100\n",
      "259/259 [==============================] - 2s 8ms/step - loss: 0.4379 - sparse_categorical_accuracy: 0.7761 - val_loss: 0.5186 - val_sparse_categorical_accuracy: 0.7255\n",
      "Epoch 23/100\n",
      "259/259 [==============================] - 2s 8ms/step - loss: 0.4327 - sparse_categorical_accuracy: 0.7789 - val_loss: 0.4882 - val_sparse_categorical_accuracy: 0.7393\n",
      "Epoch 24/100\n",
      "259/259 [==============================] - 2s 8ms/step - loss: 0.4251 - sparse_categorical_accuracy: 0.7858 - val_loss: 0.5263 - val_sparse_categorical_accuracy: 0.7174\n",
      "Epoch 25/100\n",
      "259/259 [==============================] - 2s 8ms/step - loss: 0.4213 - sparse_categorical_accuracy: 0.7858 - val_loss: 0.4902 - val_sparse_categorical_accuracy: 0.7405\n",
      "Epoch 26/100\n",
      "259/259 [==============================] - 2s 8ms/step - loss: 0.4191 - sparse_categorical_accuracy: 0.7848 - val_loss: 0.4914 - val_sparse_categorical_accuracy: 0.7340\n",
      "Epoch 27/100\n",
      "259/259 [==============================] - 2s 8ms/step - loss: 0.4133 - sparse_categorical_accuracy: 0.7885 - val_loss: 0.5086 - val_sparse_categorical_accuracy: 0.7234\n",
      "Epoch 28/100\n",
      "259/259 [==============================] - 2s 8ms/step - loss: 0.4093 - sparse_categorical_accuracy: 0.7914 - val_loss: 0.5548 - val_sparse_categorical_accuracy: 0.7238\n",
      "Epoch 29/100\n",
      "259/259 [==============================] - 2s 8ms/step - loss: 0.4038 - sparse_categorical_accuracy: 0.7966 - val_loss: 0.4879 - val_sparse_categorical_accuracy: 0.7484\n",
      "Epoch 30/100\n",
      "259/259 [==============================] - 2s 8ms/step - loss: 0.4026 - sparse_categorical_accuracy: 0.7929 - val_loss: 0.5078 - val_sparse_categorical_accuracy: 0.7216\n",
      "Epoch 31/100\n",
      "259/259 [==============================] - 2s 8ms/step - loss: 0.4003 - sparse_categorical_accuracy: 0.8001 - val_loss: 0.5120 - val_sparse_categorical_accuracy: 0.7232\n",
      "Epoch 32/100\n",
      "259/259 [==============================] - 2s 8ms/step - loss: 0.3964 - sparse_categorical_accuracy: 0.7990 - val_loss: 0.5425 - val_sparse_categorical_accuracy: 0.7109\n",
      "Epoch 33/100\n",
      "259/259 [==============================] - 2s 8ms/step - loss: 0.3945 - sparse_categorical_accuracy: 0.8009 - val_loss: 0.5271 - val_sparse_categorical_accuracy: 0.7226\n",
      "Epoch 34/100\n",
      "259/259 [==============================] - 2s 8ms/step - loss: 0.3898 - sparse_categorical_accuracy: 0.8000 - val_loss: 0.5321 - val_sparse_categorical_accuracy: 0.7214\n",
      "Epoch 35/100\n",
      "259/259 [==============================] - 2s 8ms/step - loss: 0.3801 - sparse_categorical_accuracy: 0.8095 - val_loss: 0.5217 - val_sparse_categorical_accuracy: 0.7234\n",
      "Epoch 36/100\n",
      "259/259 [==============================] - 2s 8ms/step - loss: 0.3751 - sparse_categorical_accuracy: 0.8076 - val_loss: 0.5624 - val_sparse_categorical_accuracy: 0.6987\n",
      "Epoch 37/100\n",
      "259/259 [==============================] - 2s 8ms/step - loss: 0.3752 - sparse_categorical_accuracy: 0.8104 - val_loss: 0.5335 - val_sparse_categorical_accuracy: 0.7342\n",
      "Epoch 38/100\n",
      "259/259 [==============================] - 2s 8ms/step - loss: 0.3722 - sparse_categorical_accuracy: 0.8126 - val_loss: 0.5646 - val_sparse_categorical_accuracy: 0.7131\n",
      "Epoch 39/100\n",
      "259/259 [==============================] - 2s 8ms/step - loss: 0.3731 - sparse_categorical_accuracy: 0.8105 - val_loss: 0.5620 - val_sparse_categorical_accuracy: 0.7180\n",
      "Epoch 40/100\n",
      "259/259 [==============================] - 2s 8ms/step - loss: 0.3637 - sparse_categorical_accuracy: 0.8165 - val_loss: 0.5558 - val_sparse_categorical_accuracy: 0.7328\n",
      "Epoch 41/100\n",
      "259/259 [==============================] - 2s 8ms/step - loss: 0.3639 - sparse_categorical_accuracy: 0.8178 - val_loss: 0.5505 - val_sparse_categorical_accuracy: 0.7123\n",
      "Epoch 42/100\n",
      "259/259 [==============================] - 2s 8ms/step - loss: 0.3578 - sparse_categorical_accuracy: 0.8161 - val_loss: 0.5475 - val_sparse_categorical_accuracy: 0.7214\n",
      "Epoch 43/100\n",
      "259/259 [==============================] - 2s 8ms/step - loss: 0.3557 - sparse_categorical_accuracy: 0.8206 - val_loss: 0.5537 - val_sparse_categorical_accuracy: 0.7283\n",
      "Epoch 44/100\n",
      "259/259 [==============================] - 2s 8ms/step - loss: 0.3534 - sparse_categorical_accuracy: 0.8221 - val_loss: 0.5706 - val_sparse_categorical_accuracy: 0.7107\n",
      "Epoch 45/100\n",
      "259/259 [==============================] - 2s 8ms/step - loss: 0.3522 - sparse_categorical_accuracy: 0.8242 - val_loss: 0.6007 - val_sparse_categorical_accuracy: 0.7046\n",
      "Epoch 46/100\n"
     ]
    },
    {
     "name": "stdout",
     "output_type": "stream",
     "text": [
      "259/259 [==============================] - 2s 8ms/step - loss: 0.3485 - sparse_categorical_accuracy: 0.8224 - val_loss: 0.6164 - val_sparse_categorical_accuracy: 0.7180\n",
      "Epoch 47/100\n",
      "259/259 [==============================] - 2s 8ms/step - loss: 0.3403 - sparse_categorical_accuracy: 0.8267 - val_loss: 0.5636 - val_sparse_categorical_accuracy: 0.7249\n",
      "Epoch 48/100\n",
      "259/259 [==============================] - 2s 8ms/step - loss: 0.3409 - sparse_categorical_accuracy: 0.8279 - val_loss: 0.5751 - val_sparse_categorical_accuracy: 0.7218\n",
      "Epoch 49/100\n",
      "259/259 [==============================] - 2s 8ms/step - loss: 0.3400 - sparse_categorical_accuracy: 0.8270 - val_loss: 0.5567 - val_sparse_categorical_accuracy: 0.7378\n",
      "Epoch 50/100\n",
      "259/259 [==============================] - 2s 8ms/step - loss: 0.3353 - sparse_categorical_accuracy: 0.8320 - val_loss: 0.6026 - val_sparse_categorical_accuracy: 0.7180\n",
      "Epoch 51/100\n",
      "259/259 [==============================] - 2s 8ms/step - loss: 0.3333 - sparse_categorical_accuracy: 0.8339 - val_loss: 0.5813 - val_sparse_categorical_accuracy: 0.7322\n",
      "Epoch 52/100\n",
      "259/259 [==============================] - 2s 8ms/step - loss: 0.3357 - sparse_categorical_accuracy: 0.8335 - val_loss: 0.5842 - val_sparse_categorical_accuracy: 0.7188\n",
      "Epoch 53/100\n",
      "259/259 [==============================] - 2s 8ms/step - loss: 0.3340 - sparse_categorical_accuracy: 0.8310 - val_loss: 0.6102 - val_sparse_categorical_accuracy: 0.7086\n",
      "Epoch 54/100\n",
      "259/259 [==============================] - 2s 8ms/step - loss: 0.3270 - sparse_categorical_accuracy: 0.8333 - val_loss: 0.5720 - val_sparse_categorical_accuracy: 0.7228\n",
      "Epoch 55/100\n",
      "259/259 [==============================] - 2s 8ms/step - loss: 0.3204 - sparse_categorical_accuracy: 0.8394 - val_loss: 0.6092 - val_sparse_categorical_accuracy: 0.7176\n",
      "Epoch 56/100\n",
      "259/259 [==============================] - 2s 8ms/step - loss: 0.3201 - sparse_categorical_accuracy: 0.8381 - val_loss: 0.6481 - val_sparse_categorical_accuracy: 0.7234\n",
      "Epoch 57/100\n",
      "259/259 [==============================] - 2s 8ms/step - loss: 0.3176 - sparse_categorical_accuracy: 0.8428 - val_loss: 0.6492 - val_sparse_categorical_accuracy: 0.7139\n",
      "Epoch 58/100\n",
      "259/259 [==============================] - 2s 8ms/step - loss: 0.3146 - sparse_categorical_accuracy: 0.8442 - val_loss: 0.6101 - val_sparse_categorical_accuracy: 0.7238\n",
      "Epoch 59/100\n",
      "259/259 [==============================] - 2s 8ms/step - loss: 0.3159 - sparse_categorical_accuracy: 0.8422 - val_loss: 0.6190 - val_sparse_categorical_accuracy: 0.7247\n",
      "Epoch 60/100\n",
      "259/259 [==============================] - 2s 8ms/step - loss: 0.3117 - sparse_categorical_accuracy: 0.8439 - val_loss: 0.6315 - val_sparse_categorical_accuracy: 0.7155\n",
      "Epoch 61/100\n",
      "259/259 [==============================] - 2s 8ms/step - loss: 0.3116 - sparse_categorical_accuracy: 0.8456 - val_loss: 0.6133 - val_sparse_categorical_accuracy: 0.7072\n",
      "Epoch 62/100\n",
      "259/259 [==============================] - 2s 8ms/step - loss: 0.3075 - sparse_categorical_accuracy: 0.8469 - val_loss: 0.6313 - val_sparse_categorical_accuracy: 0.7188\n",
      "Epoch 63/100\n",
      "259/259 [==============================] - 2s 8ms/step - loss: 0.2998 - sparse_categorical_accuracy: 0.8530 - val_loss: 0.6557 - val_sparse_categorical_accuracy: 0.7143\n",
      "Epoch 64/100\n",
      "259/259 [==============================] - 2s 8ms/step - loss: 0.3044 - sparse_categorical_accuracy: 0.8487 - val_loss: 0.6358 - val_sparse_categorical_accuracy: 0.7082\n",
      "Epoch 65/100\n",
      "259/259 [==============================] - 2s 8ms/step - loss: 0.3020 - sparse_categorical_accuracy: 0.8509 - val_loss: 0.6578 - val_sparse_categorical_accuracy: 0.7232\n",
      "Epoch 66/100\n",
      "259/259 [==============================] - 2s 8ms/step - loss: 0.2983 - sparse_categorical_accuracy: 0.8497 - val_loss: 0.6537 - val_sparse_categorical_accuracy: 0.7295\n",
      "Epoch 67/100\n",
      "259/259 [==============================] - 2s 8ms/step - loss: 0.2944 - sparse_categorical_accuracy: 0.8500 - val_loss: 0.6697 - val_sparse_categorical_accuracy: 0.7125\n",
      "Epoch 68/100\n",
      "259/259 [==============================] - 2s 8ms/step - loss: 0.3005 - sparse_categorical_accuracy: 0.8493 - val_loss: 0.6878 - val_sparse_categorical_accuracy: 0.7186\n",
      "Epoch 69/100\n",
      "259/259 [==============================] - 2s 8ms/step - loss: 0.2935 - sparse_categorical_accuracy: 0.8555 - val_loss: 0.6684 - val_sparse_categorical_accuracy: 0.7135\n",
      "Epoch 70/100\n",
      "259/259 [==============================] - 2s 8ms/step - loss: 0.2895 - sparse_categorical_accuracy: 0.8576 - val_loss: 0.6931 - val_sparse_categorical_accuracy: 0.7074\n",
      "Epoch 71/100\n",
      "259/259 [==============================] - 2s 8ms/step - loss: 0.2872 - sparse_categorical_accuracy: 0.8561 - val_loss: 0.6873 - val_sparse_categorical_accuracy: 0.7078\n",
      "Epoch 72/100\n",
      "259/259 [==============================] - 2s 8ms/step - loss: 0.2902 - sparse_categorical_accuracy: 0.8532 - val_loss: 0.6893 - val_sparse_categorical_accuracy: 0.7236\n",
      "Epoch 73/100\n",
      "259/259 [==============================] - 2s 8ms/step - loss: 0.2852 - sparse_categorical_accuracy: 0.8612 - val_loss: 0.6905 - val_sparse_categorical_accuracy: 0.6999\n",
      "Epoch 74/100\n",
      "259/259 [==============================] - 2s 8ms/step - loss: 0.2868 - sparse_categorical_accuracy: 0.8551 - val_loss: 0.7172 - val_sparse_categorical_accuracy: 0.7147\n",
      "Epoch 75/100\n",
      "259/259 [==============================] - 2s 8ms/step - loss: 0.2817 - sparse_categorical_accuracy: 0.8612 - val_loss: 0.7154 - val_sparse_categorical_accuracy: 0.7088\n",
      "Epoch 76/100\n",
      "259/259 [==============================] - 2s 8ms/step - loss: 0.2796 - sparse_categorical_accuracy: 0.8615 - val_loss: 0.7019 - val_sparse_categorical_accuracy: 0.6908\n",
      "Epoch 77/100\n",
      "259/259 [==============================] - 2s 8ms/step - loss: 0.2791 - sparse_categorical_accuracy: 0.8629 - val_loss: 0.7570 - val_sparse_categorical_accuracy: 0.7131\n",
      "Epoch 78/100\n",
      "259/259 [==============================] - 2s 8ms/step - loss: 0.2849 - sparse_categorical_accuracy: 0.8587 - val_loss: 0.7269 - val_sparse_categorical_accuracy: 0.7172\n",
      "Epoch 79/100\n",
      "259/259 [==============================] - 2s 8ms/step - loss: 0.2778 - sparse_categorical_accuracy: 0.8626 - val_loss: 0.7185 - val_sparse_categorical_accuracy: 0.7054\n",
      "Epoch 80/100\n",
      "259/259 [==============================] - 2s 8ms/step - loss: 0.2705 - sparse_categorical_accuracy: 0.8670 - val_loss: 0.7178 - val_sparse_categorical_accuracy: 0.7182\n",
      "Epoch 81/100\n",
      "259/259 [==============================] - 2s 8ms/step - loss: 0.2753 - sparse_categorical_accuracy: 0.8633 - val_loss: 0.7602 - val_sparse_categorical_accuracy: 0.7084\n",
      "Epoch 82/100\n",
      "259/259 [==============================] - 2s 8ms/step - loss: 0.2660 - sparse_categorical_accuracy: 0.8683 - val_loss: 0.7515 - val_sparse_categorical_accuracy: 0.7021\n",
      "Epoch 83/100\n",
      "259/259 [==============================] - 2s 8ms/step - loss: 0.2732 - sparse_categorical_accuracy: 0.8639 - val_loss: 0.7647 - val_sparse_categorical_accuracy: 0.7056\n",
      "Epoch 84/100\n",
      "259/259 [==============================] - 2s 8ms/step - loss: 0.2824 - sparse_categorical_accuracy: 0.8624 - val_loss: 0.7450 - val_sparse_categorical_accuracy: 0.7019\n",
      "Epoch 85/100\n",
      "259/259 [==============================] - 2s 8ms/step - loss: 0.2672 - sparse_categorical_accuracy: 0.8685 - val_loss: 0.7868 - val_sparse_categorical_accuracy: 0.7076\n",
      "Epoch 86/100\n",
      "259/259 [==============================] - 2s 8ms/step - loss: 0.2651 - sparse_categorical_accuracy: 0.8676 - val_loss: 0.7966 - val_sparse_categorical_accuracy: 0.7090\n",
      "Epoch 87/100\n",
      "259/259 [==============================] - 2s 8ms/step - loss: 0.2647 - sparse_categorical_accuracy: 0.8691 - val_loss: 0.8062 - val_sparse_categorical_accuracy: 0.7048\n",
      "Epoch 88/100\n",
      "259/259 [==============================] - 2s 8ms/step - loss: 0.2586 - sparse_categorical_accuracy: 0.8738 - val_loss: 0.8120 - val_sparse_categorical_accuracy: 0.6991\n",
      "Epoch 89/100\n",
      "259/259 [==============================] - 2s 8ms/step - loss: 0.2662 - sparse_categorical_accuracy: 0.8697 - val_loss: 0.7658 - val_sparse_categorical_accuracy: 0.6880\n",
      "Epoch 90/100\n",
      "259/259 [==============================] - 2s 8ms/step - loss: 0.2562 - sparse_categorical_accuracy: 0.8755 - val_loss: 0.7623 - val_sparse_categorical_accuracy: 0.7011\n",
      "Epoch 91/100\n"
     ]
    },
    {
     "name": "stdout",
     "output_type": "stream",
     "text": [
      "259/259 [==============================] - 2s 8ms/step - loss: 0.2582 - sparse_categorical_accuracy: 0.8731 - val_loss: 0.7855 - val_sparse_categorical_accuracy: 0.7111\n",
      "Epoch 92/100\n",
      "259/259 [==============================] - 2s 8ms/step - loss: 0.2567 - sparse_categorical_accuracy: 0.8741 - val_loss: 0.8449 - val_sparse_categorical_accuracy: 0.6932\n",
      "Epoch 93/100\n",
      "259/259 [==============================] - 2s 8ms/step - loss: 0.2609 - sparse_categorical_accuracy: 0.8727 - val_loss: 0.8077 - val_sparse_categorical_accuracy: 0.7064\n",
      "Epoch 94/100\n",
      "259/259 [==============================] - 2s 8ms/step - loss: 0.2590 - sparse_categorical_accuracy: 0.8731 - val_loss: 0.8121 - val_sparse_categorical_accuracy: 0.6924\n",
      "Epoch 95/100\n",
      "259/259 [==============================] - 2s 8ms/step - loss: 0.2536 - sparse_categorical_accuracy: 0.8756 - val_loss: 0.8092 - val_sparse_categorical_accuracy: 0.6971\n",
      "Epoch 96/100\n",
      "259/259 [==============================] - 2s 8ms/step - loss: 0.2527 - sparse_categorical_accuracy: 0.8779 - val_loss: 0.8636 - val_sparse_categorical_accuracy: 0.7056\n",
      "Epoch 97/100\n",
      "259/259 [==============================] - 2s 8ms/step - loss: 0.2502 - sparse_categorical_accuracy: 0.8765 - val_loss: 0.8324 - val_sparse_categorical_accuracy: 0.7040\n",
      "Epoch 98/100\n",
      "259/259 [==============================] - 2s 8ms/step - loss: 0.2491 - sparse_categorical_accuracy: 0.8786 - val_loss: 0.8113 - val_sparse_categorical_accuracy: 0.7050\n",
      "Epoch 99/100\n",
      "259/259 [==============================] - 2s 8ms/step - loss: 0.2512 - sparse_categorical_accuracy: 0.8761 - val_loss: 0.8311 - val_sparse_categorical_accuracy: 0.6882\n",
      "Epoch 100/100\n",
      "259/259 [==============================] - 2s 8ms/step - loss: 0.2527 - sparse_categorical_accuracy: 0.8772 - val_loss: 0.8825 - val_sparse_categorical_accuracy: 0.7030\n"
     ]
    }
   ],
   "source": [
    "history = model.fit(\n",
    "    [X_train,X_train,X_train],\n",
    "    Y_train,\n",
    "    epochs=100,\n",
    "    batch_size=50,\n",
    "    validation_data=([X_test,X_test,X_test],Y_test),\n",
    "    class_weight=class_weight\n",
    ")"
   ]
  },
  {
   "cell_type": "code",
   "execution_count": 114,
   "id": "1d7722e3",
   "metadata": {},
   "outputs": [
    {
     "name": "stdout",
     "output_type": "stream",
     "text": [
      "155/155 [==============================] - 1s 3ms/step\n",
      "              precision    recall  f1-score   support\n",
      "\n",
      "           0       0.81      0.67      0.73      3256\n",
      "           1       0.52      0.70      0.60      1676\n",
      "\n",
      "    accuracy                           0.68      4932\n",
      "   macro avg       0.67      0.68      0.67      4932\n",
      "weighted avg       0.71      0.68      0.69      4932\n",
      "\n",
      "[[2182 1074]\n",
      " [ 506 1170]]\n"
     ]
    }
   ],
   "source": [
    "Y_predicted = model.predict([X_test,X_test,X_test])\n",
    "# Y_predicted = [np.argmax(x) for x in Y_predicted]\n",
    "Y_predicted = [1 if x[1]>.3 else 0 for x in Y_predicted]\n",
    "\n",
    "print(metrics.classification_report(Y_test,Y_predicted))\n",
    "print(metrics.confusion_matrix(Y_test,Y_predicted))"
   ]
  },
  {
   "cell_type": "code",
   "execution_count": 109,
   "id": "d232879f",
   "metadata": {},
   "outputs": [
    {
     "data": {
      "text/plain": [
       "[<matplotlib.lines.Line2D at 0x7fb30524f5b0>]"
      ]
     },
     "execution_count": 109,
     "metadata": {},
     "output_type": "execute_result"
    },
    {
     "data": {
      "image/png": "[encoded data removed]",
      "text/plain": [
       "<Figure size 640x480 with 1 Axes>"
      ]
     },
     "metadata": {},
     "output_type": "display_data"
    }
   ],
   "source": [
    "PLT.plot(history.history['sparse_categorical_accuracy'],color='green')\n",
    "PLT.plot(history.history['val_sparse_categorical_accuracy'],color='blue')"
   ]
  },
  {
   "cell_type": "code",
   "execution_count": null,
   "id": "0a0746b9",
   "metadata": {},
   "outputs": [],
   "source": []
  },
  {
   "cell_type": "code",
   "execution_count": null,
   "id": "0fd759eb",
   "metadata": {},
   "outputs": [],
   "source": []
  },
  {
   "cell_type": "code",
   "execution_count": null,
   "id": "3843ae78",
   "metadata": {},
   "outputs": [],
   "source": []
  },
  {
   "cell_type": "code",
   "execution_count": null,
   "id": "ad41a7b9",
   "metadata": {},
   "outputs": [],
   "source": []
  },
  {
   "cell_type": "code",
   "execution_count": null,
   "id": "bac31a02",
   "metadata": {},
   "outputs": [],
   "source": []
  },
  {
   "cell_type": "code",
   "execution_count": null,
   "id": "e9fd593f",
   "metadata": {},
   "outputs": [],
   "source": []
  }
 ],
 "metadata": {
  "kernelspec": {
   "display_name": "Python 3 (ipykernel)",
   "language": "python",
   "name": "python3"
  },
  "language_info": {
   "codemirror_mode": {
    "name": "ipython",
    "version": 3
   },
   "file_extension": ".py",
   "mimetype": "text/x-python",
   "name": "python",
   "nbconvert_exporter": "python",
   "pygments_lexer": "ipython3",
   "version": "3.9.13"
  }
 },
 "nbformat": 4,
 "nbformat_minor": 5
}
